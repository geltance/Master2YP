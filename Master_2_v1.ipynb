{
 "cells": [
  {
   "cell_type": "markdown",
   "id": "9458311d-d89d-4d35-ac68-03c0dd8b6e9c",
   "metadata": {},
   "source": [
    "# Введение"
   ]
  },
  {
   "cell_type": "markdown",
   "id": "0afd8e25-dbce-4072-ace0-3636ce7f78e3",
   "metadata": {},
   "source": [
    "## Название проекта"
   ]
  },
  {
   "cell_type": "markdown",
   "id": "2cca2425-2856-4ab2-ade4-61e660a07ec0",
   "metadata": {},
   "source": [
    "\"Кто нас посетит в течении 90 дней?\""
   ]
  },
  {
   "cell_type": "markdown",
   "id": "5a08ddc2-3fe0-45d8-83f9-2334a34cc581",
   "metadata": {},
   "source": [
    "## Цель работы"
   ]
  },
  {
   "cell_type": "markdown",
   "id": "09daf3a5-d901-4bf4-a44d-1952fe256884",
   "metadata": {},
   "source": [
    "Предсказать вероятность покупки в течение 90 дней"
   ]
  },
  {
   "cell_type": "markdown",
   "id": "6ac18d5c-8e84-49d6-bb76-0f4828f00416",
   "metadata": {},
   "source": [
    "## Цель работы план работы"
   ]
  },
  {
   "cell_type": "markdown",
   "id": "f9b54523-10e9-4d23-9a1a-677aa0615df1",
   "metadata": {},
   "source": [
    "● Изучить данные\n",
    "\n",
    "● Разработать полезные признаки\n",
    "\n",
    "● Создать модель для классификации пользователей\n",
    "\n",
    "● Улучшить модель и максимизировать метрику roc_auc\n",
    "\n",
    "● Выполнить тестирование"
   ]
  },
  {
   "cell_type": "markdown",
   "id": "7aa744e8-48b5-4364-ab8c-dfabfe33779a",
   "metadata": {},
   "source": [
    "## Описание данных"
   ]
  },
  {
   "cell_type": "markdown",
   "id": "8e0efd86-09c4-4eb8-91eb-8774c1be08ba",
   "metadata": {},
   "source": [
    "apparel-purchases история покупок\n",
    "\n",
    "● client_id идентификатор пользователя\n",
    "\n",
    "● quantity количество товаров в заказе\n",
    "\n",
    "● price цена товара\n",
    "\n",
    "● category_ids вложенные категории, к которым отнсится товар\n",
    "\n",
    "● date дата покупки\n",
    "\n",
    "● message_id идентификатор сообщения из рассылки\n",
    "\n",
    "apparel-messages история рекламных рассылок\n",
    "\n",
    "● bulk_campaign_id идентификатор рекламной кампании\n",
    "\n",
    "● client_id идентификатор пользователя\n",
    "\n",
    "● message_id идентификатор сообщений\n",
    "\n",
    "● event тип действия\n",
    "\n",
    "● channel канал рассылки\n",
    "\n",
    "● date дата рассылки\n",
    "\n",
    "● created_at точное время создания сообщения\n",
    "\n",
    "apparel-target_binary совершит ли клиент покупку в течение следующих 90 дней\n",
    "\n",
    "● client_id идентификатор пользователя\n",
    "\n",
    "● target целевой признак\n"
   ]
  },
  {
   "cell_type": "markdown",
   "id": "b13318e0-d3c4-4ae2-ac9c-1c8701a41383",
   "metadata": {},
   "source": [
    "# Обзор данных из файла"
   ]
  },
  {
   "cell_type": "markdown",
   "id": "87c3ba60-9c86-41eb-b822-9386aae4569f",
   "metadata": {},
   "source": [
    "## Загрузка библиотек"
   ]
  },
  {
   "cell_type": "code",
   "execution_count": 12,
   "id": "141136e8-d9c8-4b08-9292-44b2fe2cb756",
   "metadata": {},
   "outputs": [],
   "source": [
    "import pandas as pd\n",
    "import numpy as np\n",
    "import matplotlib.pyplot as plt\n",
    "import ast\n",
    "from sklearn.metrics import jaccard_score\n",
    "from sklearn.cluster import AgglomerativeClustering\n",
    "import seaborn as sns\n",
    "from sklearn.compose import ColumnTransformer\n",
    "from sklearn.pipeline import Pipeline\n",
    "from sklearn.impute import SimpleImputer\n",
    "RANDOM_STATE = 42\n",
    "from sklearn.model_selection import train_test_split\n",
    "from sklearn.impute import SimpleImputer\n",
    "from sklearn.preprocessing import StandardScaler, MinMaxScaler, OneHotEncoder, PolynomialFeatures, OrdinalEncoder\n",
    "from sklearn.pipeline import Pipeline\n",
    "from sklearn.compose import ColumnTransformer\n",
    "from sklearn.tree import DecisionTreeClassifier\n",
    "from sklearn.linear_model import LogisticRegression\n",
    "from sklearn.neighbors import KNeighborsClassifier\n",
    "from sklearn.svm import SVC\n",
    "from sklearn.ensemble import RandomForestClassifier, GradientBoostingClassifier, ExtraTreesClassifier\n",
    "from lightgbm import LGBMClassifier\n",
    "from catboost import CatBoostClassifier\n",
    "from sklearn.model_selection import GridSearchCV\n",
    "from sklearn.model_selection import RandomizedSearchCV\n",
    "from sklearn.metrics import confusion_matrix, ConfusionMatrixDisplay\n",
    "from lightgbm import LGBMClassifier\n"
   ]
  },
  {
   "cell_type": "markdown",
   "id": "59abf050-3a22-4eca-a0a9-eec15cd4a56f",
   "metadata": {},
   "source": [
    "## Загрузка файлов"
   ]
  },
  {
   "cell_type": "code",
   "execution_count": 14,
   "id": "266e53c0-b27b-41c3-b05c-921bbd55ef8f",
   "metadata": {},
   "outputs": [],
   "source": [
    "purchases = pd.read_csv(r\"C:\\Users\\levle\\OneDrive\\Documents\\Yandex_Practicum_main\\Master2\\filtered_data\\apparel-purchases.csv\", sep=',')"
   ]
  },
  {
   "cell_type": "code",
   "execution_count": 15,
   "id": "db732d7e-3d31-4edc-9b18-baa060fee7c2",
   "metadata": {},
   "outputs": [],
   "source": [
    "messages = pd.read_csv(r\"C:\\Users\\levle\\OneDrive\\Documents\\Yandex_Practicum_main\\Master2\\filtered_data\\apparel-messages.csv\", sep=',')"
   ]
  },
  {
   "cell_type": "code",
   "execution_count": 16,
   "id": "53db0279-e745-4087-a7b7-156e4bdbd992",
   "metadata": {},
   "outputs": [],
   "source": [
    "target = pd.read_csv(r\"C:\\Users\\levle\\OneDrive\\Documents\\Yandex_Practicum_main\\Master2\\filtered_data\\apparel-target_binary.csv\", sep=',')"
   ]
  },
  {
   "cell_type": "code",
   "execution_count": 17,
   "id": "7fb6b3eb-0cc4-4afc-a4ea-230408a12338",
   "metadata": {},
   "outputs": [
    {
     "data": {
      "text/html": [
       "<div>\n",
       "<style scoped>\n",
       "    .dataframe tbody tr th:only-of-type {\n",
       "        vertical-align: middle;\n",
       "    }\n",
       "\n",
       "    .dataframe tbody tr th {\n",
       "        vertical-align: top;\n",
       "    }\n",
       "\n",
       "    .dataframe thead th {\n",
       "        text-align: right;\n",
       "    }\n",
       "</style>\n",
       "<table border=\"1\" class=\"dataframe\">\n",
       "  <thead>\n",
       "    <tr style=\"text-align: right;\">\n",
       "      <th></th>\n",
       "      <th>client_id</th>\n",
       "      <th>quantity</th>\n",
       "      <th>price</th>\n",
       "      <th>category_ids</th>\n",
       "      <th>date</th>\n",
       "      <th>message_id</th>\n",
       "    </tr>\n",
       "  </thead>\n",
       "  <tbody>\n",
       "    <tr>\n",
       "      <th>0</th>\n",
       "      <td>1515915625468169594</td>\n",
       "      <td>1</td>\n",
       "      <td>1999.0</td>\n",
       "      <td>['4', '28', '57', '431']</td>\n",
       "      <td>2022-05-16</td>\n",
       "      <td>1515915625468169594-4301-627b661e9736d</td>\n",
       "    </tr>\n",
       "    <tr>\n",
       "      <th>1</th>\n",
       "      <td>1515915625468169594</td>\n",
       "      <td>1</td>\n",
       "      <td>2499.0</td>\n",
       "      <td>['4', '28', '57', '431']</td>\n",
       "      <td>2022-05-16</td>\n",
       "      <td>1515915625468169594-4301-627b661e9736d</td>\n",
       "    </tr>\n",
       "    <tr>\n",
       "      <th>2</th>\n",
       "      <td>1515915625471138230</td>\n",
       "      <td>1</td>\n",
       "      <td>6499.0</td>\n",
       "      <td>['4', '28', '57', '431']</td>\n",
       "      <td>2022-05-16</td>\n",
       "      <td>1515915625471138230-4437-6282242f27843</td>\n",
       "    </tr>\n",
       "    <tr>\n",
       "      <th>3</th>\n",
       "      <td>1515915625471138230</td>\n",
       "      <td>1</td>\n",
       "      <td>4999.0</td>\n",
       "      <td>['4', '28', '244', '432']</td>\n",
       "      <td>2022-05-16</td>\n",
       "      <td>1515915625471138230-4437-6282242f27843</td>\n",
       "    </tr>\n",
       "    <tr>\n",
       "      <th>4</th>\n",
       "      <td>1515915625471138230</td>\n",
       "      <td>1</td>\n",
       "      <td>4999.0</td>\n",
       "      <td>['4', '28', '49', '413']</td>\n",
       "      <td>2022-05-16</td>\n",
       "      <td>1515915625471138230-4437-6282242f27843</td>\n",
       "    </tr>\n",
       "  </tbody>\n",
       "</table>\n",
       "</div>"
      ],
      "text/plain": [
       "             client_id  quantity   price               category_ids  \\\n",
       "0  1515915625468169594         1  1999.0   ['4', '28', '57', '431']   \n",
       "1  1515915625468169594         1  2499.0   ['4', '28', '57', '431']   \n",
       "2  1515915625471138230         1  6499.0   ['4', '28', '57', '431']   \n",
       "3  1515915625471138230         1  4999.0  ['4', '28', '244', '432']   \n",
       "4  1515915625471138230         1  4999.0   ['4', '28', '49', '413']   \n",
       "\n",
       "         date                              message_id  \n",
       "0  2022-05-16  1515915625468169594-4301-627b661e9736d  \n",
       "1  2022-05-16  1515915625468169594-4301-627b661e9736d  \n",
       "2  2022-05-16  1515915625471138230-4437-6282242f27843  \n",
       "3  2022-05-16  1515915625471138230-4437-6282242f27843  \n",
       "4  2022-05-16  1515915625471138230-4437-6282242f27843  "
      ]
     },
     "execution_count": 17,
     "metadata": {},
     "output_type": "execute_result"
    }
   ],
   "source": [
    "purchases.head()"
   ]
  },
  {
   "cell_type": "code",
   "execution_count": 18,
   "id": "f26d0cab-1948-4d8d-967d-62e0f8c6adef",
   "metadata": {},
   "outputs": [
    {
     "data": {
      "text/html": [
       "<div>\n",
       "<style scoped>\n",
       "    .dataframe tbody tr th:only-of-type {\n",
       "        vertical-align: middle;\n",
       "    }\n",
       "\n",
       "    .dataframe tbody tr th {\n",
       "        vertical-align: top;\n",
       "    }\n",
       "\n",
       "    .dataframe thead th {\n",
       "        text-align: right;\n",
       "    }\n",
       "</style>\n",
       "<table border=\"1\" class=\"dataframe\">\n",
       "  <thead>\n",
       "    <tr style=\"text-align: right;\">\n",
       "      <th></th>\n",
       "      <th>bulk_campaign_id</th>\n",
       "      <th>client_id</th>\n",
       "      <th>message_id</th>\n",
       "      <th>event</th>\n",
       "      <th>channel</th>\n",
       "      <th>date</th>\n",
       "      <th>created_at</th>\n",
       "    </tr>\n",
       "  </thead>\n",
       "  <tbody>\n",
       "    <tr>\n",
       "      <th>0</th>\n",
       "      <td>4439</td>\n",
       "      <td>1515915625626736623</td>\n",
       "      <td>1515915625626736623-4439-6283415ac07ea</td>\n",
       "      <td>open</td>\n",
       "      <td>email</td>\n",
       "      <td>2022-05-19</td>\n",
       "      <td>2022-05-19 00:14:20</td>\n",
       "    </tr>\n",
       "    <tr>\n",
       "      <th>1</th>\n",
       "      <td>4439</td>\n",
       "      <td>1515915625490086521</td>\n",
       "      <td>1515915625490086521-4439-62834150016dd</td>\n",
       "      <td>open</td>\n",
       "      <td>email</td>\n",
       "      <td>2022-05-19</td>\n",
       "      <td>2022-05-19 00:39:34</td>\n",
       "    </tr>\n",
       "    <tr>\n",
       "      <th>2</th>\n",
       "      <td>4439</td>\n",
       "      <td>1515915625553578558</td>\n",
       "      <td>1515915625553578558-4439-6283415b36b4f</td>\n",
       "      <td>open</td>\n",
       "      <td>email</td>\n",
       "      <td>2022-05-19</td>\n",
       "      <td>2022-05-19 00:51:49</td>\n",
       "    </tr>\n",
       "    <tr>\n",
       "      <th>3</th>\n",
       "      <td>4439</td>\n",
       "      <td>1515915625553578558</td>\n",
       "      <td>1515915625553578558-4439-6283415b36b4f</td>\n",
       "      <td>click</td>\n",
       "      <td>email</td>\n",
       "      <td>2022-05-19</td>\n",
       "      <td>2022-05-19 00:52:20</td>\n",
       "    </tr>\n",
       "    <tr>\n",
       "      <th>4</th>\n",
       "      <td>4439</td>\n",
       "      <td>1515915625471518311</td>\n",
       "      <td>1515915625471518311-4439-628341570c133</td>\n",
       "      <td>open</td>\n",
       "      <td>email</td>\n",
       "      <td>2022-05-19</td>\n",
       "      <td>2022-05-19 00:56:52</td>\n",
       "    </tr>\n",
       "  </tbody>\n",
       "</table>\n",
       "</div>"
      ],
      "text/plain": [
       "   bulk_campaign_id            client_id  \\\n",
       "0              4439  1515915625626736623   \n",
       "1              4439  1515915625490086521   \n",
       "2              4439  1515915625553578558   \n",
       "3              4439  1515915625553578558   \n",
       "4              4439  1515915625471518311   \n",
       "\n",
       "                               message_id  event channel        date  \\\n",
       "0  1515915625626736623-4439-6283415ac07ea   open   email  2022-05-19   \n",
       "1  1515915625490086521-4439-62834150016dd   open   email  2022-05-19   \n",
       "2  1515915625553578558-4439-6283415b36b4f   open   email  2022-05-19   \n",
       "3  1515915625553578558-4439-6283415b36b4f  click   email  2022-05-19   \n",
       "4  1515915625471518311-4439-628341570c133   open   email  2022-05-19   \n",
       "\n",
       "            created_at  \n",
       "0  2022-05-19 00:14:20  \n",
       "1  2022-05-19 00:39:34  \n",
       "2  2022-05-19 00:51:49  \n",
       "3  2022-05-19 00:52:20  \n",
       "4  2022-05-19 00:56:52  "
      ]
     },
     "execution_count": 18,
     "metadata": {},
     "output_type": "execute_result"
    }
   ],
   "source": [
    "messages.head()"
   ]
  },
  {
   "cell_type": "code",
   "execution_count": 19,
   "id": "96d34133-3f51-4f5e-b3fc-4f3cef4e46d7",
   "metadata": {},
   "outputs": [
    {
     "data": {
      "text/html": [
       "<div>\n",
       "<style scoped>\n",
       "    .dataframe tbody tr th:only-of-type {\n",
       "        vertical-align: middle;\n",
       "    }\n",
       "\n",
       "    .dataframe tbody tr th {\n",
       "        vertical-align: top;\n",
       "    }\n",
       "\n",
       "    .dataframe thead th {\n",
       "        text-align: right;\n",
       "    }\n",
       "</style>\n",
       "<table border=\"1\" class=\"dataframe\">\n",
       "  <thead>\n",
       "    <tr style=\"text-align: right;\">\n",
       "      <th></th>\n",
       "      <th>client_id</th>\n",
       "      <th>target</th>\n",
       "    </tr>\n",
       "  </thead>\n",
       "  <tbody>\n",
       "    <tr>\n",
       "      <th>0</th>\n",
       "      <td>1515915625468060902</td>\n",
       "      <td>0</td>\n",
       "    </tr>\n",
       "    <tr>\n",
       "      <th>1</th>\n",
       "      <td>1515915625468061003</td>\n",
       "      <td>1</td>\n",
       "    </tr>\n",
       "    <tr>\n",
       "      <th>2</th>\n",
       "      <td>1515915625468061099</td>\n",
       "      <td>0</td>\n",
       "    </tr>\n",
       "    <tr>\n",
       "      <th>3</th>\n",
       "      <td>1515915625468061100</td>\n",
       "      <td>0</td>\n",
       "    </tr>\n",
       "    <tr>\n",
       "      <th>4</th>\n",
       "      <td>1515915625468061170</td>\n",
       "      <td>0</td>\n",
       "    </tr>\n",
       "  </tbody>\n",
       "</table>\n",
       "</div>"
      ],
      "text/plain": [
       "             client_id  target\n",
       "0  1515915625468060902       0\n",
       "1  1515915625468061003       1\n",
       "2  1515915625468061099       0\n",
       "3  1515915625468061100       0\n",
       "4  1515915625468061170       0"
      ]
     },
     "execution_count": 19,
     "metadata": {},
     "output_type": "execute_result"
    }
   ],
   "source": [
    "target.head()"
   ]
  },
  {
   "cell_type": "markdown",
   "id": "3825b398-7647-4631-82ca-ec00e68e1cf0",
   "metadata": {},
   "source": [
    "### Вывод"
   ]
  },
  {
   "cell_type": "markdown",
   "id": "5741be22-75f2-4a34-958d-01ef245b527c",
   "metadata": {},
   "source": [
    "Дата загруженны корректно"
   ]
  },
  {
   "cell_type": "markdown",
   "id": "f8eccff4-bbca-47bc-b5ef-e857906ba55e",
   "metadata": {},
   "source": [
    "# Предобработка и исследовательский анализ данных"
   ]
  },
  {
   "cell_type": "markdown",
   "id": "677a05ad-826a-429f-8478-bac314b1cde9",
   "metadata": {},
   "source": [
    "## Проверка форматов"
   ]
  },
  {
   "cell_type": "markdown",
   "id": "0ff065f0-3887-4e9b-acb4-9c5013008cb6",
   "metadata": {},
   "source": [
    "### Purchases"
   ]
  },
  {
   "cell_type": "code",
   "execution_count": 25,
   "id": "bb4008e2-2d1a-4a9a-9280-c45fd2bac3e3",
   "metadata": {},
   "outputs": [
    {
     "name": "stdout",
     "output_type": "stream",
     "text": [
      "<class 'pandas.core.frame.DataFrame'>\n",
      "RangeIndex: 202208 entries, 0 to 202207\n",
      "Data columns (total 6 columns):\n",
      " #   Column        Non-Null Count   Dtype  \n",
      "---  ------        --------------   -----  \n",
      " 0   client_id     202208 non-null  int64  \n",
      " 1   quantity      202208 non-null  int64  \n",
      " 2   price         202208 non-null  float64\n",
      " 3   category_ids  202208 non-null  object \n",
      " 4   date          202208 non-null  object \n",
      " 5   message_id    202208 non-null  object \n",
      "dtypes: float64(1), int64(2), object(3)\n",
      "memory usage: 9.3+ MB\n"
     ]
    }
   ],
   "source": [
    "purchases.info()"
   ]
  },
  {
   "cell_type": "code",
   "execution_count": 26,
   "id": "3d308b83-d12f-4a5b-bfe6-2b24da003804",
   "metadata": {},
   "outputs": [
    {
     "data": {
      "text/html": [
       "<div>\n",
       "<style scoped>\n",
       "    .dataframe tbody tr th:only-of-type {\n",
       "        vertical-align: middle;\n",
       "    }\n",
       "\n",
       "    .dataframe tbody tr th {\n",
       "        vertical-align: top;\n",
       "    }\n",
       "\n",
       "    .dataframe thead th {\n",
       "        text-align: right;\n",
       "    }\n",
       "</style>\n",
       "<table border=\"1\" class=\"dataframe\">\n",
       "  <thead>\n",
       "    <tr style=\"text-align: right;\">\n",
       "      <th></th>\n",
       "      <th>client_id</th>\n",
       "      <th>quantity</th>\n",
       "      <th>price</th>\n",
       "    </tr>\n",
       "  </thead>\n",
       "  <tbody>\n",
       "    <tr>\n",
       "      <th>count</th>\n",
       "      <td>2.022080e+05</td>\n",
       "      <td>202208.000000</td>\n",
       "      <td>202208.000000</td>\n",
       "    </tr>\n",
       "    <tr>\n",
       "      <th>mean</th>\n",
       "      <td>1.515916e+18</td>\n",
       "      <td>1.006483</td>\n",
       "      <td>1193.301516</td>\n",
       "    </tr>\n",
       "    <tr>\n",
       "      <th>std</th>\n",
       "      <td>1.459514e+08</td>\n",
       "      <td>0.184384</td>\n",
       "      <td>1342.252664</td>\n",
       "    </tr>\n",
       "    <tr>\n",
       "      <th>min</th>\n",
       "      <td>1.515916e+18</td>\n",
       "      <td>1.000000</td>\n",
       "      <td>1.000000</td>\n",
       "    </tr>\n",
       "    <tr>\n",
       "      <th>25%</th>\n",
       "      <td>1.515916e+18</td>\n",
       "      <td>1.000000</td>\n",
       "      <td>352.000000</td>\n",
       "    </tr>\n",
       "    <tr>\n",
       "      <th>50%</th>\n",
       "      <td>1.515916e+18</td>\n",
       "      <td>1.000000</td>\n",
       "      <td>987.000000</td>\n",
       "    </tr>\n",
       "    <tr>\n",
       "      <th>75%</th>\n",
       "      <td>1.515916e+18</td>\n",
       "      <td>1.000000</td>\n",
       "      <td>1699.000000</td>\n",
       "    </tr>\n",
       "    <tr>\n",
       "      <th>max</th>\n",
       "      <td>1.515916e+18</td>\n",
       "      <td>30.000000</td>\n",
       "      <td>85499.000000</td>\n",
       "    </tr>\n",
       "  </tbody>\n",
       "</table>\n",
       "</div>"
      ],
      "text/plain": [
       "          client_id       quantity          price\n",
       "count  2.022080e+05  202208.000000  202208.000000\n",
       "mean   1.515916e+18       1.006483    1193.301516\n",
       "std    1.459514e+08       0.184384    1342.252664\n",
       "min    1.515916e+18       1.000000       1.000000\n",
       "25%    1.515916e+18       1.000000     352.000000\n",
       "50%    1.515916e+18       1.000000     987.000000\n",
       "75%    1.515916e+18       1.000000    1699.000000\n",
       "max    1.515916e+18      30.000000   85499.000000"
      ]
     },
     "execution_count": 26,
     "metadata": {},
     "output_type": "execute_result"
    }
   ],
   "source": [
    "purchases.describe()"
   ]
  },
  {
   "cell_type": "markdown",
   "id": "2ceca92d-643b-445e-8d42-e195c8eb482a",
   "metadata": {},
   "source": [
    "date надо поменять в формат даты"
   ]
  },
  {
   "cell_type": "code",
   "execution_count": 28,
   "id": "32018fe1-6cf8-4dd0-9ecf-26d2ead1c62c",
   "metadata": {},
   "outputs": [],
   "source": [
    "purchases['date'] = pd.to_datetime(purchases['date'], format='%Y-%m-%d')"
   ]
  },
  {
   "cell_type": "markdown",
   "id": "5fca6772-a482-42d7-96f7-0810f0b394cf",
   "metadata": {},
   "source": [
    "### Messages"
   ]
  },
  {
   "cell_type": "code",
   "execution_count": 30,
   "id": "c11ba21a-9034-4143-8cbf-97d8a46e897e",
   "metadata": {},
   "outputs": [
    {
     "name": "stdout",
     "output_type": "stream",
     "text": [
      "<class 'pandas.core.frame.DataFrame'>\n",
      "RangeIndex: 12739798 entries, 0 to 12739797\n",
      "Data columns (total 7 columns):\n",
      " #   Column            Dtype \n",
      "---  ------            ----- \n",
      " 0   bulk_campaign_id  int64 \n",
      " 1   client_id         int64 \n",
      " 2   message_id        object\n",
      " 3   event             object\n",
      " 4   channel           object\n",
      " 5   date              object\n",
      " 6   created_at        object\n",
      "dtypes: int64(2), object(5)\n",
      "memory usage: 680.4+ MB\n"
     ]
    }
   ],
   "source": [
    "messages.info()"
   ]
  },
  {
   "cell_type": "code",
   "execution_count": 31,
   "id": "42b46333-e2ec-48e3-a988-7fdf72c2960e",
   "metadata": {},
   "outputs": [
    {
     "data": {
      "text/html": [
       "<div>\n",
       "<style scoped>\n",
       "    .dataframe tbody tr th:only-of-type {\n",
       "        vertical-align: middle;\n",
       "    }\n",
       "\n",
       "    .dataframe tbody tr th {\n",
       "        vertical-align: top;\n",
       "    }\n",
       "\n",
       "    .dataframe thead th {\n",
       "        text-align: right;\n",
       "    }\n",
       "</style>\n",
       "<table border=\"1\" class=\"dataframe\">\n",
       "  <thead>\n",
       "    <tr style=\"text-align: right;\">\n",
       "      <th></th>\n",
       "      <th>bulk_campaign_id</th>\n",
       "      <th>client_id</th>\n",
       "    </tr>\n",
       "  </thead>\n",
       "  <tbody>\n",
       "    <tr>\n",
       "      <th>count</th>\n",
       "      <td>1.273980e+07</td>\n",
       "      <td>1.273980e+07</td>\n",
       "    </tr>\n",
       "    <tr>\n",
       "      <th>mean</th>\n",
       "      <td>1.160459e+04</td>\n",
       "      <td>1.515916e+18</td>\n",
       "    </tr>\n",
       "    <tr>\n",
       "      <th>std</th>\n",
       "      <td>3.259211e+03</td>\n",
       "      <td>3.265518e+08</td>\n",
       "    </tr>\n",
       "    <tr>\n",
       "      <th>min</th>\n",
       "      <td>5.480000e+02</td>\n",
       "      <td>1.515916e+18</td>\n",
       "    </tr>\n",
       "    <tr>\n",
       "      <th>25%</th>\n",
       "      <td>8.746000e+03</td>\n",
       "      <td>1.515916e+18</td>\n",
       "    </tr>\n",
       "    <tr>\n",
       "      <th>50%</th>\n",
       "      <td>1.351600e+04</td>\n",
       "      <td>1.515916e+18</td>\n",
       "    </tr>\n",
       "    <tr>\n",
       "      <th>75%</th>\n",
       "      <td>1.415800e+04</td>\n",
       "      <td>1.515916e+18</td>\n",
       "    </tr>\n",
       "    <tr>\n",
       "      <th>max</th>\n",
       "      <td>1.465700e+04</td>\n",
       "      <td>1.515916e+18</td>\n",
       "    </tr>\n",
       "  </tbody>\n",
       "</table>\n",
       "</div>"
      ],
      "text/plain": [
       "       bulk_campaign_id     client_id\n",
       "count      1.273980e+07  1.273980e+07\n",
       "mean       1.160459e+04  1.515916e+18\n",
       "std        3.259211e+03  3.265518e+08\n",
       "min        5.480000e+02  1.515916e+18\n",
       "25%        8.746000e+03  1.515916e+18\n",
       "50%        1.351600e+04  1.515916e+18\n",
       "75%        1.415800e+04  1.515916e+18\n",
       "max        1.465700e+04  1.515916e+18"
      ]
     },
     "execution_count": 31,
     "metadata": {},
     "output_type": "execute_result"
    }
   ],
   "source": [
    "messages.describe()"
   ]
  },
  {
   "cell_type": "markdown",
   "id": "85036706-920e-4a1d-80a5-171aee6eda45",
   "metadata": {},
   "source": [
    "Даты надо поменять в правельный формат"
   ]
  },
  {
   "cell_type": "code",
   "execution_count": 33,
   "id": "04a16c02-1e83-49c4-bf4b-59cf527c4f07",
   "metadata": {},
   "outputs": [],
   "source": [
    "messages['date'] = pd.to_datetime(messages['date'], format='%Y-%m-%d')"
   ]
  },
  {
   "cell_type": "code",
   "execution_count": 34,
   "id": "84d7ff11-8c9f-4c4d-b1bf-18ad3a790705",
   "metadata": {},
   "outputs": [],
   "source": [
    "messages['created_at'] = pd.to_datetime(messages['created_at'])"
   ]
  },
  {
   "cell_type": "markdown",
   "id": "6b352dfe-a476-4352-b029-6f52304e7c0b",
   "metadata": {},
   "source": [
    "### Target"
   ]
  },
  {
   "cell_type": "code",
   "execution_count": 36,
   "id": "7284c9c4-e8b2-4e09-9aab-36b411bc9ba6",
   "metadata": {},
   "outputs": [
    {
     "name": "stdout",
     "output_type": "stream",
     "text": [
      "<class 'pandas.core.frame.DataFrame'>\n",
      "RangeIndex: 49849 entries, 0 to 49848\n",
      "Data columns (total 2 columns):\n",
      " #   Column     Non-Null Count  Dtype\n",
      "---  ------     --------------  -----\n",
      " 0   client_id  49849 non-null  int64\n",
      " 1   target     49849 non-null  int64\n",
      "dtypes: int64(2)\n",
      "memory usage: 779.0 KB\n"
     ]
    }
   ],
   "source": [
    "target.info()"
   ]
  },
  {
   "cell_type": "code",
   "execution_count": 37,
   "id": "80361fc3-e056-4e66-adc4-975d77347bac",
   "metadata": {},
   "outputs": [
    {
     "data": {
      "text/html": [
       "<div>\n",
       "<style scoped>\n",
       "    .dataframe tbody tr th:only-of-type {\n",
       "        vertical-align: middle;\n",
       "    }\n",
       "\n",
       "    .dataframe tbody tr th {\n",
       "        vertical-align: top;\n",
       "    }\n",
       "\n",
       "    .dataframe thead th {\n",
       "        text-align: right;\n",
       "    }\n",
       "</style>\n",
       "<table border=\"1\" class=\"dataframe\">\n",
       "  <thead>\n",
       "    <tr style=\"text-align: right;\">\n",
       "      <th></th>\n",
       "      <th>client_id</th>\n",
       "      <th>target</th>\n",
       "    </tr>\n",
       "  </thead>\n",
       "  <tbody>\n",
       "    <tr>\n",
       "      <th>count</th>\n",
       "      <td>4.984900e+04</td>\n",
       "      <td>49849.000000</td>\n",
       "    </tr>\n",
       "    <tr>\n",
       "      <th>mean</th>\n",
       "      <td>1.515916e+18</td>\n",
       "      <td>0.019278</td>\n",
       "    </tr>\n",
       "    <tr>\n",
       "      <th>std</th>\n",
       "      <td>1.487947e+08</td>\n",
       "      <td>0.137503</td>\n",
       "    </tr>\n",
       "    <tr>\n",
       "      <th>min</th>\n",
       "      <td>1.515916e+18</td>\n",
       "      <td>0.000000</td>\n",
       "    </tr>\n",
       "    <tr>\n",
       "      <th>25%</th>\n",
       "      <td>1.515916e+18</td>\n",
       "      <td>0.000000</td>\n",
       "    </tr>\n",
       "    <tr>\n",
       "      <th>50%</th>\n",
       "      <td>1.515916e+18</td>\n",
       "      <td>0.000000</td>\n",
       "    </tr>\n",
       "    <tr>\n",
       "      <th>75%</th>\n",
       "      <td>1.515916e+18</td>\n",
       "      <td>0.000000</td>\n",
       "    </tr>\n",
       "    <tr>\n",
       "      <th>max</th>\n",
       "      <td>1.515916e+18</td>\n",
       "      <td>1.000000</td>\n",
       "    </tr>\n",
       "  </tbody>\n",
       "</table>\n",
       "</div>"
      ],
      "text/plain": [
       "          client_id        target\n",
       "count  4.984900e+04  49849.000000\n",
       "mean   1.515916e+18      0.019278\n",
       "std    1.487947e+08      0.137503\n",
       "min    1.515916e+18      0.000000\n",
       "25%    1.515916e+18      0.000000\n",
       "50%    1.515916e+18      0.000000\n",
       "75%    1.515916e+18      0.000000\n",
       "max    1.515916e+18      1.000000"
      ]
     },
     "execution_count": 37,
     "metadata": {},
     "output_type": "execute_result"
    }
   ],
   "source": [
    "target.describe()"
   ]
  },
  {
   "cell_type": "markdown",
   "id": "974978e4-bc0c-4e9e-b88e-4217cb89cd7c",
   "metadata": {},
   "source": [
    "## Проверка явных дубликатов"
   ]
  },
  {
   "cell_type": "code",
   "execution_count": 39,
   "id": "e78c3859-5cfd-46b4-8a27-660527316627",
   "metadata": {},
   "outputs": [],
   "source": [
    "def find_duplicates(dataframe):\n",
    "    duplicates = dataframe.duplicated()\n",
    "    duplicated_rows = dataframe[duplicates]\n",
    "    duplicate_count = len(duplicated_rows)  \n",
    "    return duplicated_rows, duplicate_count"
   ]
  },
  {
   "cell_type": "markdown",
   "id": "5b34c470-e960-424d-8985-e8c0e350eea6",
   "metadata": {},
   "source": [
    "### Purchases"
   ]
  },
  {
   "cell_type": "code",
   "execution_count": 41,
   "id": "4e2ca2f8-35f1-4538-9b31-c542fad8a24a",
   "metadata": {},
   "outputs": [],
   "source": [
    "duplicated_rows, duplicate_count = find_duplicates(purchases)"
   ]
  },
  {
   "cell_type": "code",
   "execution_count": 42,
   "id": "d993b238-a28e-458c-9400-f13dd7a21687",
   "metadata": {},
   "outputs": [
    {
     "data": {
      "text/html": [
       "<div>\n",
       "<style scoped>\n",
       "    .dataframe tbody tr th:only-of-type {\n",
       "        vertical-align: middle;\n",
       "    }\n",
       "\n",
       "    .dataframe tbody tr th {\n",
       "        vertical-align: top;\n",
       "    }\n",
       "\n",
       "    .dataframe thead th {\n",
       "        text-align: right;\n",
       "    }\n",
       "</style>\n",
       "<table border=\"1\" class=\"dataframe\">\n",
       "  <thead>\n",
       "    <tr style=\"text-align: right;\">\n",
       "      <th></th>\n",
       "      <th>client_id</th>\n",
       "      <th>quantity</th>\n",
       "      <th>price</th>\n",
       "      <th>category_ids</th>\n",
       "      <th>date</th>\n",
       "      <th>message_id</th>\n",
       "    </tr>\n",
       "  </thead>\n",
       "  <tbody>\n",
       "    <tr>\n",
       "      <th>12</th>\n",
       "      <td>1515915625491869271</td>\n",
       "      <td>2</td>\n",
       "      <td>599.0</td>\n",
       "      <td>['4', '27', '350', '1392']</td>\n",
       "      <td>2022-05-16</td>\n",
       "      <td>1515915625491869271-2090-61a72488d6a0f</td>\n",
       "    </tr>\n",
       "    <tr>\n",
       "      <th>22</th>\n",
       "      <td>1515915625566606509</td>\n",
       "      <td>1</td>\n",
       "      <td>299.0</td>\n",
       "      <td>['5562', '5634', '5579', '710']</td>\n",
       "      <td>2022-05-16</td>\n",
       "      <td>1515915625566606509-4301-627b66245401d</td>\n",
       "    </tr>\n",
       "    <tr>\n",
       "      <th>42</th>\n",
       "      <td>1515915625468070175</td>\n",
       "      <td>1</td>\n",
       "      <td>2199.0</td>\n",
       "      <td>['4', '27', '142', '496']</td>\n",
       "      <td>2022-05-17</td>\n",
       "      <td>1515915625468070175-4439-6283414668daa</td>\n",
       "    </tr>\n",
       "    <tr>\n",
       "      <th>59</th>\n",
       "      <td>1515915625468126078</td>\n",
       "      <td>1</td>\n",
       "      <td>1499.0</td>\n",
       "      <td>['4', '28', '275', '421']</td>\n",
       "      <td>2022-05-17</td>\n",
       "      <td>1515915625468126078-4439-6283411f7c0cc</td>\n",
       "    </tr>\n",
       "    <tr>\n",
       "      <th>62</th>\n",
       "      <td>1515915625468141317</td>\n",
       "      <td>1</td>\n",
       "      <td>49.0</td>\n",
       "      <td>['4', '27', '38', '481']</td>\n",
       "      <td>2022-05-17</td>\n",
       "      <td>1515915625468141317-4439-6283412e01078</td>\n",
       "    </tr>\n",
       "    <tr>\n",
       "      <th>...</th>\n",
       "      <td>...</td>\n",
       "      <td>...</td>\n",
       "      <td>...</td>\n",
       "      <td>...</td>\n",
       "      <td>...</td>\n",
       "      <td>...</td>\n",
       "    </tr>\n",
       "    <tr>\n",
       "      <th>202200</th>\n",
       "      <td>1515915626010261344</td>\n",
       "      <td>1</td>\n",
       "      <td>1499.0</td>\n",
       "      <td>['2', '18', '212', '726']</td>\n",
       "      <td>2024-02-16</td>\n",
       "      <td>1515915626010261344-14648-65cdb6d56c4c8</td>\n",
       "    </tr>\n",
       "    <tr>\n",
       "      <th>202201</th>\n",
       "      <td>1515915626010261344</td>\n",
       "      <td>1</td>\n",
       "      <td>1499.0</td>\n",
       "      <td>['2', '18', '212', '726']</td>\n",
       "      <td>2024-02-16</td>\n",
       "      <td>1515915626010261344-14648-65cdb6d56c4c8</td>\n",
       "    </tr>\n",
       "    <tr>\n",
       "      <th>202202</th>\n",
       "      <td>1515915626010261344</td>\n",
       "      <td>1</td>\n",
       "      <td>1499.0</td>\n",
       "      <td>['2', '18', '212', '726']</td>\n",
       "      <td>2024-02-16</td>\n",
       "      <td>1515915626010261344-14648-65cdb6d56c4c8</td>\n",
       "    </tr>\n",
       "    <tr>\n",
       "      <th>202203</th>\n",
       "      <td>1515915626010261344</td>\n",
       "      <td>1</td>\n",
       "      <td>1499.0</td>\n",
       "      <td>['2', '18', '212', '726']</td>\n",
       "      <td>2024-02-16</td>\n",
       "      <td>1515915626010261344-14648-65cdb6d56c4c8</td>\n",
       "    </tr>\n",
       "    <tr>\n",
       "      <th>202205</th>\n",
       "      <td>1515915626010439406</td>\n",
       "      <td>1</td>\n",
       "      <td>99.0</td>\n",
       "      <td>['4', '27', '233', '462']</td>\n",
       "      <td>2024-02-16</td>\n",
       "      <td>1515915625776605028-14662-65cf3abfe4f0d</td>\n",
       "    </tr>\n",
       "  </tbody>\n",
       "</table>\n",
       "<p>73020 rows × 6 columns</p>\n",
       "</div>"
      ],
      "text/plain": [
       "                  client_id  quantity   price  \\\n",
       "12      1515915625491869271         2   599.0   \n",
       "22      1515915625566606509         1   299.0   \n",
       "42      1515915625468070175         1  2199.0   \n",
       "59      1515915625468126078         1  1499.0   \n",
       "62      1515915625468141317         1    49.0   \n",
       "...                     ...       ...     ...   \n",
       "202200  1515915626010261344         1  1499.0   \n",
       "202201  1515915626010261344         1  1499.0   \n",
       "202202  1515915626010261344         1  1499.0   \n",
       "202203  1515915626010261344         1  1499.0   \n",
       "202205  1515915626010439406         1    99.0   \n",
       "\n",
       "                           category_ids       date  \\\n",
       "12           ['4', '27', '350', '1392'] 2022-05-16   \n",
       "22      ['5562', '5634', '5579', '710'] 2022-05-16   \n",
       "42            ['4', '27', '142', '496'] 2022-05-17   \n",
       "59            ['4', '28', '275', '421'] 2022-05-17   \n",
       "62             ['4', '27', '38', '481'] 2022-05-17   \n",
       "...                                 ...        ...   \n",
       "202200        ['2', '18', '212', '726'] 2024-02-16   \n",
       "202201        ['2', '18', '212', '726'] 2024-02-16   \n",
       "202202        ['2', '18', '212', '726'] 2024-02-16   \n",
       "202203        ['2', '18', '212', '726'] 2024-02-16   \n",
       "202205        ['4', '27', '233', '462'] 2024-02-16   \n",
       "\n",
       "                                     message_id  \n",
       "12       1515915625491869271-2090-61a72488d6a0f  \n",
       "22       1515915625566606509-4301-627b66245401d  \n",
       "42       1515915625468070175-4439-6283414668daa  \n",
       "59       1515915625468126078-4439-6283411f7c0cc  \n",
       "62       1515915625468141317-4439-6283412e01078  \n",
       "...                                         ...  \n",
       "202200  1515915626010261344-14648-65cdb6d56c4c8  \n",
       "202201  1515915626010261344-14648-65cdb6d56c4c8  \n",
       "202202  1515915626010261344-14648-65cdb6d56c4c8  \n",
       "202203  1515915626010261344-14648-65cdb6d56c4c8  \n",
       "202205  1515915625776605028-14662-65cf3abfe4f0d  \n",
       "\n",
       "[73020 rows x 6 columns]"
      ]
     },
     "execution_count": 42,
     "metadata": {},
     "output_type": "execute_result"
    }
   ],
   "source": [
    "duplicated_rows"
   ]
  },
  {
   "cell_type": "code",
   "execution_count": 43,
   "id": "aa5a5f61-299f-44b5-bc95-dc1e0bb08c15",
   "metadata": {},
   "outputs": [
    {
     "data": {
      "text/plain": [
       "73020"
      ]
     },
     "execution_count": 43,
     "metadata": {},
     "output_type": "execute_result"
    }
   ],
   "source": [
    "duplicate_count"
   ]
  },
  {
   "cell_type": "markdown",
   "id": "5acdcd45-d94c-4733-8022-fbbcea276409",
   "metadata": {},
   "source": [
    "Из 202тыс строк, 73тыс это дубликаты? Может эти дубликаты созданы только малым количеством клиентов?"
   ]
  },
  {
   "cell_type": "code",
   "execution_count": 45,
   "id": "39cb2ad7-72df-40c7-b775-44927dd32de4",
   "metadata": {},
   "outputs": [
    {
     "data": {
      "text/plain": [
       "49849"
      ]
     },
     "execution_count": 45,
     "metadata": {},
     "output_type": "execute_result"
    }
   ],
   "source": [
    "purchases['client_id'].nunique()"
   ]
  },
  {
   "cell_type": "code",
   "execution_count": 46,
   "id": "f18d064f-c82e-46c0-8942-03ef9083555b",
   "metadata": {},
   "outputs": [
    {
     "data": {
      "text/plain": [
       "27210"
      ]
     },
     "execution_count": 46,
     "metadata": {},
     "output_type": "execute_result"
    }
   ],
   "source": [
    "duplicated_rows['client_id'].nunique()"
   ]
  },
  {
   "cell_type": "code",
   "execution_count": 47,
   "id": "8415263c-d9ce-4325-8830-1755521d99d7",
   "metadata": {},
   "outputs": [],
   "source": [
    "#Я не думаю что есть вероятный сценарий при котором тот же самый клиент будет в тот же день оформлять несколько заказов на один и тот же продукт по той же самой цене. Возможно если у нас продажи по акции где \"1 такой продукт на одну карзину по такой цене\", но у нас нету этой информации поэтому дубликаты я удаляю. в идеале эту информацию нужно подтвердить с тем кто предоставил данные"
   ]
  },
  {
   "cell_type": "code",
   "execution_count": 48,
   "id": "dfe27953-c911-4057-ae09-d60d1b42d5bc",
   "metadata": {},
   "outputs": [],
   "source": [
    "# Так же замечу что есть продажи где количество товара выше 1, это значит что нет нужды создавать несколько строк данных ради заказа более одного количества товара."
   ]
  },
  {
   "cell_type": "markdown",
   "id": "5f9dbe0d-e9c8-4ab7-bf12-ee6706f9cb43",
   "metadata": {},
   "source": [
    "#### Пометка\n",
    "\n",
    "Перечитав ТЗ и посмотрев на данные я считаю что:\n",
    "\n",
    "- это не дубликаты\n",
    "- у нас нет данных о product_id и order_id\n",
    "- у нас есть только \"категория\" продукта, а в одной и той же категории по той же самой цене может быть несколько продуктов. Допустим освежители разного запаха"
   ]
  },
  {
   "cell_type": "code",
   "execution_count": null,
   "id": "b48111af-9f81-4344-95c3-ebcd10d47489",
   "metadata": {},
   "outputs": [],
   "source": []
  },
  {
   "cell_type": "code",
   "execution_count": 50,
   "id": "ce91890b-4963-41c6-8a2d-c88a7f253e96",
   "metadata": {},
   "outputs": [],
   "source": [
    "#purchases_no_dupe = purchases.drop_duplicates()"
   ]
  },
  {
   "cell_type": "code",
   "execution_count": 51,
   "id": "30015362-1422-43f1-82fb-398a5e05b999",
   "metadata": {},
   "outputs": [],
   "source": [
    "#purchases_no_dupe.info()"
   ]
  },
  {
   "cell_type": "markdown",
   "id": "56c554bb-5eb9-4d17-8810-9eba430ee063",
   "metadata": {},
   "source": [
    "### Messages"
   ]
  },
  {
   "cell_type": "code",
   "execution_count": 53,
   "id": "90b95f07-9363-4f6e-9f77-da6710c79b0a",
   "metadata": {},
   "outputs": [],
   "source": [
    "duplicated_rows, duplicate_count = find_duplicates(messages)"
   ]
  },
  {
   "cell_type": "code",
   "execution_count": 54,
   "id": "6c063978-3f16-4c08-9079-9d8cf3f65c65",
   "metadata": {},
   "outputs": [
    {
     "data": {
      "text/plain": [
       "48610"
      ]
     },
     "execution_count": 54,
     "metadata": {},
     "output_type": "execute_result"
    }
   ],
   "source": [
    "duplicate_count"
   ]
  },
  {
   "cell_type": "code",
   "execution_count": 55,
   "id": "7f68290f-9701-4ef6-be47-8b2e563dfbc6",
   "metadata": {},
   "outputs": [],
   "source": [
    "messages_no_dupe = messages.drop_duplicates()"
   ]
  },
  {
   "cell_type": "code",
   "execution_count": 56,
   "id": "a002c707-10b7-4919-bc0a-b20413145c4d",
   "metadata": {},
   "outputs": [
    {
     "name": "stdout",
     "output_type": "stream",
     "text": [
      "<class 'pandas.core.frame.DataFrame'>\n",
      "Index: 12691188 entries, 0 to 12739797\n",
      "Data columns (total 7 columns):\n",
      " #   Column            Dtype         \n",
      "---  ------            -----         \n",
      " 0   bulk_campaign_id  int64         \n",
      " 1   client_id         int64         \n",
      " 2   message_id        object        \n",
      " 3   event             object        \n",
      " 4   channel           object        \n",
      " 5   date              datetime64[ns]\n",
      " 6   created_at        datetime64[ns]\n",
      "dtypes: datetime64[ns](2), int64(2), object(3)\n",
      "memory usage: 774.6+ MB\n"
     ]
    }
   ],
   "source": [
    "messages_no_dupe.info()"
   ]
  },
  {
   "cell_type": "code",
   "execution_count": 57,
   "id": "3be75098-214f-4fac-951d-319ecf709d04",
   "metadata": {},
   "outputs": [
    {
     "data": {
      "text/plain": [
       "bulk_campaign_id    0\n",
       "client_id           0\n",
       "message_id          0\n",
       "event               0\n",
       "channel             0\n",
       "date                0\n",
       "created_at          0\n",
       "dtype: int64"
      ]
     },
     "execution_count": 57,
     "metadata": {},
     "output_type": "execute_result"
    }
   ],
   "source": [
    "messages_no_dupe.isnull().sum()"
   ]
  },
  {
   "cell_type": "markdown",
   "id": "c7416dd3-a8c9-4cfd-80dd-ce00d38f31ce",
   "metadata": {},
   "source": [
    "### Target"
   ]
  },
  {
   "cell_type": "code",
   "execution_count": 59,
   "id": "fb4e89bd-d6ec-4dff-9e0c-479205929076",
   "metadata": {},
   "outputs": [],
   "source": [
    "duplicated_rows, duplicate_count = find_duplicates(target)"
   ]
  },
  {
   "cell_type": "code",
   "execution_count": 60,
   "id": "7cc965a1-9693-4545-b2fd-8fc64624b4c9",
   "metadata": {},
   "outputs": [
    {
     "data": {
      "text/plain": [
       "0"
      ]
     },
     "execution_count": 60,
     "metadata": {},
     "output_type": "execute_result"
    }
   ],
   "source": [
    "duplicate_count"
   ]
  },
  {
   "cell_type": "markdown",
   "id": "f70f5519-97ab-4e10-b273-2b2bf2fdad26",
   "metadata": {},
   "source": [
    "# Соединение таргет и продаж"
   ]
  },
  {
   "cell_type": "code",
   "execution_count": 62,
   "id": "b810b121-6bee-466d-9a74-a752cab96938",
   "metadata": {},
   "outputs": [
    {
     "name": "stdout",
     "output_type": "stream",
     "text": [
      "<class 'pandas.core.frame.DataFrame'>\n",
      "RangeIndex: 202208 entries, 0 to 202207\n",
      "Data columns (total 6 columns):\n",
      " #   Column        Non-Null Count   Dtype         \n",
      "---  ------        --------------   -----         \n",
      " 0   client_id     202208 non-null  int64         \n",
      " 1   quantity      202208 non-null  int64         \n",
      " 2   price         202208 non-null  float64       \n",
      " 3   category_ids  202208 non-null  object        \n",
      " 4   date          202208 non-null  datetime64[ns]\n",
      " 5   message_id    202208 non-null  object        \n",
      "dtypes: datetime64[ns](1), float64(1), int64(2), object(2)\n",
      "memory usage: 9.3+ MB\n"
     ]
    }
   ],
   "source": [
    "purchases.info()"
   ]
  },
  {
   "cell_type": "code",
   "execution_count": 63,
   "id": "5e970f28-9e4f-44f5-9ea0-a1904b13be74",
   "metadata": {},
   "outputs": [],
   "source": [
    "merged_df = purchases.merge(target, on='client_id', how='inner')"
   ]
  },
  {
   "cell_type": "code",
   "execution_count": 64,
   "id": "90756b81-4d2c-462d-8ae8-23934801d7ba",
   "metadata": {},
   "outputs": [
    {
     "name": "stdout",
     "output_type": "stream",
     "text": [
      "<class 'pandas.core.frame.DataFrame'>\n",
      "RangeIndex: 202208 entries, 0 to 202207\n",
      "Data columns (total 7 columns):\n",
      " #   Column        Non-Null Count   Dtype         \n",
      "---  ------        --------------   -----         \n",
      " 0   client_id     202208 non-null  int64         \n",
      " 1   quantity      202208 non-null  int64         \n",
      " 2   price         202208 non-null  float64       \n",
      " 3   category_ids  202208 non-null  object        \n",
      " 4   date          202208 non-null  datetime64[ns]\n",
      " 5   message_id    202208 non-null  object        \n",
      " 6   target        202208 non-null  int64         \n",
      "dtypes: datetime64[ns](1), float64(1), int64(3), object(2)\n",
      "memory usage: 10.8+ MB\n"
     ]
    }
   ],
   "source": [
    "merged_df.info()"
   ]
  },
  {
   "cell_type": "markdown",
   "id": "afd94f3f-0162-4313-869c-6617df835a1b",
   "metadata": {},
   "source": [
    "# Создание новых признаков"
   ]
  },
  {
   "cell_type": "markdown",
   "id": "ed80f08d-7fe3-40b9-8025-b850e9920a67",
   "metadata": {},
   "source": [
    "## Чистка категории"
   ]
  },
  {
   "cell_type": "code",
   "execution_count": 67,
   "id": "83ff8d1f-b1a6-4ee3-a7f0-19cc2dedbba4",
   "metadata": {},
   "outputs": [
    {
     "data": {
      "text/html": [
       "<div>\n",
       "<style scoped>\n",
       "    .dataframe tbody tr th:only-of-type {\n",
       "        vertical-align: middle;\n",
       "    }\n",
       "\n",
       "    .dataframe tbody tr th {\n",
       "        vertical-align: top;\n",
       "    }\n",
       "\n",
       "    .dataframe thead th {\n",
       "        text-align: right;\n",
       "    }\n",
       "</style>\n",
       "<table border=\"1\" class=\"dataframe\">\n",
       "  <thead>\n",
       "    <tr style=\"text-align: right;\">\n",
       "      <th></th>\n",
       "      <th>client_id</th>\n",
       "      <th>quantity</th>\n",
       "      <th>price</th>\n",
       "      <th>category_ids</th>\n",
       "      <th>date</th>\n",
       "      <th>message_id</th>\n",
       "      <th>target</th>\n",
       "    </tr>\n",
       "  </thead>\n",
       "  <tbody>\n",
       "    <tr>\n",
       "      <th>0</th>\n",
       "      <td>1515915625468169594</td>\n",
       "      <td>1</td>\n",
       "      <td>1999.0</td>\n",
       "      <td>['4', '28', '57', '431']</td>\n",
       "      <td>2022-05-16</td>\n",
       "      <td>1515915625468169594-4301-627b661e9736d</td>\n",
       "      <td>0</td>\n",
       "    </tr>\n",
       "    <tr>\n",
       "      <th>1</th>\n",
       "      <td>1515915625468169594</td>\n",
       "      <td>1</td>\n",
       "      <td>2499.0</td>\n",
       "      <td>['4', '28', '57', '431']</td>\n",
       "      <td>2022-05-16</td>\n",
       "      <td>1515915625468169594-4301-627b661e9736d</td>\n",
       "      <td>0</td>\n",
       "    </tr>\n",
       "    <tr>\n",
       "      <th>2</th>\n",
       "      <td>1515915625468169594</td>\n",
       "      <td>1</td>\n",
       "      <td>742.0</td>\n",
       "      <td>['2', '18', '258', '1569']</td>\n",
       "      <td>2022-10-19</td>\n",
       "      <td>1515915625468169594-7180-634d2f82d8799</td>\n",
       "      <td>0</td>\n",
       "    </tr>\n",
       "    <tr>\n",
       "      <th>3</th>\n",
       "      <td>1515915625468169594</td>\n",
       "      <td>1</td>\n",
       "      <td>1050.0</td>\n",
       "      <td>['4', '28', '124', '1602']</td>\n",
       "      <td>2023-06-30</td>\n",
       "      <td>1515915625468169594-13392-649554cd9b5ee</td>\n",
       "      <td>0</td>\n",
       "    </tr>\n",
       "    <tr>\n",
       "      <th>4</th>\n",
       "      <td>1515915625468169594</td>\n",
       "      <td>1</td>\n",
       "      <td>864.0</td>\n",
       "      <td>['4', '28', '124', '1602']</td>\n",
       "      <td>2023-06-30</td>\n",
       "      <td>1515915625468169594-13392-649554cd9b5ee</td>\n",
       "      <td>0</td>\n",
       "    </tr>\n",
       "  </tbody>\n",
       "</table>\n",
       "</div>"
      ],
      "text/plain": [
       "             client_id  quantity   price                category_ids  \\\n",
       "0  1515915625468169594         1  1999.0    ['4', '28', '57', '431']   \n",
       "1  1515915625468169594         1  2499.0    ['4', '28', '57', '431']   \n",
       "2  1515915625468169594         1   742.0  ['2', '18', '258', '1569']   \n",
       "3  1515915625468169594         1  1050.0  ['4', '28', '124', '1602']   \n",
       "4  1515915625468169594         1   864.0  ['4', '28', '124', '1602']   \n",
       "\n",
       "        date                               message_id  target  \n",
       "0 2022-05-16   1515915625468169594-4301-627b661e9736d       0  \n",
       "1 2022-05-16   1515915625468169594-4301-627b661e9736d       0  \n",
       "2 2022-10-19   1515915625468169594-7180-634d2f82d8799       0  \n",
       "3 2023-06-30  1515915625468169594-13392-649554cd9b5ee       0  \n",
       "4 2023-06-30  1515915625468169594-13392-649554cd9b5ee       0  "
      ]
     },
     "execution_count": 67,
     "metadata": {},
     "output_type": "execute_result"
    }
   ],
   "source": [
    "merged_df.head()"
   ]
  },
  {
   "cell_type": "code",
   "execution_count": 68,
   "id": "5a63ab68-5c55-42f1-9e41-28ab75c49774",
   "metadata": {},
   "outputs": [],
   "source": [
    "merged_df['category_ids'] = merged_df['category_ids'].apply(ast.literal_eval)\n",
    "merged_df['category_length'] = merged_df['category_ids'].apply(len)"
   ]
  },
  {
   "cell_type": "code",
   "execution_count": 69,
   "id": "e4805ab8-d684-4bac-9f0d-3d26f1e4b944",
   "metadata": {},
   "outputs": [
    {
     "data": {
      "text/plain": [
       "array([4, 5, 1, 0, 3], dtype=int64)"
      ]
     },
     "execution_count": 69,
     "metadata": {},
     "output_type": "execute_result"
    }
   ],
   "source": [
    "merged_df['category_length'].unique()"
   ]
  },
  {
   "cell_type": "code",
   "execution_count": 70,
   "id": "9d67afd5-984e-4fd5-a413-6c7d71e79a2e",
   "metadata": {},
   "outputs": [
    {
     "data": {
      "text/plain": [
       "<Axes: >"
      ]
     },
     "execution_count": 70,
     "metadata": {},
     "output_type": "execute_result"
    },
    {
     "data": {
      "image/png": "[encoded data removed]",
      "text/plain": [
       "<Figure size 640x480 with 1 Axes>"
      ]
     },
     "metadata": {},
     "output_type": "display_data"
    }
   ],
   "source": [
    "merged_df['category_length'].hist()"
   ]
  },
  {
   "cell_type": "markdown",
   "id": "16123390-0349-4357-be0f-f6d1cebc32b0",
   "metadata": {},
   "source": [
    "### Пометка\n",
    "Пробовал разные методы как можно провести кластеризацию и тд, но ничего толком не сработало. Поэтому буду сортировать и разбивать списки на кат1 кат2 и тд"
   ]
  },
  {
   "cell_type": "markdown",
   "id": "eae8186d-0c47-4c88-a5a9-b272f0fe4ea8",
   "metadata": {},
   "source": [
    "Максимальное количество категрий = 5 а минимальное = 0"
   ]
  },
  {
   "cell_type": "code",
   "execution_count": 73,
   "id": "98f6105e-8a2f-43dc-989b-f24184e9032e",
   "metadata": {},
   "outputs": [],
   "source": [
    "merged_df['category_ids'] = merged_df['category_ids'].apply(\n",
    "    lambda x: sorted([int(i) for i in x if i is not None]) if isinstance(x, list) else x\n",
    ")\n"
   ]
  },
  {
   "cell_type": "code",
   "execution_count": 74,
   "id": "2e0ca50d-827e-4e49-a409-16d440cdc161",
   "metadata": {},
   "outputs": [],
   "source": [
    "category_cols = merged_df['category_ids'].apply(\n",
    "    lambda x: x + [None] * (5 - len(x)) if isinstance(x, list) else [None] * 5\n",
    ")\n",
    "\n",
    "category_cols_df = pd.DataFrame(category_cols.tolist(), columns=['Cat1', 'Cat2', 'Cat3', 'Cat4', 'Cat5'])\n",
    "\n",
    "for col in ['Cat1', 'Cat2', 'Cat3', 'Cat4', 'Cat5']:\n",
    "    category_cols_df[col] = category_cols_df[col].fillna(0).astype(int)\n",
    "    category_cols_df[col] = category_cols_df[col].astype(object)\n",
    "\n",
    "merged_df = pd.concat([merged_df, category_cols_df], axis=1)"
   ]
  },
  {
   "cell_type": "code",
   "execution_count": 75,
   "id": "8e1c353f-a6c6-42e9-bb86-ec94b9f6379e",
   "metadata": {},
   "outputs": [
    {
     "data": {
      "text/html": [
       "<div>\n",
       "<style scoped>\n",
       "    .dataframe tbody tr th:only-of-type {\n",
       "        vertical-align: middle;\n",
       "    }\n",
       "\n",
       "    .dataframe tbody tr th {\n",
       "        vertical-align: top;\n",
       "    }\n",
       "\n",
       "    .dataframe thead th {\n",
       "        text-align: right;\n",
       "    }\n",
       "</style>\n",
       "<table border=\"1\" class=\"dataframe\">\n",
       "  <thead>\n",
       "    <tr style=\"text-align: right;\">\n",
       "      <th></th>\n",
       "      <th>client_id</th>\n",
       "      <th>quantity</th>\n",
       "      <th>price</th>\n",
       "      <th>category_ids</th>\n",
       "      <th>date</th>\n",
       "      <th>message_id</th>\n",
       "      <th>target</th>\n",
       "      <th>category_length</th>\n",
       "      <th>Cat1</th>\n",
       "      <th>Cat2</th>\n",
       "      <th>Cat3</th>\n",
       "      <th>Cat4</th>\n",
       "      <th>Cat5</th>\n",
       "    </tr>\n",
       "  </thead>\n",
       "  <tbody>\n",
       "    <tr>\n",
       "      <th>0</th>\n",
       "      <td>1515915625468169594</td>\n",
       "      <td>1</td>\n",
       "      <td>1999.0</td>\n",
       "      <td>[4, 28, 57, 431]</td>\n",
       "      <td>2022-05-16</td>\n",
       "      <td>1515915625468169594-4301-627b661e9736d</td>\n",
       "      <td>0</td>\n",
       "      <td>4</td>\n",
       "      <td>4</td>\n",
       "      <td>28</td>\n",
       "      <td>57</td>\n",
       "      <td>431</td>\n",
       "      <td>0</td>\n",
       "    </tr>\n",
       "    <tr>\n",
       "      <th>1</th>\n",
       "      <td>1515915625468169594</td>\n",
       "      <td>1</td>\n",
       "      <td>2499.0</td>\n",
       "      <td>[4, 28, 57, 431]</td>\n",
       "      <td>2022-05-16</td>\n",
       "      <td>1515915625468169594-4301-627b661e9736d</td>\n",
       "      <td>0</td>\n",
       "      <td>4</td>\n",
       "      <td>4</td>\n",
       "      <td>28</td>\n",
       "      <td>57</td>\n",
       "      <td>431</td>\n",
       "      <td>0</td>\n",
       "    </tr>\n",
       "    <tr>\n",
       "      <th>2</th>\n",
       "      <td>1515915625468169594</td>\n",
       "      <td>1</td>\n",
       "      <td>742.0</td>\n",
       "      <td>[2, 18, 258, 1569]</td>\n",
       "      <td>2022-10-19</td>\n",
       "      <td>1515915625468169594-7180-634d2f82d8799</td>\n",
       "      <td>0</td>\n",
       "      <td>4</td>\n",
       "      <td>2</td>\n",
       "      <td>18</td>\n",
       "      <td>258</td>\n",
       "      <td>1569</td>\n",
       "      <td>0</td>\n",
       "    </tr>\n",
       "    <tr>\n",
       "      <th>3</th>\n",
       "      <td>1515915625468169594</td>\n",
       "      <td>1</td>\n",
       "      <td>1050.0</td>\n",
       "      <td>[4, 28, 124, 1602]</td>\n",
       "      <td>2023-06-30</td>\n",
       "      <td>1515915625468169594-13392-649554cd9b5ee</td>\n",
       "      <td>0</td>\n",
       "      <td>4</td>\n",
       "      <td>4</td>\n",
       "      <td>28</td>\n",
       "      <td>124</td>\n",
       "      <td>1602</td>\n",
       "      <td>0</td>\n",
       "    </tr>\n",
       "    <tr>\n",
       "      <th>4</th>\n",
       "      <td>1515915625468169594</td>\n",
       "      <td>1</td>\n",
       "      <td>864.0</td>\n",
       "      <td>[4, 28, 124, 1602]</td>\n",
       "      <td>2023-06-30</td>\n",
       "      <td>1515915625468169594-13392-649554cd9b5ee</td>\n",
       "      <td>0</td>\n",
       "      <td>4</td>\n",
       "      <td>4</td>\n",
       "      <td>28</td>\n",
       "      <td>124</td>\n",
       "      <td>1602</td>\n",
       "      <td>0</td>\n",
       "    </tr>\n",
       "  </tbody>\n",
       "</table>\n",
       "</div>"
      ],
      "text/plain": [
       "             client_id  quantity   price        category_ids       date  \\\n",
       "0  1515915625468169594         1  1999.0    [4, 28, 57, 431] 2022-05-16   \n",
       "1  1515915625468169594         1  2499.0    [4, 28, 57, 431] 2022-05-16   \n",
       "2  1515915625468169594         1   742.0  [2, 18, 258, 1569] 2022-10-19   \n",
       "3  1515915625468169594         1  1050.0  [4, 28, 124, 1602] 2023-06-30   \n",
       "4  1515915625468169594         1   864.0  [4, 28, 124, 1602] 2023-06-30   \n",
       "\n",
       "                                message_id  target  category_length Cat1 Cat2  \\\n",
       "0   1515915625468169594-4301-627b661e9736d       0                4    4   28   \n",
       "1   1515915625468169594-4301-627b661e9736d       0                4    4   28   \n",
       "2   1515915625468169594-7180-634d2f82d8799       0                4    2   18   \n",
       "3  1515915625468169594-13392-649554cd9b5ee       0                4    4   28   \n",
       "4  1515915625468169594-13392-649554cd9b5ee       0                4    4   28   \n",
       "\n",
       "  Cat3  Cat4 Cat5  \n",
       "0   57   431    0  \n",
       "1   57   431    0  \n",
       "2  258  1569    0  \n",
       "3  124  1602    0  \n",
       "4  124  1602    0  "
      ]
     },
     "execution_count": 75,
     "metadata": {},
     "output_type": "execute_result"
    }
   ],
   "source": [
    "merged_df.head()"
   ]
  },
  {
   "cell_type": "code",
   "execution_count": 76,
   "id": "10240367-cae8-496c-9a2e-d88f2f8fba16",
   "metadata": {},
   "outputs": [],
   "source": [
    "merged_df = merged_df.drop(columns=['category_ids'])"
   ]
  },
  {
   "cell_type": "markdown",
   "id": "700dda1b-bfdb-4044-90b8-521cce8059ee",
   "metadata": {},
   "source": [
    "## order_data сгруппируем покупки по дням и клиентам"
   ]
  },
  {
   "cell_type": "markdown",
   "id": "5a6aebe3-620e-4e5b-bb9e-bc640eda17be",
   "metadata": {},
   "source": [
    "Представим что каждые клиент может соверщить лишь один заказ в день"
   ]
  },
  {
   "cell_type": "code",
   "execution_count": 79,
   "id": "2ff74e04-0a47-4fdf-a3d9-7343a76aab1f",
   "metadata": {},
   "outputs": [
    {
     "data": {
      "text/html": [
       "<div>\n",
       "<style scoped>\n",
       "    .dataframe tbody tr th:only-of-type {\n",
       "        vertical-align: middle;\n",
       "    }\n",
       "\n",
       "    .dataframe tbody tr th {\n",
       "        vertical-align: top;\n",
       "    }\n",
       "\n",
       "    .dataframe thead th {\n",
       "        text-align: right;\n",
       "    }\n",
       "</style>\n",
       "<table border=\"1\" class=\"dataframe\">\n",
       "  <thead>\n",
       "    <tr style=\"text-align: right;\">\n",
       "      <th></th>\n",
       "      <th>client_id</th>\n",
       "      <th>quantity</th>\n",
       "      <th>price</th>\n",
       "      <th>date</th>\n",
       "      <th>message_id</th>\n",
       "      <th>target</th>\n",
       "      <th>category_length</th>\n",
       "      <th>Cat1</th>\n",
       "      <th>Cat2</th>\n",
       "      <th>Cat3</th>\n",
       "      <th>Cat4</th>\n",
       "      <th>Cat5</th>\n",
       "    </tr>\n",
       "  </thead>\n",
       "  <tbody>\n",
       "    <tr>\n",
       "      <th>0</th>\n",
       "      <td>1515915625468169594</td>\n",
       "      <td>1</td>\n",
       "      <td>1999.0</td>\n",
       "      <td>2022-05-16</td>\n",
       "      <td>1515915625468169594-4301-627b661e9736d</td>\n",
       "      <td>0</td>\n",
       "      <td>4</td>\n",
       "      <td>4</td>\n",
       "      <td>28</td>\n",
       "      <td>57</td>\n",
       "      <td>431</td>\n",
       "      <td>0</td>\n",
       "    </tr>\n",
       "    <tr>\n",
       "      <th>1</th>\n",
       "      <td>1515915625468169594</td>\n",
       "      <td>1</td>\n",
       "      <td>2499.0</td>\n",
       "      <td>2022-05-16</td>\n",
       "      <td>1515915625468169594-4301-627b661e9736d</td>\n",
       "      <td>0</td>\n",
       "      <td>4</td>\n",
       "      <td>4</td>\n",
       "      <td>28</td>\n",
       "      <td>57</td>\n",
       "      <td>431</td>\n",
       "      <td>0</td>\n",
       "    </tr>\n",
       "    <tr>\n",
       "      <th>2</th>\n",
       "      <td>1515915625468169594</td>\n",
       "      <td>1</td>\n",
       "      <td>742.0</td>\n",
       "      <td>2022-10-19</td>\n",
       "      <td>1515915625468169594-7180-634d2f82d8799</td>\n",
       "      <td>0</td>\n",
       "      <td>4</td>\n",
       "      <td>2</td>\n",
       "      <td>18</td>\n",
       "      <td>258</td>\n",
       "      <td>1569</td>\n",
       "      <td>0</td>\n",
       "    </tr>\n",
       "    <tr>\n",
       "      <th>3</th>\n",
       "      <td>1515915625468169594</td>\n",
       "      <td>1</td>\n",
       "      <td>1050.0</td>\n",
       "      <td>2023-06-30</td>\n",
       "      <td>1515915625468169594-13392-649554cd9b5ee</td>\n",
       "      <td>0</td>\n",
       "      <td>4</td>\n",
       "      <td>4</td>\n",
       "      <td>28</td>\n",
       "      <td>124</td>\n",
       "      <td>1602</td>\n",
       "      <td>0</td>\n",
       "    </tr>\n",
       "    <tr>\n",
       "      <th>4</th>\n",
       "      <td>1515915625468169594</td>\n",
       "      <td>1</td>\n",
       "      <td>864.0</td>\n",
       "      <td>2023-06-30</td>\n",
       "      <td>1515915625468169594-13392-649554cd9b5ee</td>\n",
       "      <td>0</td>\n",
       "      <td>4</td>\n",
       "      <td>4</td>\n",
       "      <td>28</td>\n",
       "      <td>124</td>\n",
       "      <td>1602</td>\n",
       "      <td>0</td>\n",
       "    </tr>\n",
       "  </tbody>\n",
       "</table>\n",
       "</div>"
      ],
      "text/plain": [
       "             client_id  quantity   price       date  \\\n",
       "0  1515915625468169594         1  1999.0 2022-05-16   \n",
       "1  1515915625468169594         1  2499.0 2022-05-16   \n",
       "2  1515915625468169594         1   742.0 2022-10-19   \n",
       "3  1515915625468169594         1  1050.0 2023-06-30   \n",
       "4  1515915625468169594         1   864.0 2023-06-30   \n",
       "\n",
       "                                message_id  target  category_length Cat1 Cat2  \\\n",
       "0   1515915625468169594-4301-627b661e9736d       0                4    4   28   \n",
       "1   1515915625468169594-4301-627b661e9736d       0                4    4   28   \n",
       "2   1515915625468169594-7180-634d2f82d8799       0                4    2   18   \n",
       "3  1515915625468169594-13392-649554cd9b5ee       0                4    4   28   \n",
       "4  1515915625468169594-13392-649554cd9b5ee       0                4    4   28   \n",
       "\n",
       "  Cat3  Cat4 Cat5  \n",
       "0   57   431    0  \n",
       "1   57   431    0  \n",
       "2  258  1569    0  \n",
       "3  124  1602    0  \n",
       "4  124  1602    0  "
      ]
     },
     "execution_count": 79,
     "metadata": {},
     "output_type": "execute_result"
    }
   ],
   "source": [
    "merged_df.head()"
   ]
  },
  {
   "cell_type": "code",
   "execution_count": 80,
   "id": "3dc27dcc-e97b-4518-ab25-b2411d372383",
   "metadata": {},
   "outputs": [],
   "source": [
    "order_data = merged_df.groupby(['client_id', 'date', 'target']).agg({\n",
    "    'quantity': 'sum',\n",
    "    'price': 'sum'\n",
    "}).reset_index()"
   ]
  },
  {
   "cell_type": "code",
   "execution_count": 81,
   "id": "3e7e4e1a-82d8-4eef-8f30-dc6fbf60f5f2",
   "metadata": {},
   "outputs": [
    {
     "data": {
      "text/html": [
       "<div>\n",
       "<style scoped>\n",
       "    .dataframe tbody tr th:only-of-type {\n",
       "        vertical-align: middle;\n",
       "    }\n",
       "\n",
       "    .dataframe tbody tr th {\n",
       "        vertical-align: top;\n",
       "    }\n",
       "\n",
       "    .dataframe thead th {\n",
       "        text-align: right;\n",
       "    }\n",
       "</style>\n",
       "<table border=\"1\" class=\"dataframe\">\n",
       "  <thead>\n",
       "    <tr style=\"text-align: right;\">\n",
       "      <th></th>\n",
       "      <th>client_id</th>\n",
       "      <th>date</th>\n",
       "      <th>target</th>\n",
       "      <th>quantity</th>\n",
       "      <th>price</th>\n",
       "    </tr>\n",
       "  </thead>\n",
       "  <tbody>\n",
       "    <tr>\n",
       "      <th>0</th>\n",
       "      <td>1515915625468060902</td>\n",
       "      <td>2022-05-27</td>\n",
       "      <td>0</td>\n",
       "      <td>7</td>\n",
       "      <td>6993.0</td>\n",
       "    </tr>\n",
       "    <tr>\n",
       "      <th>1</th>\n",
       "      <td>1515915625468061003</td>\n",
       "      <td>2023-01-04</td>\n",
       "      <td>1</td>\n",
       "      <td>7</td>\n",
       "      <td>16235.0</td>\n",
       "    </tr>\n",
       "    <tr>\n",
       "      <th>2</th>\n",
       "      <td>1515915625468061099</td>\n",
       "      <td>2022-05-17</td>\n",
       "      <td>0</td>\n",
       "      <td>1</td>\n",
       "      <td>299.0</td>\n",
       "    </tr>\n",
       "    <tr>\n",
       "      <th>3</th>\n",
       "      <td>1515915625468061100</td>\n",
       "      <td>2024-02-10</td>\n",
       "      <td>0</td>\n",
       "      <td>2</td>\n",
       "      <td>2098.0</td>\n",
       "    </tr>\n",
       "    <tr>\n",
       "      <th>4</th>\n",
       "      <td>1515915625468061170</td>\n",
       "      <td>2023-03-26</td>\n",
       "      <td>0</td>\n",
       "      <td>4</td>\n",
       "      <td>5412.0</td>\n",
       "    </tr>\n",
       "  </tbody>\n",
       "</table>\n",
       "</div>"
      ],
      "text/plain": [
       "             client_id       date  target  quantity    price\n",
       "0  1515915625468060902 2022-05-27       0         7   6993.0\n",
       "1  1515915625468061003 2023-01-04       1         7  16235.0\n",
       "2  1515915625468061099 2022-05-17       0         1    299.0\n",
       "3  1515915625468061100 2024-02-10       0         2   2098.0\n",
       "4  1515915625468061170 2023-03-26       0         4   5412.0"
      ]
     },
     "execution_count": 81,
     "metadata": {},
     "output_type": "execute_result"
    }
   ],
   "source": [
    "order_data.head()"
   ]
  },
  {
   "cell_type": "markdown",
   "id": "7ef3e9df-d0e7-46ac-91fc-53e62808994b",
   "metadata": {},
   "source": [
    "Теперь стоит создать несколько метрик как средний заказ, расстояние в днях между заказами и тд"
   ]
  },
  {
   "cell_type": "code",
   "execution_count": 83,
   "id": "1042fc3f-787b-4b84-9fa6-fce93f2ccfb5",
   "metadata": {},
   "outputs": [],
   "source": [
    "order_data['date'] = pd.to_datetime(order_data['date'])\n",
    "\n",
    "# Sort by client_id and date\n",
    "order_data = order_data.sort_values(by=['client_id', 'date'])\n",
    "\n",
    "# Calculate the number of days to the next order\n",
    "order_data['next_order_date'] = order_data.groupby('client_id')['date'].shift(-1)\n",
    "order_data['days_until_next_order'] = (order_data['next_order_date'] - order_data['date']).dt.days"
   ]
  },
  {
   "cell_type": "code",
   "execution_count": 84,
   "id": "30766a36-30f0-4b91-bc8d-10c2b3cfa1f7",
   "metadata": {},
   "outputs": [
    {
     "data": {
      "text/html": [
       "<div>\n",
       "<style scoped>\n",
       "    .dataframe tbody tr th:only-of-type {\n",
       "        vertical-align: middle;\n",
       "    }\n",
       "\n",
       "    .dataframe tbody tr th {\n",
       "        vertical-align: top;\n",
       "    }\n",
       "\n",
       "    .dataframe thead th {\n",
       "        text-align: right;\n",
       "    }\n",
       "</style>\n",
       "<table border=\"1\" class=\"dataframe\">\n",
       "  <thead>\n",
       "    <tr style=\"text-align: right;\">\n",
       "      <th></th>\n",
       "      <th>client_id</th>\n",
       "      <th>date</th>\n",
       "      <th>target</th>\n",
       "      <th>quantity</th>\n",
       "      <th>price</th>\n",
       "      <th>next_order_date</th>\n",
       "      <th>days_until_next_order</th>\n",
       "    </tr>\n",
       "  </thead>\n",
       "  <tbody>\n",
       "    <tr>\n",
       "      <th>0</th>\n",
       "      <td>1515915625468060902</td>\n",
       "      <td>2022-05-27</td>\n",
       "      <td>0</td>\n",
       "      <td>7</td>\n",
       "      <td>6993.0</td>\n",
       "      <td>NaT</td>\n",
       "      <td>NaN</td>\n",
       "    </tr>\n",
       "    <tr>\n",
       "      <th>1</th>\n",
       "      <td>1515915625468061003</td>\n",
       "      <td>2023-01-04</td>\n",
       "      <td>1</td>\n",
       "      <td>7</td>\n",
       "      <td>16235.0</td>\n",
       "      <td>NaT</td>\n",
       "      <td>NaN</td>\n",
       "    </tr>\n",
       "    <tr>\n",
       "      <th>2</th>\n",
       "      <td>1515915625468061099</td>\n",
       "      <td>2022-05-17</td>\n",
       "      <td>0</td>\n",
       "      <td>1</td>\n",
       "      <td>299.0</td>\n",
       "      <td>NaT</td>\n",
       "      <td>NaN</td>\n",
       "    </tr>\n",
       "    <tr>\n",
       "      <th>3</th>\n",
       "      <td>1515915625468061100</td>\n",
       "      <td>2024-02-10</td>\n",
       "      <td>0</td>\n",
       "      <td>2</td>\n",
       "      <td>2098.0</td>\n",
       "      <td>NaT</td>\n",
       "      <td>NaN</td>\n",
       "    </tr>\n",
       "    <tr>\n",
       "      <th>4</th>\n",
       "      <td>1515915625468061170</td>\n",
       "      <td>2023-03-26</td>\n",
       "      <td>0</td>\n",
       "      <td>4</td>\n",
       "      <td>5412.0</td>\n",
       "      <td>2023-03-29</td>\n",
       "      <td>3.0</td>\n",
       "    </tr>\n",
       "  </tbody>\n",
       "</table>\n",
       "</div>"
      ],
      "text/plain": [
       "             client_id       date  target  quantity    price next_order_date  \\\n",
       "0  1515915625468060902 2022-05-27       0         7   6993.0             NaT   \n",
       "1  1515915625468061003 2023-01-04       1         7  16235.0             NaT   \n",
       "2  1515915625468061099 2022-05-17       0         1    299.0             NaT   \n",
       "3  1515915625468061100 2024-02-10       0         2   2098.0             NaT   \n",
       "4  1515915625468061170 2023-03-26       0         4   5412.0      2023-03-29   \n",
       "\n",
       "   days_until_next_order  \n",
       "0                    NaN  \n",
       "1                    NaN  \n",
       "2                    NaN  \n",
       "3                    NaN  \n",
       "4                    3.0  "
      ]
     },
     "execution_count": 84,
     "metadata": {},
     "output_type": "execute_result"
    }
   ],
   "source": [
    "order_data.head()"
   ]
  },
  {
   "cell_type": "markdown",
   "id": "40f7b63b-47ec-47a4-8065-4824d7a4c720",
   "metadata": {},
   "source": [
    "## average_client_order profile"
   ]
  },
  {
   "cell_type": "code",
   "execution_count": 86,
   "id": "3818fbc2-5155-43be-920d-ebbe0500ef67",
   "metadata": {},
   "outputs": [],
   "source": [
    "average_client_metrics = order_data.groupby(['client_id', 'target']).agg({\n",
    "    'quantity': 'sum',\n",
    "    'price': 'sum',\n",
    "    'date' : 'count',\n",
    "    'days_until_next_order' : 'sum'\n",
    "}).rename(columns={'date': 'order_count', 'days_until_next_order':'avg_days_until_next_order'}).reset_index()"
   ]
  },
  {
   "cell_type": "code",
   "execution_count": 87,
   "id": "49c8aa3f-49cd-4655-b291-0bd0824c9caf",
   "metadata": {},
   "outputs": [],
   "source": [
    "average_client_metrics['avg_days_until_next_order'] = average_client_metrics['avg_days_until_next_order']/(average_client_metrics['order_count']-1)"
   ]
  },
  {
   "cell_type": "code",
   "execution_count": 88,
   "id": "3868d124-7ef9-4beb-b2d3-3e50eff6a541",
   "metadata": {},
   "outputs": [
    {
     "data": {
      "text/html": [
       "<div>\n",
       "<style scoped>\n",
       "    .dataframe tbody tr th:only-of-type {\n",
       "        vertical-align: middle;\n",
       "    }\n",
       "\n",
       "    .dataframe tbody tr th {\n",
       "        vertical-align: top;\n",
       "    }\n",
       "\n",
       "    .dataframe thead th {\n",
       "        text-align: right;\n",
       "    }\n",
       "</style>\n",
       "<table border=\"1\" class=\"dataframe\">\n",
       "  <thead>\n",
       "    <tr style=\"text-align: right;\">\n",
       "      <th></th>\n",
       "      <th>client_id</th>\n",
       "      <th>target</th>\n",
       "      <th>quantity</th>\n",
       "      <th>price</th>\n",
       "      <th>order_count</th>\n",
       "      <th>avg_days_until_next_order</th>\n",
       "    </tr>\n",
       "  </thead>\n",
       "  <tbody>\n",
       "    <tr>\n",
       "      <th>0</th>\n",
       "      <td>1515915625468060902</td>\n",
       "      <td>0</td>\n",
       "      <td>7</td>\n",
       "      <td>6993.0</td>\n",
       "      <td>1</td>\n",
       "      <td>NaN</td>\n",
       "    </tr>\n",
       "    <tr>\n",
       "      <th>1</th>\n",
       "      <td>1515915625468061003</td>\n",
       "      <td>1</td>\n",
       "      <td>7</td>\n",
       "      <td>16235.0</td>\n",
       "      <td>1</td>\n",
       "      <td>NaN</td>\n",
       "    </tr>\n",
       "    <tr>\n",
       "      <th>2</th>\n",
       "      <td>1515915625468061099</td>\n",
       "      <td>0</td>\n",
       "      <td>1</td>\n",
       "      <td>299.0</td>\n",
       "      <td>1</td>\n",
       "      <td>NaN</td>\n",
       "    </tr>\n",
       "    <tr>\n",
       "      <th>3</th>\n",
       "      <td>1515915625468061100</td>\n",
       "      <td>0</td>\n",
       "      <td>2</td>\n",
       "      <td>2098.0</td>\n",
       "      <td>1</td>\n",
       "      <td>NaN</td>\n",
       "    </tr>\n",
       "    <tr>\n",
       "      <th>4</th>\n",
       "      <td>1515915625468061170</td>\n",
       "      <td>0</td>\n",
       "      <td>19</td>\n",
       "      <td>33601.0</td>\n",
       "      <td>3</td>\n",
       "      <td>41.5</td>\n",
       "    </tr>\n",
       "  </tbody>\n",
       "</table>\n",
       "</div>"
      ],
      "text/plain": [
       "             client_id  target  quantity    price  order_count  \\\n",
       "0  1515915625468060902       0         7   6993.0            1   \n",
       "1  1515915625468061003       1         7  16235.0            1   \n",
       "2  1515915625468061099       0         1    299.0            1   \n",
       "3  1515915625468061100       0         2   2098.0            1   \n",
       "4  1515915625468061170       0        19  33601.0            3   \n",
       "\n",
       "   avg_days_until_next_order  \n",
       "0                        NaN  \n",
       "1                        NaN  \n",
       "2                        NaN  \n",
       "3                        NaN  \n",
       "4                       41.5  "
      ]
     },
     "execution_count": 88,
     "metadata": {},
     "output_type": "execute_result"
    }
   ],
   "source": [
    "average_client_metrics.head()"
   ]
  },
  {
   "cell_type": "code",
   "execution_count": 89,
   "id": "f9e35b92-6edd-4ecc-ba3d-2dfe6dda37c1",
   "metadata": {},
   "outputs": [],
   "source": [
    "average_client_metrics['customer_type'] = average_client_metrics['order_count'].apply(\n",
    "    lambda x: 'multiple' if x > 1 else 'single'\n",
    ")"
   ]
  },
  {
   "cell_type": "code",
   "execution_count": 90,
   "id": "44fbfdec-9a87-4c18-8740-186fdc13e095",
   "metadata": {},
   "outputs": [
    {
     "data": {
      "text/html": [
       "<div>\n",
       "<style scoped>\n",
       "    .dataframe tbody tr th:only-of-type {\n",
       "        vertical-align: middle;\n",
       "    }\n",
       "\n",
       "    .dataframe tbody tr th {\n",
       "        vertical-align: top;\n",
       "    }\n",
       "\n",
       "    .dataframe thead th {\n",
       "        text-align: right;\n",
       "    }\n",
       "</style>\n",
       "<table border=\"1\" class=\"dataframe\">\n",
       "  <thead>\n",
       "    <tr style=\"text-align: right;\">\n",
       "      <th></th>\n",
       "      <th>client_id</th>\n",
       "      <th>target</th>\n",
       "      <th>quantity</th>\n",
       "      <th>price</th>\n",
       "      <th>order_count</th>\n",
       "      <th>avg_days_until_next_order</th>\n",
       "      <th>customer_type</th>\n",
       "    </tr>\n",
       "  </thead>\n",
       "  <tbody>\n",
       "    <tr>\n",
       "      <th>0</th>\n",
       "      <td>1515915625468060902</td>\n",
       "      <td>0</td>\n",
       "      <td>7</td>\n",
       "      <td>6993.0</td>\n",
       "      <td>1</td>\n",
       "      <td>NaN</td>\n",
       "      <td>single</td>\n",
       "    </tr>\n",
       "    <tr>\n",
       "      <th>1</th>\n",
       "      <td>1515915625468061003</td>\n",
       "      <td>1</td>\n",
       "      <td>7</td>\n",
       "      <td>16235.0</td>\n",
       "      <td>1</td>\n",
       "      <td>NaN</td>\n",
       "      <td>single</td>\n",
       "    </tr>\n",
       "    <tr>\n",
       "      <th>2</th>\n",
       "      <td>1515915625468061099</td>\n",
       "      <td>0</td>\n",
       "      <td>1</td>\n",
       "      <td>299.0</td>\n",
       "      <td>1</td>\n",
       "      <td>NaN</td>\n",
       "      <td>single</td>\n",
       "    </tr>\n",
       "    <tr>\n",
       "      <th>3</th>\n",
       "      <td>1515915625468061100</td>\n",
       "      <td>0</td>\n",
       "      <td>2</td>\n",
       "      <td>2098.0</td>\n",
       "      <td>1</td>\n",
       "      <td>NaN</td>\n",
       "      <td>single</td>\n",
       "    </tr>\n",
       "    <tr>\n",
       "      <th>4</th>\n",
       "      <td>1515915625468061170</td>\n",
       "      <td>0</td>\n",
       "      <td>19</td>\n",
       "      <td>33601.0</td>\n",
       "      <td>3</td>\n",
       "      <td>41.5</td>\n",
       "      <td>multiple</td>\n",
       "    </tr>\n",
       "  </tbody>\n",
       "</table>\n",
       "</div>"
      ],
      "text/plain": [
       "             client_id  target  quantity    price  order_count  \\\n",
       "0  1515915625468060902       0         7   6993.0            1   \n",
       "1  1515915625468061003       1         7  16235.0            1   \n",
       "2  1515915625468061099       0         1    299.0            1   \n",
       "3  1515915625468061100       0         2   2098.0            1   \n",
       "4  1515915625468061170       0        19  33601.0            3   \n",
       "\n",
       "   avg_days_until_next_order customer_type  \n",
       "0                        NaN        single  \n",
       "1                        NaN        single  \n",
       "2                        NaN        single  \n",
       "3                        NaN        single  \n",
       "4                       41.5      multiple  "
      ]
     },
     "execution_count": 90,
     "metadata": {},
     "output_type": "execute_result"
    }
   ],
   "source": [
    "average_client_metrics.head()"
   ]
  },
  {
   "cell_type": "code",
   "execution_count": 91,
   "id": "3da06758-429b-4838-b3af-5792791f3b2c",
   "metadata": {},
   "outputs": [],
   "source": [
    "average_client_metrics['avg_order_spent'] = average_client_metrics['price']/average_client_metrics['order_count']"
   ]
  },
  {
   "cell_type": "code",
   "execution_count": 92,
   "id": "5605b080-324c-4864-b3fe-4a329dbb8d18",
   "metadata": {},
   "outputs": [],
   "source": [
    "average_client_metrics['avg_items_per_order'] = average_client_metrics['quantity']/average_client_metrics['order_count']"
   ]
  },
  {
   "cell_type": "code",
   "execution_count": 93,
   "id": "fb05fc08-e425-4be9-b484-1dde6f35fb60",
   "metadata": {},
   "outputs": [],
   "source": [
    "average_client_metrics['avg_items_price'] = average_client_metrics['price']/average_client_metrics['quantity']"
   ]
  },
  {
   "cell_type": "code",
   "execution_count": 94,
   "id": "05cb4a1b-8294-4aea-adc7-ce2dcca16461",
   "metadata": {},
   "outputs": [
    {
     "data": {
      "text/html": [
       "<div>\n",
       "<style scoped>\n",
       "    .dataframe tbody tr th:only-of-type {\n",
       "        vertical-align: middle;\n",
       "    }\n",
       "\n",
       "    .dataframe tbody tr th {\n",
       "        vertical-align: top;\n",
       "    }\n",
       "\n",
       "    .dataframe thead th {\n",
       "        text-align: right;\n",
       "    }\n",
       "</style>\n",
       "<table border=\"1\" class=\"dataframe\">\n",
       "  <thead>\n",
       "    <tr style=\"text-align: right;\">\n",
       "      <th></th>\n",
       "      <th>client_id</th>\n",
       "      <th>target</th>\n",
       "      <th>quantity</th>\n",
       "      <th>price</th>\n",
       "      <th>order_count</th>\n",
       "      <th>avg_days_until_next_order</th>\n",
       "      <th>customer_type</th>\n",
       "      <th>avg_order_spent</th>\n",
       "      <th>avg_items_per_order</th>\n",
       "      <th>avg_items_price</th>\n",
       "    </tr>\n",
       "  </thead>\n",
       "  <tbody>\n",
       "    <tr>\n",
       "      <th>0</th>\n",
       "      <td>1515915625468060902</td>\n",
       "      <td>0</td>\n",
       "      <td>7</td>\n",
       "      <td>6993.0</td>\n",
       "      <td>1</td>\n",
       "      <td>NaN</td>\n",
       "      <td>single</td>\n",
       "      <td>6993.000000</td>\n",
       "      <td>7.000000</td>\n",
       "      <td>999.000000</td>\n",
       "    </tr>\n",
       "    <tr>\n",
       "      <th>1</th>\n",
       "      <td>1515915625468061003</td>\n",
       "      <td>1</td>\n",
       "      <td>7</td>\n",
       "      <td>16235.0</td>\n",
       "      <td>1</td>\n",
       "      <td>NaN</td>\n",
       "      <td>single</td>\n",
       "      <td>16235.000000</td>\n",
       "      <td>7.000000</td>\n",
       "      <td>2319.285714</td>\n",
       "    </tr>\n",
       "    <tr>\n",
       "      <th>2</th>\n",
       "      <td>1515915625468061099</td>\n",
       "      <td>0</td>\n",
       "      <td>1</td>\n",
       "      <td>299.0</td>\n",
       "      <td>1</td>\n",
       "      <td>NaN</td>\n",
       "      <td>single</td>\n",
       "      <td>299.000000</td>\n",
       "      <td>1.000000</td>\n",
       "      <td>299.000000</td>\n",
       "    </tr>\n",
       "    <tr>\n",
       "      <th>3</th>\n",
       "      <td>1515915625468061100</td>\n",
       "      <td>0</td>\n",
       "      <td>2</td>\n",
       "      <td>2098.0</td>\n",
       "      <td>1</td>\n",
       "      <td>NaN</td>\n",
       "      <td>single</td>\n",
       "      <td>2098.000000</td>\n",
       "      <td>2.000000</td>\n",
       "      <td>1049.000000</td>\n",
       "    </tr>\n",
       "    <tr>\n",
       "      <th>4</th>\n",
       "      <td>1515915625468061170</td>\n",
       "      <td>0</td>\n",
       "      <td>19</td>\n",
       "      <td>33601.0</td>\n",
       "      <td>3</td>\n",
       "      <td>41.5</td>\n",
       "      <td>multiple</td>\n",
       "      <td>11200.333333</td>\n",
       "      <td>6.333333</td>\n",
       "      <td>1768.473684</td>\n",
       "    </tr>\n",
       "  </tbody>\n",
       "</table>\n",
       "</div>"
      ],
      "text/plain": [
       "             client_id  target  quantity    price  order_count  \\\n",
       "0  1515915625468060902       0         7   6993.0            1   \n",
       "1  1515915625468061003       1         7  16235.0            1   \n",
       "2  1515915625468061099       0         1    299.0            1   \n",
       "3  1515915625468061100       0         2   2098.0            1   \n",
       "4  1515915625468061170       0        19  33601.0            3   \n",
       "\n",
       "   avg_days_until_next_order customer_type  avg_order_spent  \\\n",
       "0                        NaN        single      6993.000000   \n",
       "1                        NaN        single     16235.000000   \n",
       "2                        NaN        single       299.000000   \n",
       "3                        NaN        single      2098.000000   \n",
       "4                       41.5      multiple     11200.333333   \n",
       "\n",
       "   avg_items_per_order  avg_items_price  \n",
       "0             7.000000       999.000000  \n",
       "1             7.000000      2319.285714  \n",
       "2             1.000000       299.000000  \n",
       "3             2.000000      1049.000000  \n",
       "4             6.333333      1768.473684  "
      ]
     },
     "execution_count": 94,
     "metadata": {},
     "output_type": "execute_result"
    }
   ],
   "source": [
    "average_client_metrics.head()"
   ]
  },
  {
   "cell_type": "code",
   "execution_count": 95,
   "id": "8f9698dc-3c82-4029-b217-ec61e9249a08",
   "metadata": {},
   "outputs": [],
   "source": [
    "last_client_order_date = order_data.groupby(['client_id']).agg({\n",
    "    'date' : 'max',\n",
    "}).rename(columns={'date': 'last_order_date'}).reset_index()"
   ]
  },
  {
   "cell_type": "code",
   "execution_count": 96,
   "id": "6f21a84c-e153-4633-b1b8-ba74ba303c96",
   "metadata": {},
   "outputs": [],
   "source": [
    "average_client_metrics = average_client_metrics.merge(last_client_order_date, on=['client_id'])"
   ]
  },
  {
   "cell_type": "code",
   "execution_count": 97,
   "id": "0dc08b04-9f36-40b6-a728-2f1a041d3a91",
   "metadata": {},
   "outputs": [],
   "source": [
    "max_date = merged_df['date'].max()"
   ]
  },
  {
   "cell_type": "code",
   "execution_count": 98,
   "id": "4f4c1f45-099d-4d5f-9efd-077d1e2323d2",
   "metadata": {},
   "outputs": [
    {
     "data": {
      "text/plain": [
       "Timestamp('2024-02-16 00:00:00')"
      ]
     },
     "execution_count": 98,
     "metadata": {},
     "output_type": "execute_result"
    }
   ],
   "source": [
    "max_date"
   ]
  },
  {
   "cell_type": "code",
   "execution_count": 99,
   "id": "5870a3cd-7438-41b1-9465-0e9c36f68251",
   "metadata": {},
   "outputs": [],
   "source": [
    "average_client_metrics['extraction_date'] = max_date + pd.Timedelta(days=1)"
   ]
  },
  {
   "cell_type": "code",
   "execution_count": 100,
   "id": "5ffa7cd6-4318-475d-a5cf-c5c7ec968730",
   "metadata": {},
   "outputs": [],
   "source": [
    "average_client_metrics['days_between_extraction_last_order'] = (average_client_metrics['extraction_date'] - average_client_metrics['last_order_date']).dt.days"
   ]
  },
  {
   "cell_type": "code",
   "execution_count": null,
   "id": "ea108493-2333-49b9-9167-c9eb48238d66",
   "metadata": {},
   "outputs": [],
   "source": []
  },
  {
   "cell_type": "markdown",
   "id": "acc0e1c7-11a5-4d3b-b203-3f476e3e13e8",
   "metadata": {},
   "source": [
    "### Пометка\n",
    "\n",
    "Создал много новых полей для профиля покупателя. теперь стоит обратить внимание на статус сообщений который мы отправляли клиенту"
   ]
  },
  {
   "cell_type": "code",
   "execution_count": 102,
   "id": "fd15ef76-3f17-4990-995b-d7ee1de975ed",
   "metadata": {},
   "outputs": [
    {
     "data": {
      "text/html": [
       "<div>\n",
       "<style scoped>\n",
       "    .dataframe tbody tr th:only-of-type {\n",
       "        vertical-align: middle;\n",
       "    }\n",
       "\n",
       "    .dataframe tbody tr th {\n",
       "        vertical-align: top;\n",
       "    }\n",
       "\n",
       "    .dataframe thead th {\n",
       "        text-align: right;\n",
       "    }\n",
       "</style>\n",
       "<table border=\"1\" class=\"dataframe\">\n",
       "  <thead>\n",
       "    <tr style=\"text-align: right;\">\n",
       "      <th></th>\n",
       "      <th>client_id</th>\n",
       "      <th>target</th>\n",
       "      <th>quantity</th>\n",
       "      <th>price</th>\n",
       "      <th>order_count</th>\n",
       "      <th>avg_days_until_next_order</th>\n",
       "      <th>customer_type</th>\n",
       "      <th>avg_order_spent</th>\n",
       "      <th>avg_items_per_order</th>\n",
       "      <th>avg_items_price</th>\n",
       "      <th>last_order_date</th>\n",
       "      <th>extraction_date</th>\n",
       "      <th>days_between_extraction_last_order</th>\n",
       "    </tr>\n",
       "  </thead>\n",
       "  <tbody>\n",
       "    <tr>\n",
       "      <th>0</th>\n",
       "      <td>1515915625468060902</td>\n",
       "      <td>0</td>\n",
       "      <td>7</td>\n",
       "      <td>6993.0</td>\n",
       "      <td>1</td>\n",
       "      <td>NaN</td>\n",
       "      <td>single</td>\n",
       "      <td>6993.000000</td>\n",
       "      <td>7.000000</td>\n",
       "      <td>999.000000</td>\n",
       "      <td>2022-05-27</td>\n",
       "      <td>2024-02-17</td>\n",
       "      <td>631</td>\n",
       "    </tr>\n",
       "    <tr>\n",
       "      <th>1</th>\n",
       "      <td>1515915625468061003</td>\n",
       "      <td>1</td>\n",
       "      <td>7</td>\n",
       "      <td>16235.0</td>\n",
       "      <td>1</td>\n",
       "      <td>NaN</td>\n",
       "      <td>single</td>\n",
       "      <td>16235.000000</td>\n",
       "      <td>7.000000</td>\n",
       "      <td>2319.285714</td>\n",
       "      <td>2023-01-04</td>\n",
       "      <td>2024-02-17</td>\n",
       "      <td>409</td>\n",
       "    </tr>\n",
       "    <tr>\n",
       "      <th>2</th>\n",
       "      <td>1515915625468061099</td>\n",
       "      <td>0</td>\n",
       "      <td>1</td>\n",
       "      <td>299.0</td>\n",
       "      <td>1</td>\n",
       "      <td>NaN</td>\n",
       "      <td>single</td>\n",
       "      <td>299.000000</td>\n",
       "      <td>1.000000</td>\n",
       "      <td>299.000000</td>\n",
       "      <td>2022-05-17</td>\n",
       "      <td>2024-02-17</td>\n",
       "      <td>641</td>\n",
       "    </tr>\n",
       "    <tr>\n",
       "      <th>3</th>\n",
       "      <td>1515915625468061100</td>\n",
       "      <td>0</td>\n",
       "      <td>2</td>\n",
       "      <td>2098.0</td>\n",
       "      <td>1</td>\n",
       "      <td>NaN</td>\n",
       "      <td>single</td>\n",
       "      <td>2098.000000</td>\n",
       "      <td>2.000000</td>\n",
       "      <td>1049.000000</td>\n",
       "      <td>2024-02-10</td>\n",
       "      <td>2024-02-17</td>\n",
       "      <td>7</td>\n",
       "    </tr>\n",
       "    <tr>\n",
       "      <th>4</th>\n",
       "      <td>1515915625468061170</td>\n",
       "      <td>0</td>\n",
       "      <td>19</td>\n",
       "      <td>33601.0</td>\n",
       "      <td>3</td>\n",
       "      <td>41.5</td>\n",
       "      <td>multiple</td>\n",
       "      <td>11200.333333</td>\n",
       "      <td>6.333333</td>\n",
       "      <td>1768.473684</td>\n",
       "      <td>2023-06-17</td>\n",
       "      <td>2024-02-17</td>\n",
       "      <td>245</td>\n",
       "    </tr>\n",
       "  </tbody>\n",
       "</table>\n",
       "</div>"
      ],
      "text/plain": [
       "             client_id  target  quantity    price  order_count  \\\n",
       "0  1515915625468060902       0         7   6993.0            1   \n",
       "1  1515915625468061003       1         7  16235.0            1   \n",
       "2  1515915625468061099       0         1    299.0            1   \n",
       "3  1515915625468061100       0         2   2098.0            1   \n",
       "4  1515915625468061170       0        19  33601.0            3   \n",
       "\n",
       "   avg_days_until_next_order customer_type  avg_order_spent  \\\n",
       "0                        NaN        single      6993.000000   \n",
       "1                        NaN        single     16235.000000   \n",
       "2                        NaN        single       299.000000   \n",
       "3                        NaN        single      2098.000000   \n",
       "4                       41.5      multiple     11200.333333   \n",
       "\n",
       "   avg_items_per_order  avg_items_price last_order_date extraction_date  \\\n",
       "0             7.000000       999.000000      2022-05-27      2024-02-17   \n",
       "1             7.000000      2319.285714      2023-01-04      2024-02-17   \n",
       "2             1.000000       299.000000      2022-05-17      2024-02-17   \n",
       "3             2.000000      1049.000000      2024-02-10      2024-02-17   \n",
       "4             6.333333      1768.473684      2023-06-17      2024-02-17   \n",
       "\n",
       "   days_between_extraction_last_order  \n",
       "0                                 631  \n",
       "1                                 409  \n",
       "2                                 641  \n",
       "3                                   7  \n",
       "4                                 245  "
      ]
     },
     "execution_count": 102,
     "metadata": {},
     "output_type": "execute_result"
    }
   ],
   "source": [
    "average_client_metrics.head()"
   ]
  },
  {
   "cell_type": "code",
   "execution_count": 103,
   "id": "0475a94b-d1f0-41a9-83c1-68a94a161e5b",
   "metadata": {},
   "outputs": [],
   "source": [
    "#conditions = [\n",
    "#    (average_client_metrics['days_between_extraction_last_order'] < 30),\n",
    "#    (average_client_metrics['days_between_extraction_last_order'] < 60),\n",
    "#    (average_client_metrics['days_between_extraction_last_order'] < 90),\n",
    "#    (average_client_metrics['days_between_extraction_last_order'] < 120)\n",
    "#]\n",
    "\n",
    "#categories = [\n",
    "#    'ordered in 30 days',\n",
    "#    'ordered in 60 days',\n",
    "#    'ordered in 90 days',\n",
    "#    'ordered in 120 days'\n",
    "#]\n",
    "\n",
    "# Apply conditions to assign categories\n",
    "#average_client_metrics['days_from_last_order_cat'] = np.select(\n",
    "#    conditions, \n",
    "#    categories, \n",
    "#    default='150 days plus'\n",
    "#)"
   ]
  },
  {
   "cell_type": "markdown",
   "id": "49abacbb-11b0-43f6-b2bc-5efd134e8827",
   "metadata": {},
   "source": [
    "идею проверил но она переобучает модель"
   ]
  },
  {
   "cell_type": "code",
   "execution_count": 105,
   "id": "fa44c8d0-3c33-4261-89b4-62f6244f9b7d",
   "metadata": {},
   "outputs": [
    {
     "data": {
      "text/html": [
       "<div>\n",
       "<style scoped>\n",
       "    .dataframe tbody tr th:only-of-type {\n",
       "        vertical-align: middle;\n",
       "    }\n",
       "\n",
       "    .dataframe tbody tr th {\n",
       "        vertical-align: top;\n",
       "    }\n",
       "\n",
       "    .dataframe thead th {\n",
       "        text-align: right;\n",
       "    }\n",
       "</style>\n",
       "<table border=\"1\" class=\"dataframe\">\n",
       "  <thead>\n",
       "    <tr style=\"text-align: right;\">\n",
       "      <th></th>\n",
       "      <th>client_id</th>\n",
       "      <th>target</th>\n",
       "      <th>quantity</th>\n",
       "      <th>price</th>\n",
       "      <th>order_count</th>\n",
       "      <th>avg_days_until_next_order</th>\n",
       "      <th>customer_type</th>\n",
       "      <th>avg_order_spent</th>\n",
       "      <th>avg_items_per_order</th>\n",
       "      <th>avg_items_price</th>\n",
       "      <th>last_order_date</th>\n",
       "      <th>extraction_date</th>\n",
       "      <th>days_between_extraction_last_order</th>\n",
       "    </tr>\n",
       "  </thead>\n",
       "  <tbody>\n",
       "    <tr>\n",
       "      <th>0</th>\n",
       "      <td>1515915625468060902</td>\n",
       "      <td>0</td>\n",
       "      <td>7</td>\n",
       "      <td>6993.0</td>\n",
       "      <td>1</td>\n",
       "      <td>NaN</td>\n",
       "      <td>single</td>\n",
       "      <td>6993.000000</td>\n",
       "      <td>7.000000</td>\n",
       "      <td>999.000000</td>\n",
       "      <td>2022-05-27</td>\n",
       "      <td>2024-02-17</td>\n",
       "      <td>631</td>\n",
       "    </tr>\n",
       "    <tr>\n",
       "      <th>1</th>\n",
       "      <td>1515915625468061003</td>\n",
       "      <td>1</td>\n",
       "      <td>7</td>\n",
       "      <td>16235.0</td>\n",
       "      <td>1</td>\n",
       "      <td>NaN</td>\n",
       "      <td>single</td>\n",
       "      <td>16235.000000</td>\n",
       "      <td>7.000000</td>\n",
       "      <td>2319.285714</td>\n",
       "      <td>2023-01-04</td>\n",
       "      <td>2024-02-17</td>\n",
       "      <td>409</td>\n",
       "    </tr>\n",
       "    <tr>\n",
       "      <th>2</th>\n",
       "      <td>1515915625468061099</td>\n",
       "      <td>0</td>\n",
       "      <td>1</td>\n",
       "      <td>299.0</td>\n",
       "      <td>1</td>\n",
       "      <td>NaN</td>\n",
       "      <td>single</td>\n",
       "      <td>299.000000</td>\n",
       "      <td>1.000000</td>\n",
       "      <td>299.000000</td>\n",
       "      <td>2022-05-17</td>\n",
       "      <td>2024-02-17</td>\n",
       "      <td>641</td>\n",
       "    </tr>\n",
       "    <tr>\n",
       "      <th>3</th>\n",
       "      <td>1515915625468061100</td>\n",
       "      <td>0</td>\n",
       "      <td>2</td>\n",
       "      <td>2098.0</td>\n",
       "      <td>1</td>\n",
       "      <td>NaN</td>\n",
       "      <td>single</td>\n",
       "      <td>2098.000000</td>\n",
       "      <td>2.000000</td>\n",
       "      <td>1049.000000</td>\n",
       "      <td>2024-02-10</td>\n",
       "      <td>2024-02-17</td>\n",
       "      <td>7</td>\n",
       "    </tr>\n",
       "    <tr>\n",
       "      <th>4</th>\n",
       "      <td>1515915625468061170</td>\n",
       "      <td>0</td>\n",
       "      <td>19</td>\n",
       "      <td>33601.0</td>\n",
       "      <td>3</td>\n",
       "      <td>41.5</td>\n",
       "      <td>multiple</td>\n",
       "      <td>11200.333333</td>\n",
       "      <td>6.333333</td>\n",
       "      <td>1768.473684</td>\n",
       "      <td>2023-06-17</td>\n",
       "      <td>2024-02-17</td>\n",
       "      <td>245</td>\n",
       "    </tr>\n",
       "  </tbody>\n",
       "</table>\n",
       "</div>"
      ],
      "text/plain": [
       "             client_id  target  quantity    price  order_count  \\\n",
       "0  1515915625468060902       0         7   6993.0            1   \n",
       "1  1515915625468061003       1         7  16235.0            1   \n",
       "2  1515915625468061099       0         1    299.0            1   \n",
       "3  1515915625468061100       0         2   2098.0            1   \n",
       "4  1515915625468061170       0        19  33601.0            3   \n",
       "\n",
       "   avg_days_until_next_order customer_type  avg_order_spent  \\\n",
       "0                        NaN        single      6993.000000   \n",
       "1                        NaN        single     16235.000000   \n",
       "2                        NaN        single       299.000000   \n",
       "3                        NaN        single      2098.000000   \n",
       "4                       41.5      multiple     11200.333333   \n",
       "\n",
       "   avg_items_per_order  avg_items_price last_order_date extraction_date  \\\n",
       "0             7.000000       999.000000      2022-05-27      2024-02-17   \n",
       "1             7.000000      2319.285714      2023-01-04      2024-02-17   \n",
       "2             1.000000       299.000000      2022-05-17      2024-02-17   \n",
       "3             2.000000      1049.000000      2024-02-10      2024-02-17   \n",
       "4             6.333333      1768.473684      2023-06-17      2024-02-17   \n",
       "\n",
       "   days_between_extraction_last_order  \n",
       "0                                 631  \n",
       "1                                 409  \n",
       "2                                 641  \n",
       "3                                   7  \n",
       "4                                 245  "
      ]
     },
     "execution_count": 105,
     "metadata": {},
     "output_type": "execute_result"
    }
   ],
   "source": [
    "average_client_metrics.head()"
   ]
  },
  {
   "cell_type": "markdown",
   "id": "422bc016-6ecc-4d5e-b469-429c71e19667",
   "metadata": {},
   "source": [
    "### Messages"
   ]
  },
  {
   "cell_type": "code",
   "execution_count": 107,
   "id": "48f99cf9-5d72-45e5-b0bd-4c10546f123b",
   "metadata": {},
   "outputs": [
    {
     "data": {
      "text/html": [
       "<div>\n",
       "<style scoped>\n",
       "    .dataframe tbody tr th:only-of-type {\n",
       "        vertical-align: middle;\n",
       "    }\n",
       "\n",
       "    .dataframe tbody tr th {\n",
       "        vertical-align: top;\n",
       "    }\n",
       "\n",
       "    .dataframe thead th {\n",
       "        text-align: right;\n",
       "    }\n",
       "</style>\n",
       "<table border=\"1\" class=\"dataframe\">\n",
       "  <thead>\n",
       "    <tr style=\"text-align: right;\">\n",
       "      <th></th>\n",
       "      <th>bulk_campaign_id</th>\n",
       "      <th>client_id</th>\n",
       "      <th>message_id</th>\n",
       "      <th>event</th>\n",
       "      <th>channel</th>\n",
       "      <th>date</th>\n",
       "      <th>created_at</th>\n",
       "    </tr>\n",
       "  </thead>\n",
       "  <tbody>\n",
       "    <tr>\n",
       "      <th>0</th>\n",
       "      <td>4439</td>\n",
       "      <td>1515915625626736623</td>\n",
       "      <td>1515915625626736623-4439-6283415ac07ea</td>\n",
       "      <td>open</td>\n",
       "      <td>email</td>\n",
       "      <td>2022-05-19</td>\n",
       "      <td>2022-05-19 00:14:20</td>\n",
       "    </tr>\n",
       "    <tr>\n",
       "      <th>1</th>\n",
       "      <td>4439</td>\n",
       "      <td>1515915625490086521</td>\n",
       "      <td>1515915625490086521-4439-62834150016dd</td>\n",
       "      <td>open</td>\n",
       "      <td>email</td>\n",
       "      <td>2022-05-19</td>\n",
       "      <td>2022-05-19 00:39:34</td>\n",
       "    </tr>\n",
       "    <tr>\n",
       "      <th>2</th>\n",
       "      <td>4439</td>\n",
       "      <td>1515915625553578558</td>\n",
       "      <td>1515915625553578558-4439-6283415b36b4f</td>\n",
       "      <td>open</td>\n",
       "      <td>email</td>\n",
       "      <td>2022-05-19</td>\n",
       "      <td>2022-05-19 00:51:49</td>\n",
       "    </tr>\n",
       "    <tr>\n",
       "      <th>3</th>\n",
       "      <td>4439</td>\n",
       "      <td>1515915625553578558</td>\n",
       "      <td>1515915625553578558-4439-6283415b36b4f</td>\n",
       "      <td>click</td>\n",
       "      <td>email</td>\n",
       "      <td>2022-05-19</td>\n",
       "      <td>2022-05-19 00:52:20</td>\n",
       "    </tr>\n",
       "    <tr>\n",
       "      <th>4</th>\n",
       "      <td>4439</td>\n",
       "      <td>1515915625471518311</td>\n",
       "      <td>1515915625471518311-4439-628341570c133</td>\n",
       "      <td>open</td>\n",
       "      <td>email</td>\n",
       "      <td>2022-05-19</td>\n",
       "      <td>2022-05-19 00:56:52</td>\n",
       "    </tr>\n",
       "  </tbody>\n",
       "</table>\n",
       "</div>"
      ],
      "text/plain": [
       "   bulk_campaign_id            client_id  \\\n",
       "0              4439  1515915625626736623   \n",
       "1              4439  1515915625490086521   \n",
       "2              4439  1515915625553578558   \n",
       "3              4439  1515915625553578558   \n",
       "4              4439  1515915625471518311   \n",
       "\n",
       "                               message_id  event channel       date  \\\n",
       "0  1515915625626736623-4439-6283415ac07ea   open   email 2022-05-19   \n",
       "1  1515915625490086521-4439-62834150016dd   open   email 2022-05-19   \n",
       "2  1515915625553578558-4439-6283415b36b4f   open   email 2022-05-19   \n",
       "3  1515915625553578558-4439-6283415b36b4f  click   email 2022-05-19   \n",
       "4  1515915625471518311-4439-628341570c133   open   email 2022-05-19   \n",
       "\n",
       "           created_at  \n",
       "0 2022-05-19 00:14:20  \n",
       "1 2022-05-19 00:39:34  \n",
       "2 2022-05-19 00:51:49  \n",
       "3 2022-05-19 00:52:20  \n",
       "4 2022-05-19 00:56:52  "
      ]
     },
     "execution_count": 107,
     "metadata": {},
     "output_type": "execute_result"
    }
   ],
   "source": [
    "messages.head()"
   ]
  },
  {
   "cell_type": "code",
   "execution_count": 108,
   "id": "7364f2fc-63e9-4af6-8bcc-4a9d2270c815",
   "metadata": {},
   "outputs": [
    {
     "data": {
      "text/html": [
       "<div>\n",
       "<style scoped>\n",
       "    .dataframe tbody tr th:only-of-type {\n",
       "        vertical-align: middle;\n",
       "    }\n",
       "\n",
       "    .dataframe tbody tr th {\n",
       "        vertical-align: top;\n",
       "    }\n",
       "\n",
       "    .dataframe thead th {\n",
       "        text-align: right;\n",
       "    }\n",
       "</style>\n",
       "<table border=\"1\" class=\"dataframe\">\n",
       "  <thead>\n",
       "    <tr style=\"text-align: right;\">\n",
       "      <th></th>\n",
       "      <th>bulk_campaign_id</th>\n",
       "      <th>client_id</th>\n",
       "      <th>message_id</th>\n",
       "      <th>event</th>\n",
       "      <th>channel</th>\n",
       "      <th>date</th>\n",
       "      <th>created_at</th>\n",
       "    </tr>\n",
       "  </thead>\n",
       "  <tbody>\n",
       "    <tr>\n",
       "      <th>5851006</th>\n",
       "      <td>13392</td>\n",
       "      <td>1515915625468169594</td>\n",
       "      <td>1515915625468169594-13392-649554cd9b5ee</td>\n",
       "      <td>send</td>\n",
       "      <td>email</td>\n",
       "      <td>2023-06-23</td>\n",
       "      <td>2023-06-23 08:17:34</td>\n",
       "    </tr>\n",
       "    <tr>\n",
       "      <th>5871646</th>\n",
       "      <td>13392</td>\n",
       "      <td>1515915625468169594</td>\n",
       "      <td>1515915625468169594-13392-649554cd9b5ee</td>\n",
       "      <td>open</td>\n",
       "      <td>email</td>\n",
       "      <td>2023-06-23</td>\n",
       "      <td>2023-06-23 10:41:24</td>\n",
       "    </tr>\n",
       "    <tr>\n",
       "      <th>6004827</th>\n",
       "      <td>13392</td>\n",
       "      <td>1515915625468169594</td>\n",
       "      <td>1515915625468169594-13392-649554cd9b5ee</td>\n",
       "      <td>open</td>\n",
       "      <td>email</td>\n",
       "      <td>2023-06-30</td>\n",
       "      <td>2023-06-30 16:58:41</td>\n",
       "    </tr>\n",
       "    <tr>\n",
       "      <th>6004829</th>\n",
       "      <td>13392</td>\n",
       "      <td>1515915625468169594</td>\n",
       "      <td>1515915625468169594-13392-649554cd9b5ee</td>\n",
       "      <td>click</td>\n",
       "      <td>email</td>\n",
       "      <td>2023-06-30</td>\n",
       "      <td>2023-06-30 16:59:01</td>\n",
       "    </tr>\n",
       "    <tr>\n",
       "      <th>6004877</th>\n",
       "      <td>13392</td>\n",
       "      <td>1515915625468169594</td>\n",
       "      <td>1515915625468169594-13392-649554cd9b5ee</td>\n",
       "      <td>purchase</td>\n",
       "      <td>email</td>\n",
       "      <td>2023-06-30</td>\n",
       "      <td>2023-06-30 17:10:25</td>\n",
       "    </tr>\n",
       "  </tbody>\n",
       "</table>\n",
       "</div>"
      ],
      "text/plain": [
       "         bulk_campaign_id            client_id  \\\n",
       "5851006             13392  1515915625468169594   \n",
       "5871646             13392  1515915625468169594   \n",
       "6004827             13392  1515915625468169594   \n",
       "6004829             13392  1515915625468169594   \n",
       "6004877             13392  1515915625468169594   \n",
       "\n",
       "                                      message_id     event channel       date  \\\n",
       "5851006  1515915625468169594-13392-649554cd9b5ee      send   email 2023-06-23   \n",
       "5871646  1515915625468169594-13392-649554cd9b5ee      open   email 2023-06-23   \n",
       "6004827  1515915625468169594-13392-649554cd9b5ee      open   email 2023-06-30   \n",
       "6004829  1515915625468169594-13392-649554cd9b5ee     click   email 2023-06-30   \n",
       "6004877  1515915625468169594-13392-649554cd9b5ee  purchase   email 2023-06-30   \n",
       "\n",
       "                 created_at  \n",
       "5851006 2023-06-23 08:17:34  \n",
       "5871646 2023-06-23 10:41:24  \n",
       "6004827 2023-06-30 16:58:41  \n",
       "6004829 2023-06-30 16:59:01  \n",
       "6004877 2023-06-30 17:10:25  "
      ]
     },
     "execution_count": 108,
     "metadata": {},
     "output_type": "execute_result"
    }
   ],
   "source": [
    "messages[messages['message_id'] == '1515915625468169594-13392-649554cd9b5ee']"
   ]
  },
  {
   "cell_type": "code",
   "execution_count": 109,
   "id": "329770b0-7354-465e-9ec5-c21169f7a359",
   "metadata": {},
   "outputs": [
    {
     "data": {
      "text/plain": [
       "array(['open', 'click', 'purchase', 'send', 'unsubscribe', 'hbq_spam',\n",
       "       'hard_bounce', 'subscribe', 'soft_bounce', 'complain', 'close'],\n",
       "      dtype=object)"
      ]
     },
     "execution_count": 109,
     "metadata": {},
     "output_type": "execute_result"
    }
   ],
   "source": [
    "messages['event'].unique()"
   ]
  },
  {
   "cell_type": "code",
   "execution_count": 110,
   "id": "16460102-efc8-4968-b735-db96eb0dee8e",
   "metadata": {},
   "outputs": [],
   "source": [
    "last_events = messages.sort_values(by=['created_at']).groupby('client_id').last().reset_index()"
   ]
  },
  {
   "cell_type": "code",
   "execution_count": 111,
   "id": "3a394a15-e0f7-4d9d-b48a-5aae72757f88",
   "metadata": {},
   "outputs": [],
   "source": [
    "last_events = last_events[['event', 'client_id']]"
   ]
  },
  {
   "cell_type": "code",
   "execution_count": 112,
   "id": "01cd0c6c-754e-44da-8966-708de4d07e25",
   "metadata": {},
   "outputs": [
    {
     "data": {
      "text/html": [
       "<div>\n",
       "<style scoped>\n",
       "    .dataframe tbody tr th:only-of-type {\n",
       "        vertical-align: middle;\n",
       "    }\n",
       "\n",
       "    .dataframe tbody tr th {\n",
       "        vertical-align: top;\n",
       "    }\n",
       "\n",
       "    .dataframe thead th {\n",
       "        text-align: right;\n",
       "    }\n",
       "</style>\n",
       "<table border=\"1\" class=\"dataframe\">\n",
       "  <thead>\n",
       "    <tr style=\"text-align: right;\">\n",
       "      <th></th>\n",
       "      <th>event</th>\n",
       "      <th>client_id</th>\n",
       "    </tr>\n",
       "  </thead>\n",
       "  <tbody>\n",
       "    <tr>\n",
       "      <th>0</th>\n",
       "      <td>unsubscribe</td>\n",
       "      <td>1515915625468060902</td>\n",
       "    </tr>\n",
       "    <tr>\n",
       "      <th>1</th>\n",
       "      <td>send</td>\n",
       "      <td>1515915625468061003</td>\n",
       "    </tr>\n",
       "    <tr>\n",
       "      <th>2</th>\n",
       "      <td>send</td>\n",
       "      <td>1515915625468061099</td>\n",
       "    </tr>\n",
       "    <tr>\n",
       "      <th>3</th>\n",
       "      <td>open</td>\n",
       "      <td>1515915625468061100</td>\n",
       "    </tr>\n",
       "    <tr>\n",
       "      <th>4</th>\n",
       "      <td>send</td>\n",
       "      <td>1515915625468061170</td>\n",
       "    </tr>\n",
       "  </tbody>\n",
       "</table>\n",
       "</div>"
      ],
      "text/plain": [
       "         event            client_id\n",
       "0  unsubscribe  1515915625468060902\n",
       "1         send  1515915625468061003\n",
       "2         send  1515915625468061099\n",
       "3         open  1515915625468061100\n",
       "4         send  1515915625468061170"
      ]
     },
     "execution_count": 112,
     "metadata": {},
     "output_type": "execute_result"
    }
   ],
   "source": [
    "last_events.head()"
   ]
  },
  {
   "cell_type": "code",
   "execution_count": 113,
   "id": "066a063b-206e-4d5a-a20d-04fbe3255a52",
   "metadata": {},
   "outputs": [],
   "source": [
    "#additional_metrics = messages.groupby(['message_id', 'client_id']).agg(\n",
    "#    min_created_at=('created_at', 'min'),\n",
    "#    max_created_at=('created_at', 'max'),\n",
    "#    record_count=('created_at', 'count')\n",
    "#).reset_index()"
   ]
  },
  {
   "cell_type": "code",
   "execution_count": 114,
   "id": "3de29d39-94a8-4e92-9c57-b0ae7f2acb98",
   "metadata": {},
   "outputs": [],
   "source": [
    "#additional_metrics['time_diff_seconds'] = (\n",
    "#    additional_metrics['max_created_at'] - additional_metrics['min_created_at']\n",
    "#).dt.total_seconds()"
   ]
  },
  {
   "cell_type": "code",
   "execution_count": 115,
   "id": "6be36121-8385-49c1-bdd8-806aa81de78c",
   "metadata": {},
   "outputs": [],
   "source": [
    "#additional_metrics.rename(columns={'record_count': 'message_event_count'}, inplace=True)"
   ]
  },
  {
   "cell_type": "code",
   "execution_count": 116,
   "id": "d5ca9e56-289e-4f36-9928-12aafd85171b",
   "metadata": {},
   "outputs": [],
   "source": [
    "#grouped_metrics = additional_metrics.groupby('client_id').agg(\n",
    "#    avg_message_interactions=('message_event_count', 'mean'),\n",
    "#    avg_time_in_message=('time_diff_seconds', 'mean')\n",
    "#).reset_index()"
   ]
  },
  {
   "cell_type": "code",
   "execution_count": 117,
   "id": "946ed0f9-9a70-4dcd-a7c6-2b9f515e6261",
   "metadata": {},
   "outputs": [],
   "source": [
    "#grouped_metrics.head()"
   ]
  },
  {
   "cell_type": "markdown",
   "id": "fa93700a-0ded-422a-b5bb-6cf31752f500",
   "metadata": {},
   "source": [
    "Это была интересная идея но при проверке она переобучивала модель"
   ]
  },
  {
   "cell_type": "code",
   "execution_count": 119,
   "id": "12b2ea86-3f6a-434c-9e66-de7c4d56504e",
   "metadata": {},
   "outputs": [],
   "source": [
    "average_client_metrics = average_client_metrics.merge(last_events, on=['client_id'])"
   ]
  },
  {
   "cell_type": "code",
   "execution_count": 120,
   "id": "2947b1f0-b56e-47e7-9ae9-81ddfd90ac69",
   "metadata": {},
   "outputs": [],
   "source": [
    "#average_client_metrics = average_client_metrics.merge(grouped_metrics, on=['client_id'])"
   ]
  },
  {
   "cell_type": "code",
   "execution_count": 121,
   "id": "1dfb590a-01fb-422a-b392-1646c7c92fcf",
   "metadata": {},
   "outputs": [
    {
     "data": {
      "text/html": [
       "<div>\n",
       "<style scoped>\n",
       "    .dataframe tbody tr th:only-of-type {\n",
       "        vertical-align: middle;\n",
       "    }\n",
       "\n",
       "    .dataframe tbody tr th {\n",
       "        vertical-align: top;\n",
       "    }\n",
       "\n",
       "    .dataframe thead th {\n",
       "        text-align: right;\n",
       "    }\n",
       "</style>\n",
       "<table border=\"1\" class=\"dataframe\">\n",
       "  <thead>\n",
       "    <tr style=\"text-align: right;\">\n",
       "      <th></th>\n",
       "      <th>client_id</th>\n",
       "      <th>target</th>\n",
       "      <th>quantity</th>\n",
       "      <th>price</th>\n",
       "      <th>order_count</th>\n",
       "      <th>avg_days_until_next_order</th>\n",
       "      <th>customer_type</th>\n",
       "      <th>avg_order_spent</th>\n",
       "      <th>avg_items_per_order</th>\n",
       "      <th>avg_items_price</th>\n",
       "      <th>last_order_date</th>\n",
       "      <th>extraction_date</th>\n",
       "      <th>days_between_extraction_last_order</th>\n",
       "      <th>event</th>\n",
       "    </tr>\n",
       "  </thead>\n",
       "  <tbody>\n",
       "    <tr>\n",
       "      <th>0</th>\n",
       "      <td>1515915625468060902</td>\n",
       "      <td>0</td>\n",
       "      <td>7</td>\n",
       "      <td>6993.0</td>\n",
       "      <td>1</td>\n",
       "      <td>NaN</td>\n",
       "      <td>single</td>\n",
       "      <td>6993.000000</td>\n",
       "      <td>7.000000</td>\n",
       "      <td>999.000000</td>\n",
       "      <td>2022-05-27</td>\n",
       "      <td>2024-02-17</td>\n",
       "      <td>631</td>\n",
       "      <td>unsubscribe</td>\n",
       "    </tr>\n",
       "    <tr>\n",
       "      <th>1</th>\n",
       "      <td>1515915625468061003</td>\n",
       "      <td>1</td>\n",
       "      <td>7</td>\n",
       "      <td>16235.0</td>\n",
       "      <td>1</td>\n",
       "      <td>NaN</td>\n",
       "      <td>single</td>\n",
       "      <td>16235.000000</td>\n",
       "      <td>7.000000</td>\n",
       "      <td>2319.285714</td>\n",
       "      <td>2023-01-04</td>\n",
       "      <td>2024-02-17</td>\n",
       "      <td>409</td>\n",
       "      <td>send</td>\n",
       "    </tr>\n",
       "    <tr>\n",
       "      <th>2</th>\n",
       "      <td>1515915625468061099</td>\n",
       "      <td>0</td>\n",
       "      <td>1</td>\n",
       "      <td>299.0</td>\n",
       "      <td>1</td>\n",
       "      <td>NaN</td>\n",
       "      <td>single</td>\n",
       "      <td>299.000000</td>\n",
       "      <td>1.000000</td>\n",
       "      <td>299.000000</td>\n",
       "      <td>2022-05-17</td>\n",
       "      <td>2024-02-17</td>\n",
       "      <td>641</td>\n",
       "      <td>send</td>\n",
       "    </tr>\n",
       "    <tr>\n",
       "      <th>3</th>\n",
       "      <td>1515915625468061100</td>\n",
       "      <td>0</td>\n",
       "      <td>2</td>\n",
       "      <td>2098.0</td>\n",
       "      <td>1</td>\n",
       "      <td>NaN</td>\n",
       "      <td>single</td>\n",
       "      <td>2098.000000</td>\n",
       "      <td>2.000000</td>\n",
       "      <td>1049.000000</td>\n",
       "      <td>2024-02-10</td>\n",
       "      <td>2024-02-17</td>\n",
       "      <td>7</td>\n",
       "      <td>open</td>\n",
       "    </tr>\n",
       "    <tr>\n",
       "      <th>4</th>\n",
       "      <td>1515915625468061170</td>\n",
       "      <td>0</td>\n",
       "      <td>19</td>\n",
       "      <td>33601.0</td>\n",
       "      <td>3</td>\n",
       "      <td>41.5</td>\n",
       "      <td>multiple</td>\n",
       "      <td>11200.333333</td>\n",
       "      <td>6.333333</td>\n",
       "      <td>1768.473684</td>\n",
       "      <td>2023-06-17</td>\n",
       "      <td>2024-02-17</td>\n",
       "      <td>245</td>\n",
       "      <td>send</td>\n",
       "    </tr>\n",
       "  </tbody>\n",
       "</table>\n",
       "</div>"
      ],
      "text/plain": [
       "             client_id  target  quantity    price  order_count  \\\n",
       "0  1515915625468060902       0         7   6993.0            1   \n",
       "1  1515915625468061003       1         7  16235.0            1   \n",
       "2  1515915625468061099       0         1    299.0            1   \n",
       "3  1515915625468061100       0         2   2098.0            1   \n",
       "4  1515915625468061170       0        19  33601.0            3   \n",
       "\n",
       "   avg_days_until_next_order customer_type  avg_order_spent  \\\n",
       "0                        NaN        single      6993.000000   \n",
       "1                        NaN        single     16235.000000   \n",
       "2                        NaN        single       299.000000   \n",
       "3                        NaN        single      2098.000000   \n",
       "4                       41.5      multiple     11200.333333   \n",
       "\n",
       "   avg_items_per_order  avg_items_price last_order_date extraction_date  \\\n",
       "0             7.000000       999.000000      2022-05-27      2024-02-17   \n",
       "1             7.000000      2319.285714      2023-01-04      2024-02-17   \n",
       "2             1.000000       299.000000      2022-05-17      2024-02-17   \n",
       "3             2.000000      1049.000000      2024-02-10      2024-02-17   \n",
       "4             6.333333      1768.473684      2023-06-17      2024-02-17   \n",
       "\n",
       "   days_between_extraction_last_order        event  \n",
       "0                                 631  unsubscribe  \n",
       "1                                 409         send  \n",
       "2                                 641         send  \n",
       "3                                   7         open  \n",
       "4                                 245         send  "
      ]
     },
     "execution_count": 121,
     "metadata": {},
     "output_type": "execute_result"
    }
   ],
   "source": [
    "average_client_metrics.head()"
   ]
  },
  {
   "cell_type": "markdown",
   "id": "48784d1d-8861-486b-a4df-42d6a70cd16b",
   "metadata": {},
   "source": [
    "Стоит проверить есть ли данные где клиент отписался а таргет == 1"
   ]
  },
  {
   "cell_type": "code",
   "execution_count": 123,
   "id": "49023406-1ba5-468b-ba6b-bb5eacf62dc9",
   "metadata": {},
   "outputs": [
    {
     "data": {
      "text/html": [
       "<div>\n",
       "<style scoped>\n",
       "    .dataframe tbody tr th:only-of-type {\n",
       "        vertical-align: middle;\n",
       "    }\n",
       "\n",
       "    .dataframe tbody tr th {\n",
       "        vertical-align: top;\n",
       "    }\n",
       "\n",
       "    .dataframe thead th {\n",
       "        text-align: right;\n",
       "    }\n",
       "</style>\n",
       "<table border=\"1\" class=\"dataframe\">\n",
       "  <thead>\n",
       "    <tr style=\"text-align: right;\">\n",
       "      <th></th>\n",
       "      <th>client_id</th>\n",
       "      <th>target</th>\n",
       "      <th>quantity</th>\n",
       "      <th>price</th>\n",
       "      <th>order_count</th>\n",
       "      <th>avg_days_until_next_order</th>\n",
       "      <th>customer_type</th>\n",
       "      <th>avg_order_spent</th>\n",
       "      <th>avg_items_per_order</th>\n",
       "      <th>avg_items_price</th>\n",
       "      <th>last_order_date</th>\n",
       "      <th>extraction_date</th>\n",
       "      <th>days_between_extraction_last_order</th>\n",
       "      <th>event</th>\n",
       "    </tr>\n",
       "  </thead>\n",
       "  <tbody>\n",
       "  </tbody>\n",
       "</table>\n",
       "</div>"
      ],
      "text/plain": [
       "Empty DataFrame\n",
       "Columns: [client_id, target, quantity, price, order_count, avg_days_until_next_order, customer_type, avg_order_spent, avg_items_per_order, avg_items_price, last_order_date, extraction_date, days_between_extraction_last_order, event]\n",
       "Index: []"
      ]
     },
     "execution_count": 123,
     "metadata": {},
     "output_type": "execute_result"
    }
   ],
   "source": [
    "average_client_metrics[(average_client_metrics['event'] == 'unsubscribe') & (average_client_metrics['target'] == 1)]"
   ]
  },
  {
   "cell_type": "markdown",
   "id": "fb05c3f5-a617-4156-8f99-093d2faa2c84",
   "metadata": {},
   "source": [
    "таких клиентов нет, что логично. Из-за этого стоит проверить и другие статусы но их удалять уже врядли буду"
   ]
  },
  {
   "cell_type": "code",
   "execution_count": 125,
   "id": "17ea2ae7-eb1b-4be0-9004-6ddb6906b791",
   "metadata": {},
   "outputs": [],
   "source": [
    "filtered_data = average_client_metrics[average_client_metrics['target'] == 1]"
   ]
  },
  {
   "cell_type": "code",
   "execution_count": 126,
   "id": "2d8d62b1-51ae-4975-8e57-6fb094f72ebf",
   "metadata": {},
   "outputs": [
    {
     "data": {
      "text/plain": [
       "event\n",
       "send           513\n",
       "open           262\n",
       "click           58\n",
       "hard_bounce      6\n",
       "purchase         5\n",
       "soft_bounce      2\n",
       "Name: count, dtype: int64"
      ]
     },
     "execution_count": 126,
     "metadata": {},
     "output_type": "execute_result"
    }
   ],
   "source": [
    "filtered_data['event'].value_counts()"
   ]
  },
  {
   "cell_type": "code",
   "execution_count": 127,
   "id": "bc2515ee-7464-45b9-8036-0b82ace327c5",
   "metadata": {},
   "outputs": [
    {
     "data": {
      "text/plain": [
       "event\n",
       "send           29571\n",
       "open            9211\n",
       "click           1107\n",
       "purchase         737\n",
       "hard_bounce      673\n",
       "unsubscribe      473\n",
       "soft_bounce      130\n",
       "complain          80\n",
       "Name: count, dtype: int64"
      ]
     },
     "execution_count": 127,
     "metadata": {},
     "output_type": "execute_result"
    }
   ],
   "source": [
    "average_client_metrics['event'].value_counts()\n"
   ]
  },
  {
   "cell_type": "code",
   "execution_count": 128,
   "id": "faede223-a8f6-4013-b6d0-70fe7ae07756",
   "metadata": {},
   "outputs": [
    {
     "data": {
      "text/plain": [
       "8"
      ]
     },
     "execution_count": 128,
     "metadata": {},
     "output_type": "execute_result"
    }
   ],
   "source": [
    "average_client_metrics['event'].nunique()"
   ]
  },
  {
   "cell_type": "markdown",
   "id": "66aa51b6-6110-4939-a67c-9ccb326fd115",
   "metadata": {},
   "source": [
    "### Пометка \n",
    "Видно что те кто подал жалобу тоже не совершат больше покупок с нами в Таргет дате"
   ]
  },
  {
   "cell_type": "markdown",
   "id": "d7280a27-634f-46e2-b096-68c0d163e498",
   "metadata": {},
   "source": [
    "## Категории часть 2\n",
    "\n",
    "ЗДесь я буду пробовать найти самую частую категорию покупок для клиента"
   ]
  },
  {
   "cell_type": "code",
   "execution_count": 131,
   "id": "9f320dda-7641-4d68-9d1b-60f984c8c824",
   "metadata": {},
   "outputs": [],
   "source": [
    "merged_df['concatenated_cats'] = merged_df[['Cat1', 'Cat2', 'Cat3', 'Cat4', 'Cat5']].astype(str).agg(' '.join, axis=1)"
   ]
  },
  {
   "cell_type": "code",
   "execution_count": 132,
   "id": "17f90e2c-2405-4ad8-b410-fde90dea3062",
   "metadata": {},
   "outputs": [],
   "source": [
    "grouped_cats = merged_df.groupby('client_id')['concatenated_cats'].apply(lambda x: ' '.join(x))"
   ]
  },
  {
   "cell_type": "code",
   "execution_count": 133,
   "id": "b2b3ec94-e623-437a-85cb-d965348b41e9",
   "metadata": {},
   "outputs": [],
   "source": [
    "def most_frequent_category(cat_string):\n",
    "    categories = cat_string.split()\n",
    "    cat_counts = pd.Series(categories).value_counts()\n",
    "    most_frequent_cat = cat_counts.idxmax()\n",
    "    most_frequent_count = cat_counts.max()\n",
    "    return most_frequent_cat, most_frequent_count"
   ]
  },
  {
   "cell_type": "code",
   "execution_count": 134,
   "id": "7df90c08-1e11-4ce5-ad6c-5f1d06e12b9a",
   "metadata": {},
   "outputs": [],
   "source": [
    "grouped_cats_result = grouped_cats.apply(lambda x: most_frequent_category(x))"
   ]
  },
  {
   "cell_type": "code",
   "execution_count": 135,
   "id": "9ffe0edf-7501-44ac-be98-af11d97a7e53",
   "metadata": {},
   "outputs": [],
   "source": [
    "most_frequent_cats_per_client = pd.DataFrame(\n",
    "    grouped_cats_result.tolist(), \n",
    "    index=grouped_cats.index, \n",
    "    columns=['Most_Frequent_Category', 'Count']\n",
    ")"
   ]
  },
  {
   "cell_type": "code",
   "execution_count": 136,
   "id": "159e2f72-442e-4a19-b16b-1c8262b82f52",
   "metadata": {},
   "outputs": [],
   "source": [
    "average_client_metrics = average_client_metrics.merge(most_frequent_cats_per_client, on=['client_id'])"
   ]
  },
  {
   "cell_type": "code",
   "execution_count": 137,
   "id": "87cdfe12-5897-4dae-83c2-6bd45ed702ef",
   "metadata": {},
   "outputs": [],
   "source": [
    "#merged_df[merged_df['client_id'] == 1515915625468062556].head(20)"
   ]
  },
  {
   "cell_type": "code",
   "execution_count": null,
   "id": "29323ae5-8387-47a5-a3fe-e178cdd8bb26",
   "metadata": {},
   "outputs": [],
   "source": []
  },
  {
   "cell_type": "markdown",
   "id": "65d18cf4-27f8-46a4-949b-71e44be12f65",
   "metadata": {},
   "source": [
    "## Вывод\n",
    "\n",
    "- Были обработаны 3 дата сета\n",
    "- Был создан профиль клиента с разным набором метрик"
   ]
  },
  {
   "cell_type": "markdown",
   "id": "d54229b7-22c2-4a5e-8212-0e728e05e92d",
   "metadata": {},
   "source": [
    "# Проверка данных на мультиколлениарность"
   ]
  },
  {
   "cell_type": "code",
   "execution_count": 140,
   "id": "abd9fad5-2995-423d-acb5-17690f79ee68",
   "metadata": {},
   "outputs": [
    {
     "data": {
      "text/html": [
       "<div>\n",
       "<style scoped>\n",
       "    .dataframe tbody tr th:only-of-type {\n",
       "        vertical-align: middle;\n",
       "    }\n",
       "\n",
       "    .dataframe tbody tr th {\n",
       "        vertical-align: top;\n",
       "    }\n",
       "\n",
       "    .dataframe thead th {\n",
       "        text-align: right;\n",
       "    }\n",
       "</style>\n",
       "<table border=\"1\" class=\"dataframe\">\n",
       "  <thead>\n",
       "    <tr style=\"text-align: right;\">\n",
       "      <th></th>\n",
       "      <th>client_id</th>\n",
       "      <th>target</th>\n",
       "      <th>quantity</th>\n",
       "      <th>price</th>\n",
       "      <th>order_count</th>\n",
       "      <th>avg_days_until_next_order</th>\n",
       "      <th>customer_type</th>\n",
       "      <th>avg_order_spent</th>\n",
       "      <th>avg_items_per_order</th>\n",
       "      <th>avg_items_price</th>\n",
       "      <th>last_order_date</th>\n",
       "      <th>extraction_date</th>\n",
       "      <th>days_between_extraction_last_order</th>\n",
       "      <th>event</th>\n",
       "      <th>Most_Frequent_Category</th>\n",
       "      <th>Count</th>\n",
       "    </tr>\n",
       "  </thead>\n",
       "  <tbody>\n",
       "    <tr>\n",
       "      <th>0</th>\n",
       "      <td>1515915625468060902</td>\n",
       "      <td>0</td>\n",
       "      <td>7</td>\n",
       "      <td>6993.0</td>\n",
       "      <td>1</td>\n",
       "      <td>NaN</td>\n",
       "      <td>single</td>\n",
       "      <td>6993.000000</td>\n",
       "      <td>7.000000</td>\n",
       "      <td>999.000000</td>\n",
       "      <td>2022-05-27</td>\n",
       "      <td>2024-02-17</td>\n",
       "      <td>631</td>\n",
       "      <td>unsubscribe</td>\n",
       "      <td>4</td>\n",
       "      <td>7</td>\n",
       "    </tr>\n",
       "    <tr>\n",
       "      <th>1</th>\n",
       "      <td>1515915625468061003</td>\n",
       "      <td>1</td>\n",
       "      <td>7</td>\n",
       "      <td>16235.0</td>\n",
       "      <td>1</td>\n",
       "      <td>NaN</td>\n",
       "      <td>single</td>\n",
       "      <td>16235.000000</td>\n",
       "      <td>7.000000</td>\n",
       "      <td>2319.285714</td>\n",
       "      <td>2023-01-04</td>\n",
       "      <td>2024-02-17</td>\n",
       "      <td>409</td>\n",
       "      <td>send</td>\n",
       "      <td>4</td>\n",
       "      <td>7</td>\n",
       "    </tr>\n",
       "    <tr>\n",
       "      <th>2</th>\n",
       "      <td>1515915625468061099</td>\n",
       "      <td>0</td>\n",
       "      <td>1</td>\n",
       "      <td>299.0</td>\n",
       "      <td>1</td>\n",
       "      <td>NaN</td>\n",
       "      <td>single</td>\n",
       "      <td>299.000000</td>\n",
       "      <td>1.000000</td>\n",
       "      <td>299.000000</td>\n",
       "      <td>2022-05-17</td>\n",
       "      <td>2024-02-17</td>\n",
       "      <td>641</td>\n",
       "      <td>send</td>\n",
       "      <td>4</td>\n",
       "      <td>1</td>\n",
       "    </tr>\n",
       "    <tr>\n",
       "      <th>3</th>\n",
       "      <td>1515915625468061100</td>\n",
       "      <td>0</td>\n",
       "      <td>2</td>\n",
       "      <td>2098.0</td>\n",
       "      <td>1</td>\n",
       "      <td>NaN</td>\n",
       "      <td>single</td>\n",
       "      <td>2098.000000</td>\n",
       "      <td>2.000000</td>\n",
       "      <td>1049.000000</td>\n",
       "      <td>2024-02-10</td>\n",
       "      <td>2024-02-17</td>\n",
       "      <td>7</td>\n",
       "      <td>open</td>\n",
       "      <td>4</td>\n",
       "      <td>2</td>\n",
       "    </tr>\n",
       "    <tr>\n",
       "      <th>4</th>\n",
       "      <td>1515915625468061170</td>\n",
       "      <td>0</td>\n",
       "      <td>19</td>\n",
       "      <td>33601.0</td>\n",
       "      <td>3</td>\n",
       "      <td>41.5</td>\n",
       "      <td>multiple</td>\n",
       "      <td>11200.333333</td>\n",
       "      <td>6.333333</td>\n",
       "      <td>1768.473684</td>\n",
       "      <td>2023-06-17</td>\n",
       "      <td>2024-02-17</td>\n",
       "      <td>245</td>\n",
       "      <td>send</td>\n",
       "      <td>0</td>\n",
       "      <td>27</td>\n",
       "    </tr>\n",
       "  </tbody>\n",
       "</table>\n",
       "</div>"
      ],
      "text/plain": [
       "             client_id  target  quantity    price  order_count  \\\n",
       "0  1515915625468060902       0         7   6993.0            1   \n",
       "1  1515915625468061003       1         7  16235.0            1   \n",
       "2  1515915625468061099       0         1    299.0            1   \n",
       "3  1515915625468061100       0         2   2098.0            1   \n",
       "4  1515915625468061170       0        19  33601.0            3   \n",
       "\n",
       "   avg_days_until_next_order customer_type  avg_order_spent  \\\n",
       "0                        NaN        single      6993.000000   \n",
       "1                        NaN        single     16235.000000   \n",
       "2                        NaN        single       299.000000   \n",
       "3                        NaN        single      2098.000000   \n",
       "4                       41.5      multiple     11200.333333   \n",
       "\n",
       "   avg_items_per_order  avg_items_price last_order_date extraction_date  \\\n",
       "0             7.000000       999.000000      2022-05-27      2024-02-17   \n",
       "1             7.000000      2319.285714      2023-01-04      2024-02-17   \n",
       "2             1.000000       299.000000      2022-05-17      2024-02-17   \n",
       "3             2.000000      1049.000000      2024-02-10      2024-02-17   \n",
       "4             6.333333      1768.473684      2023-06-17      2024-02-17   \n",
       "\n",
       "   days_between_extraction_last_order        event Most_Frequent_Category  \\\n",
       "0                                 631  unsubscribe                      4   \n",
       "1                                 409         send                      4   \n",
       "2                                 641         send                      4   \n",
       "3                                   7         open                      4   \n",
       "4                                 245         send                      0   \n",
       "\n",
       "   Count  \n",
       "0      7  \n",
       "1      7  \n",
       "2      1  \n",
       "3      2  \n",
       "4     27  "
      ]
     },
     "execution_count": 140,
     "metadata": {},
     "output_type": "execute_result"
    }
   ],
   "source": [
    "average_client_metrics.head()"
   ]
  },
  {
   "cell_type": "code",
   "execution_count": 141,
   "id": "7421bfb0-3dd1-4563-8939-fe247935ec98",
   "metadata": {},
   "outputs": [
    {
     "name": "stdout",
     "output_type": "stream",
     "text": [
      "<class 'pandas.core.frame.DataFrame'>\n",
      "RangeIndex: 41982 entries, 0 to 41981\n",
      "Data columns (total 16 columns):\n",
      " #   Column                              Non-Null Count  Dtype         \n",
      "---  ------                              --------------  -----         \n",
      " 0   client_id                           41982 non-null  int64         \n",
      " 1   target                              41982 non-null  int64         \n",
      " 2   quantity                            41982 non-null  int64         \n",
      " 3   price                               41982 non-null  float64       \n",
      " 4   order_count                         41982 non-null  int64         \n",
      " 5   avg_days_until_next_order           6360 non-null   float64       \n",
      " 6   customer_type                       41982 non-null  object        \n",
      " 7   avg_order_spent                     41982 non-null  float64       \n",
      " 8   avg_items_per_order                 41982 non-null  float64       \n",
      " 9   avg_items_price                     41982 non-null  float64       \n",
      " 10  last_order_date                     41982 non-null  datetime64[ns]\n",
      " 11  extraction_date                     41982 non-null  datetime64[ns]\n",
      " 12  days_between_extraction_last_order  41982 non-null  int64         \n",
      " 13  event                               41982 non-null  object        \n",
      " 14  Most_Frequent_Category              41982 non-null  object        \n",
      " 15  Count                               41982 non-null  int64         \n",
      "dtypes: datetime64[ns](2), float64(5), int64(6), object(3)\n",
      "memory usage: 5.1+ MB\n"
     ]
    }
   ],
   "source": [
    "average_client_metrics.info()"
   ]
  },
  {
   "cell_type": "code",
   "execution_count": 142,
   "id": "4b703a09-15aa-4566-9a46-72a8fac98a8e",
   "metadata": {},
   "outputs": [],
   "source": [
    "model_data = average_client_metrics.drop(columns=['quantity', 'price', 'last_order_date', 'extraction_date', 'client_id', 'Count'])"
   ]
  },
  {
   "cell_type": "code",
   "execution_count": 143,
   "id": "939f9649-0722-470d-a3a3-894314637913",
   "metadata": {},
   "outputs": [
    {
     "name": "stdout",
     "output_type": "stream",
     "text": [
      "<class 'pandas.core.frame.DataFrame'>\n",
      "RangeIndex: 41982 entries, 0 to 41981\n",
      "Data columns (total 10 columns):\n",
      " #   Column                              Non-Null Count  Dtype  \n",
      "---  ------                              --------------  -----  \n",
      " 0   target                              41982 non-null  int64  \n",
      " 1   order_count                         41982 non-null  int64  \n",
      " 2   avg_days_until_next_order           6360 non-null   float64\n",
      " 3   customer_type                       41982 non-null  object \n",
      " 4   avg_order_spent                     41982 non-null  float64\n",
      " 5   avg_items_per_order                 41982 non-null  float64\n",
      " 6   avg_items_price                     41982 non-null  float64\n",
      " 7   days_between_extraction_last_order  41982 non-null  int64  \n",
      " 8   event                               41982 non-null  object \n",
      " 9   Most_Frequent_Category              41982 non-null  object \n",
      "dtypes: float64(4), int64(3), object(3)\n",
      "memory usage: 3.2+ MB\n"
     ]
    }
   ],
   "source": [
    "model_data.info()"
   ]
  },
  {
   "cell_type": "code",
   "execution_count": 144,
   "id": "4f98bbbc-a091-408b-ba9f-a6ca35700ee4",
   "metadata": {},
   "outputs": [
    {
     "data": {
      "image/png": "[encoded data removed]",
      "text/plain": [
       "<Figure size 1200x800 with 2 Axes>"
      ]
     },
     "metadata": {},
     "output_type": "display_data"
    }
   ],
   "source": [
    "numeric_columns = model_data.select_dtypes(include=['float64', 'int64', 'int32'])\n",
    "corr_matrix = numeric_columns.corr(method='pearson')\n",
    "plt.figure(figsize=(12, 8))\n",
    "sns.heatmap(corr_matrix, annot=True, cmap='coolwarm', fmt='.2f', linewidths=0.5)\n",
    "plt.title('Correlation Matrix of Numerical Variables')\n",
    "plt.show()"
   ]
  },
  {
   "cell_type": "markdown",
   "id": "3e43bd7d-8c50-4f3b-a38c-dc15f5ebe946",
   "metadata": {},
   "source": [
    "Сильных мультикорреильностей нету"
   ]
  },
  {
   "cell_type": "markdown",
   "id": "47673c68-6552-4329-af25-d2e546492130",
   "metadata": {},
   "source": [
    "# Создание моделей"
   ]
  },
  {
   "cell_type": "code",
   "execution_count": null,
   "id": "8d2fefe3-406c-4be9-b151-7f39dddba488",
   "metadata": {},
   "outputs": [],
   "source": []
  },
  {
   "cell_type": "markdown",
   "id": "f2fd6f49-0e4b-4ec7-97f9-97aa2529caf9",
   "metadata": {},
   "source": [
    "## Пайплайн"
   ]
  },
  {
   "cell_type": "code",
   "execution_count": 148,
   "id": "776031f3-ea96-42e8-af67-fa70373eae3c",
   "metadata": {},
   "outputs": [
    {
     "name": "stdout",
     "output_type": "stream",
     "text": [
      "<class 'pandas.core.frame.DataFrame'>\n",
      "RangeIndex: 41982 entries, 0 to 41981\n",
      "Data columns (total 10 columns):\n",
      " #   Column                              Non-Null Count  Dtype  \n",
      "---  ------                              --------------  -----  \n",
      " 0   target                              41982 non-null  int64  \n",
      " 1   order_count                         41982 non-null  int64  \n",
      " 2   avg_days_until_next_order           6360 non-null   float64\n",
      " 3   customer_type                       41982 non-null  object \n",
      " 4   avg_order_spent                     41982 non-null  float64\n",
      " 5   avg_items_per_order                 41982 non-null  float64\n",
      " 6   avg_items_price                     41982 non-null  float64\n",
      " 7   days_between_extraction_last_order  41982 non-null  int64  \n",
      " 8   event                               41982 non-null  object \n",
      " 9   Most_Frequent_Category              41982 non-null  object \n",
      "dtypes: float64(4), int64(3), object(3)\n",
      "memory usage: 3.2+ MB\n"
     ]
    }
   ],
   "source": [
    "model_data.info()"
   ]
  },
  {
   "cell_type": "code",
   "execution_count": 149,
   "id": "7aced3a4-5d62-4ee5-94ff-7afe9f34814b",
   "metadata": {},
   "outputs": [],
   "source": [
    "ohe_columns = [ 'customer_type', 'event', 'Most_Frequent_Category'] #, 'days_from_last_order_cat'] \n",
    "ord_columns = []\n",
    "num_columns = ['order_count', 'avg_days_until_next_order', 'avg_order_spent', 'avg_items_per_order', 'avg_items_price', 'days_between_extraction_last_order'] #, 'avg_message_interactions', 'avg_time_in_message']"
   ]
  },
  {
   "cell_type": "code",
   "execution_count": 150,
   "id": "4c8f10c4-9fc8-4135-bb57-4b0982ac0bc4",
   "metadata": {},
   "outputs": [],
   "source": [
    "ohe_pipe = Pipeline([\n",
    "    ('simpleImputer_ohe', SimpleImputer(missing_values=np.nan, strategy='most_frequent')),\n",
    "    ('ohe', OneHotEncoder(handle_unknown='ignore', sparse_output=False, drop='first'))\n",
    "])\n",
    "\n",
    "num_pipe = Pipeline([\n",
    "    ('simpleImputer_num', SimpleImputer(missing_values=np.nan, strategy='mean')),\n",
    "    ('scaler', StandardScaler())\n",
    "])\n",
    "\n",
    "poly_pipe = Pipeline([\n",
    "    ('simpleImputer_num', SimpleImputer(missing_values=np.nan, strategy='mean')),\n",
    "    ('poly', PolynomialFeatures(degree=2)),\n",
    "    ('scaler', StandardScaler())\n",
    "])\n",
    "\n",
    "preprocessor = ColumnTransformer(\n",
    "    transformers=[\n",
    "        ('ohe', ohe_pipe, ohe_columns),\n",
    "        # Skip ord_pipe if ord_columns is empty\n",
    "        ('num', num_pipe, num_columns),\n",
    "        ('poly', poly_pipe, num_columns)\n",
    "    ]\n",
    ")"
   ]
  },
  {
   "cell_type": "code",
   "execution_count": 151,
   "id": "8e8e26b3-cb75-4f82-882c-63067a92c61e",
   "metadata": {},
   "outputs": [],
   "source": [
    "data_preprocessor = ColumnTransformer([\n",
    "    ('ohe', ohe_pipe, ohe_columns),\n",
    "    ('num', num_pipe, num_columns),\n",
    "    ('poly', poly_pipe, num_columns)\n",
    "], remainder='passthrough')\n",
    "\n",
    "pipe_final = Pipeline([\n",
    "    ('preprocessor', data_preprocessor),\n",
    "    ('model', DecisionTreeClassifier(random_state=RANDOM_STATE))\n",
    "])"
   ]
  },
  {
   "cell_type": "markdown",
   "id": "f72158d3-93f1-465e-aebc-2dc4caba2741",
   "metadata": {},
   "source": [
    "## Создание выборок"
   ]
  },
  {
   "cell_type": "code",
   "execution_count": 153,
   "id": "5e14b641-1d65-4e3f-b32d-cc10c5587ce7",
   "metadata": {},
   "outputs": [],
   "source": [
    "X = model_data.drop(['target'], axis=1)\n",
    "y = model_data['target']\n",
    "X_train, X_test, y_train, y_test = train_test_split(X, y, test_size=0.2, random_state=RANDOM_STATE)"
   ]
  },
  {
   "cell_type": "code",
   "execution_count": null,
   "id": "a3afd231-8d9a-4af9-a749-6d00a7dbe57a",
   "metadata": {},
   "outputs": [],
   "source": []
  },
  {
   "cell_type": "code",
   "execution_count": 154,
   "id": "aa5dca07-c39e-465a-a0fe-86e633e835bf",
   "metadata": {},
   "outputs": [
    {
     "name": "stdout",
     "output_type": "stream",
     "text": [
      "Training feature set shape: (33585, 9)\n",
      "Testing feature set shape: (8397, 9)\n",
      "Training labels shape: (33585,)\n",
      "Testing labels shape: (8397,)\n"
     ]
    }
   ],
   "source": [
    "print(\"Training feature set shape:\", X_train.shape)\n",
    "print(\"Testing feature set shape:\", X_test.shape)\n",
    "print(\"Training labels shape:\", y_train.shape)\n",
    "print(\"Testing labels shape:\", y_test.shape)"
   ]
  },
  {
   "cell_type": "code",
   "execution_count": null,
   "id": "53287c82-8108-4877-ae89-851526ac2196",
   "metadata": {},
   "outputs": [],
   "source": []
  },
  {
   "cell_type": "markdown",
   "id": "d3bad85e-5d21-453d-949d-9c89956e5dd4",
   "metadata": {},
   "source": [
    "## Сетка параметров для RandomizedSearchCV"
   ]
  },
  {
   "cell_type": "code",
   "execution_count": 156,
   "id": "056771a4-45a4-45a6-83e2-4b327e3ba538",
   "metadata": {},
   "outputs": [],
   "source": [
    "param_grid = [\n",
    "    {\n",
    "        'model': [DecisionTreeClassifier(random_state=RANDOM_STATE, class_weight='balanced')],\n",
    "        'model__max_depth': range(2, 10),\n",
    "        'model__max_features': range(2, 10),\n",
    "        'preprocessor__num__scaler': [StandardScaler(), MinMaxScaler(), 'passthrough']\n",
    "    },\n",
    "    {\n",
    "        'model': [LogisticRegression(random_state=RANDOM_STATE, class_weight='balanced')],\n",
    "        'model__penalty': ['l2'],\n",
    "        'model__C': [0.01, 0.1, 1, 10],  # Regularization parameter\n",
    "        'preprocessor__num__scaler': [StandardScaler(), MinMaxScaler(), 'passthrough']\n",
    "    },\n",
    "    {\n",
    "        'model': [KNeighborsClassifier()],\n",
    "        'model__n_neighbors': [3, 5, 7, 9],\n",
    "        'model__weights': ['uniform', 'distance'],  # Uniform or weighted distance\n",
    "        'model__p': [1, 2],  # Manhattan (p=1) or Euclidean (p=2) distance\n",
    "        'preprocessor__num__scaler': [StandardScaler(), MinMaxScaler(), 'passthrough']\n",
    "    },\n",
    "    {\n",
    "        'model': [LGBMClassifier(random_state=RANDOM_STATE)],\n",
    "        'model__n_estimators': [100, 200, 300],\n",
    "        'model__max_depth': range(3, 10),\n",
    "        'model__learning_rate': [0.01, 0.1, 0.2],\n",
    "        'model__subsample': [0.7, 0.8, 1.0],\n",
    "        'preprocessor__num__scaler': [StandardScaler(), MinMaxScaler(), 'passthrough']\n",
    "    }, \n",
    "    {\n",
    "        'model': [SVC(random_state=RANDOM_STATE, class_weight='balanced')],\n",
    "        'model__C': [0.1, 1, 10],  # Regularization parameter\n",
    "        'model__kernel': ['linear', 'poly', 'rbf'],  # Kernel type\n",
    "        'model__gamma': ['scale', 'auto'],  # Kernel coefficient\n",
    "        'preprocessor__num__scaler': [StandardScaler(), MinMaxScaler(), 'passthrough']\n",
    "    },\n",
    "    {\n",
    "        'model': [CatBoostClassifier(random_state=RANDOM_STATE, silent=True)],\n",
    "        'model__depth': range(3, 10),\n",
    "        'model__learning_rate': [0.01, 0.1, 0.2],\n",
    "        'model__iterations': [100, 200, 300],\n",
    "        'preprocessor__num__scaler': [StandardScaler(), MinMaxScaler(), 'passthrough']\n",
    "    },  # Missing comma fixed here\n",
    "    {\n",
    "        'model': [RandomForestClassifier(random_state=RANDOM_STATE, class_weight='balanced')],\n",
    "        'model__n_estimators': [100, 200, 300],\n",
    "        'model__max_depth': range(3, 10),\n",
    "        'model__max_features': ['auto', 'sqrt', 'log2'],\n",
    "        'preprocessor__num__scaler': [StandardScaler(), MinMaxScaler(), 'passthrough']\n",
    "    },\n",
    "    {\n",
    "        'model': [GradientBoostingClassifier(random_state=RANDOM_STATE)],\n",
    "        'model__n_estimators': [100, 200, 300],\n",
    "        'model__learning_rate': [0.01, 0.1, 0.2],\n",
    "        'model__max_depth': range(3, 10),\n",
    "        'model__subsample': [0.7, 0.8, 1.0],\n",
    "        'preprocessor__num__scaler': [StandardScaler(), MinMaxScaler(), 'passthrough']\n",
    "    },\n",
    "    {\n",
    "        'model': [ExtraTreesClassifier(random_state=RANDOM_STATE, class_weight='balanced')],\n",
    "        'model__n_estimators': [100, 200, 300],\n",
    "        'model__max_depth': range(3, 10),\n",
    "        'model__max_features': ['auto', 'sqrt', 'log2'],\n",
    "        'preprocessor__num__scaler': [StandardScaler(), MinMaxScaler(), 'passthrough']\n",
    "    },\n",
    "    {\n",
    "        'model': [LGBMClassifier(random_state=RANDOM_STATE)],\n",
    "        'model__n_estimators': [50, 100, 200, 300],  \n",
    "        'model__max_depth': [3, 5, 7, -1],           \n",
    "        'model__learning_rate': [0.01, 0.1, 0.2],    \n",
    "        'model__num_leaves': [15, 31, 63],          \n",
    "        'model__subsample': [0.7, 0.8, 1.0],         \n",
    "        'model__colsample_bytree': [0.7, 0.8, 1.0],  \n",
    "        'preprocessor__num__scaler': [StandardScaler(), MinMaxScaler(), 'passthrough']  \n",
    "    }\n",
    "]\n"
   ]
  },
  {
   "cell_type": "markdown",
   "id": "ab70b61f-06b5-4156-a5b8-651db05a55a8",
   "metadata": {},
   "source": [
    "## Настройка RandomizedSearchCV (ROC_AUC)"
   ]
  },
  {
   "cell_type": "code",
   "execution_count": 158,
   "id": "18011332-b797-4477-b7f7-ee43ae80b07a",
   "metadata": {},
   "outputs": [],
   "source": [
    "randomized_search = RandomizedSearchCV(\n",
    "    pipe_final, \n",
    "    param_distributions=param_grid, \n",
    "    cv=5, \n",
    "    scoring='roc_auc',\n",
    "    random_state=RANDOM_STATE, \n",
    "    n_jobs=-1\n",
    ")"
   ]
  },
  {
   "cell_type": "code",
   "execution_count": 159,
   "id": "8bbfa301-b9a9-4cbd-9f45-b002544c02f6",
   "metadata": {},
   "outputs": [
    {
     "name": "stdout",
     "output_type": "stream",
     "text": [
      "[LightGBM] [Info] Number of positive: 687, number of negative: 32898\n",
      "[LightGBM] [Info] Auto-choosing col-wise multi-threading, the overhead of testing was 0.003018 seconds.\n",
      "You can set `force_col_wise=true` to remove the overhead.\n",
      "[LightGBM] [Info] Total Bins 7191\n",
      "[LightGBM] [Info] Number of data points in the train set: 33585, number of used features: 96\n",
      "[LightGBM] [Info] [binary:BoostFromScore]: pavg=0.020456 -> initscore=-3.868833\n",
      "[LightGBM] [Info] Start training from score -3.868833\n",
      "[LightGBM] [Warning] No further splits with positive gain, best gain: -inf\n",
      "[LightGBM] [Warning] No further splits with positive gain, best gain: -inf\n",
      "[LightGBM] [Warning] No further splits with positive gain, best gain: -inf\n",
      "[LightGBM] [Warning] No further splits with positive gain, best gain: -inf\n",
      "[LightGBM] [Warning] No further splits with positive gain, best gain: -inf\n",
      "[LightGBM] [Warning] No further splits with positive gain, best gain: -inf\n",
      "[LightGBM] [Warning] No further splits with positive gain, best gain: -inf\n",
      "[LightGBM] [Warning] No further splits with positive gain, best gain: -inf\n",
      "[LightGBM] [Warning] No further splits with positive gain, best gain: -inf\n",
      "[LightGBM] [Warning] No further splits with positive gain, best gain: -inf\n",
      "[LightGBM] [Warning] No further splits with positive gain, best gain: -inf\n",
      "[LightGBM] [Warning] No further splits with positive gain, best gain: -inf\n",
      "[LightGBM] [Warning] No further splits with positive gain, best gain: -inf\n",
      "[LightGBM] [Warning] No further splits with positive gain, best gain: -inf\n",
      "[LightGBM] [Warning] No further splits with positive gain, best gain: -inf\n",
      "[LightGBM] [Warning] No further splits with positive gain, best gain: -inf\n",
      "[LightGBM] [Warning] No further splits with positive gain, best gain: -inf\n",
      "[LightGBM] [Warning] No further splits with positive gain, best gain: -inf\n",
      "[LightGBM] [Warning] No further splits with positive gain, best gain: -inf\n",
      "[LightGBM] [Warning] No further splits with positive gain, best gain: -inf\n",
      "[LightGBM] [Warning] No further splits with positive gain, best gain: -inf\n",
      "[LightGBM] [Warning] No further splits with positive gain, best gain: -inf\n",
      "[LightGBM] [Warning] No further splits with positive gain, best gain: -inf\n",
      "[LightGBM] [Warning] No further splits with positive gain, best gain: -inf\n",
      "[LightGBM] [Warning] No further splits with positive gain, best gain: -inf\n",
      "[LightGBM] [Warning] No further splits with positive gain, best gain: -inf\n",
      "[LightGBM] [Warning] No further splits with positive gain, best gain: -inf\n",
      "[LightGBM] [Warning] No further splits with positive gain, best gain: -inf\n",
      "[LightGBM] [Warning] No further splits with positive gain, best gain: -inf\n",
      "[LightGBM] [Warning] No further splits with positive gain, best gain: -inf\n",
      "[LightGBM] [Warning] No further splits with positive gain, best gain: -inf\n",
      "[LightGBM] [Warning] No further splits with positive gain, best gain: -inf\n",
      "[LightGBM] [Warning] No further splits with positive gain, best gain: -inf\n",
      "[LightGBM] [Warning] No further splits with positive gain, best gain: -inf\n",
      "[LightGBM] [Warning] No further splits with positive gain, best gain: -inf\n",
      "[LightGBM] [Warning] No further splits with positive gain, best gain: -inf\n",
      "[LightGBM] [Warning] No further splits with positive gain, best gain: -inf\n",
      "[LightGBM] [Warning] No further splits with positive gain, best gain: -inf\n",
      "[LightGBM] [Warning] No further splits with positive gain, best gain: -inf\n",
      "[LightGBM] [Warning] No further splits with positive gain, best gain: -inf\n",
      "[LightGBM] [Warning] No further splits with positive gain, best gain: -inf\n",
      "[LightGBM] [Warning] No further splits with positive gain, best gain: -inf\n",
      "[LightGBM] [Warning] No further splits with positive gain, best gain: -inf\n",
      "[LightGBM] [Warning] No further splits with positive gain, best gain: -inf\n",
      "[LightGBM] [Warning] No further splits with positive gain, best gain: -inf\n",
      "[LightGBM] [Warning] No further splits with positive gain, best gain: -inf\n",
      "[LightGBM] [Warning] No further splits with positive gain, best gain: -inf\n",
      "[LightGBM] [Warning] No further splits with positive gain, best gain: -inf\n",
      "[LightGBM] [Warning] No further splits with positive gain, best gain: -inf\n",
      "[LightGBM] [Warning] No further splits with positive gain, best gain: -inf\n",
      "[LightGBM] [Warning] No further splits with positive gain, best gain: -inf\n",
      "[LightGBM] [Warning] No further splits with positive gain, best gain: -inf\n",
      "[LightGBM] [Warning] No further splits with positive gain, best gain: -inf\n",
      "[LightGBM] [Warning] No further splits with positive gain, best gain: -inf\n",
      "[LightGBM] [Warning] No further splits with positive gain, best gain: -inf\n",
      "[LightGBM] [Warning] No further splits with positive gain, best gain: -inf\n",
      "[LightGBM] [Warning] No further splits with positive gain, best gain: -inf\n",
      "[LightGBM] [Warning] No further splits with positive gain, best gain: -inf\n",
      "[LightGBM] [Warning] No further splits with positive gain, best gain: -inf\n",
      "[LightGBM] [Warning] No further splits with positive gain, best gain: -inf\n",
      "[LightGBM] [Warning] No further splits with positive gain, best gain: -inf\n",
      "[LightGBM] [Warning] No further splits with positive gain, best gain: -inf\n",
      "[LightGBM] [Warning] No further splits with positive gain, best gain: -inf\n",
      "[LightGBM] [Warning] No further splits with positive gain, best gain: -inf\n",
      "[LightGBM] [Warning] No further splits with positive gain, best gain: -inf\n",
      "[LightGBM] [Warning] No further splits with positive gain, best gain: -inf\n",
      "[LightGBM] [Warning] No further splits with positive gain, best gain: -inf\n",
      "[LightGBM] [Warning] No further splits with positive gain, best gain: -inf\n",
      "[LightGBM] [Warning] No further splits with positive gain, best gain: -inf\n",
      "[LightGBM] [Warning] No further splits with positive gain, best gain: -inf\n",
      "[LightGBM] [Warning] No further splits with positive gain, best gain: -inf\n",
      "[LightGBM] [Warning] No further splits with positive gain, best gain: -inf\n",
      "[LightGBM] [Warning] No further splits with positive gain, best gain: -inf\n",
      "[LightGBM] [Warning] No further splits with positive gain, best gain: -inf\n",
      "[LightGBM] [Warning] No further splits with positive gain, best gain: -inf\n",
      "[LightGBM] [Warning] No further splits with positive gain, best gain: -inf\n",
      "[LightGBM] [Warning] No further splits with positive gain, best gain: -inf\n",
      "[LightGBM] [Warning] No further splits with positive gain, best gain: -inf\n",
      "[LightGBM] [Warning] No further splits with positive gain, best gain: -inf\n",
      "[LightGBM] [Warning] No further splits with positive gain, best gain: -inf\n",
      "[LightGBM] [Warning] No further splits with positive gain, best gain: -inf\n",
      "[LightGBM] [Warning] No further splits with positive gain, best gain: -inf\n",
      "[LightGBM] [Warning] No further splits with positive gain, best gain: -inf\n",
      "[LightGBM] [Warning] No further splits with positive gain, best gain: -inf\n",
      "[LightGBM] [Warning] No further splits with positive gain, best gain: -inf\n",
      "[LightGBM] [Warning] No further splits with positive gain, best gain: -inf\n",
      "[LightGBM] [Warning] No further splits with positive gain, best gain: -inf\n",
      "[LightGBM] [Warning] No further splits with positive gain, best gain: -inf\n",
      "[LightGBM] [Warning] No further splits with positive gain, best gain: -inf\n",
      "[LightGBM] [Warning] No further splits with positive gain, best gain: -inf\n",
      "[LightGBM] [Warning] No further splits with positive gain, best gain: -inf\n",
      "[LightGBM] [Warning] No further splits with positive gain, best gain: -inf\n",
      "[LightGBM] [Warning] No further splits with positive gain, best gain: -inf\n",
      "[LightGBM] [Warning] No further splits with positive gain, best gain: -inf\n",
      "[LightGBM] [Warning] No further splits with positive gain, best gain: -inf\n",
      "[LightGBM] [Warning] No further splits with positive gain, best gain: -inf\n",
      "[LightGBM] [Warning] No further splits with positive gain, best gain: -inf\n",
      "[LightGBM] [Warning] No further splits with positive gain, best gain: -inf\n",
      "[LightGBM] [Warning] No further splits with positive gain, best gain: -inf\n",
      "[LightGBM] [Warning] No further splits with positive gain, best gain: -inf\n"
     ]
    },
    {
     "data": {
      "text/html": [
       "<style>#sk-container-id-1 {color: black;}#sk-container-id-1 pre{padding: 0;}#sk-container-id-1 div.sk-toggleable {background-color: white;}#sk-container-id-1 label.sk-toggleable__label {cursor: pointer;display: block;width: 100%;margin-bottom: 0;padding: 0.3em;box-sizing: border-box;text-align: center;}#sk-container-id-1 label.sk-toggleable__label-arrow:before {content: \"▸\";float: left;margin-right: 0.25em;color: #696969;}#sk-container-id-1 label.sk-toggleable__label-arrow:hover:before {color: black;}#sk-container-id-1 div.sk-estimator:hover label.sk-toggleable__label-arrow:before {color: black;}#sk-container-id-1 div.sk-toggleable__content {max-height: 0;max-width: 0;overflow: hidden;text-align: left;background-color: #f0f8ff;}#sk-container-id-1 div.sk-toggleable__content pre {margin: 0.2em;color: black;border-radius: 0.25em;background-color: #f0f8ff;}#sk-container-id-1 input.sk-toggleable__control:checked~div.sk-toggleable__content {max-height: 200px;max-width: 100%;overflow: auto;}#sk-container-id-1 input.sk-toggleable__control:checked~label.sk-toggleable__label-arrow:before {content: \"▾\";}#sk-container-id-1 div.sk-estimator input.sk-toggleable__control:checked~label.sk-toggleable__label {background-color: #d4ebff;}#sk-container-id-1 div.sk-label input.sk-toggleable__control:checked~label.sk-toggleable__label {background-color: #d4ebff;}#sk-container-id-1 input.sk-hidden--visually {border: 0;clip: rect(1px 1px 1px 1px);clip: rect(1px, 1px, 1px, 1px);height: 1px;margin: -1px;overflow: hidden;padding: 0;position: absolute;width: 1px;}#sk-container-id-1 div.sk-estimator {font-family: monospace;background-color: #f0f8ff;border: 1px dotted black;border-radius: 0.25em;box-sizing: border-box;margin-bottom: 0.5em;}#sk-container-id-1 div.sk-estimator:hover {background-color: #d4ebff;}#sk-container-id-1 div.sk-parallel-item::after {content: \"\";width: 100%;border-bottom: 1px solid gray;flex-grow: 1;}#sk-container-id-1 div.sk-label:hover label.sk-toggleable__label {background-color: #d4ebff;}#sk-container-id-1 div.sk-serial::before {content: \"\";position: absolute;border-left: 1px solid gray;box-sizing: border-box;top: 0;bottom: 0;left: 50%;z-index: 0;}#sk-container-id-1 div.sk-serial {display: flex;flex-direction: column;align-items: center;background-color: white;padding-right: 0.2em;padding-left: 0.2em;position: relative;}#sk-container-id-1 div.sk-item {position: relative;z-index: 1;}#sk-container-id-1 div.sk-parallel {display: flex;align-items: stretch;justify-content: center;background-color: white;position: relative;}#sk-container-id-1 div.sk-item::before, #sk-container-id-1 div.sk-parallel-item::before {content: \"\";position: absolute;border-left: 1px solid gray;box-sizing: border-box;top: 0;bottom: 0;left: 50%;z-index: -1;}#sk-container-id-1 div.sk-parallel-item {display: flex;flex-direction: column;z-index: 1;position: relative;background-color: white;}#sk-container-id-1 div.sk-parallel-item:first-child::after {align-self: flex-end;width: 50%;}#sk-container-id-1 div.sk-parallel-item:last-child::after {align-self: flex-start;width: 50%;}#sk-container-id-1 div.sk-parallel-item:only-child::after {width: 0;}#sk-container-id-1 div.sk-dashed-wrapped {border: 1px dashed gray;margin: 0 0.4em 0.5em 0.4em;box-sizing: border-box;padding-bottom: 0.4em;background-color: white;}#sk-container-id-1 div.sk-label label {font-family: monospace;font-weight: bold;display: inline-block;line-height: 1.2em;}#sk-container-id-1 div.sk-label-container {text-align: center;}#sk-container-id-1 div.sk-container {/* jupyter's `normalize.less` sets `[hidden] { display: none; }` but bootstrap.min.css set `[hidden] { display: none !important; }` so we also need the `!important` here to be able to override the default hidden behavior on the sphinx rendered scikit-learn.org. See: https://github.com/scikit-learn/scikit-learn/issues/21755 */display: inline-block !important;position: relative;}#sk-container-id-1 div.sk-text-repr-fallback {display: none;}</style><div id=\"sk-container-id-1\" class=\"sk-top-container\"><div class=\"sk-text-repr-fallback\"><pre>RandomizedSearchCV(cv=5,\n",
       "                   estimator=Pipeline(steps=[(&#x27;preprocessor&#x27;,\n",
       "                                              ColumnTransformer(remainder=&#x27;passthrough&#x27;,\n",
       "                                                                transformers=[(&#x27;ohe&#x27;,\n",
       "                                                                               Pipeline(steps=[(&#x27;simpleImputer_ohe&#x27;,\n",
       "                                                                                                SimpleImputer(strategy=&#x27;most_frequent&#x27;)),\n",
       "                                                                                               (&#x27;ohe&#x27;,\n",
       "                                                                                                OneHotEncoder(drop=&#x27;first&#x27;,\n",
       "                                                                                                              handle_unknown=&#x27;ignore&#x27;,\n",
       "                                                                                                              sparse_output=False))]),\n",
       "                                                                               [&#x27;customer_type&#x27;,\n",
       "                                                                                &#x27;event&#x27;,\n",
       "                                                                                &#x27;Most_Frequent_Category&#x27;]),\n",
       "                                                                              (&#x27;num&#x27;,\n",
       "                                                                               Pi...\n",
       "                                                                  random_state=42,\n",
       "                                                                  subsample=0.7)],\n",
       "                                         &#x27;model__colsample_bytree&#x27;: [0.7, 0.8,\n",
       "                                                                     1.0],\n",
       "                                         &#x27;model__learning_rate&#x27;: [0.01, 0.1,\n",
       "                                                                  0.2],\n",
       "                                         &#x27;model__max_depth&#x27;: [3, 5, 7, -1],\n",
       "                                         &#x27;model__n_estimators&#x27;: [50, 100, 200,\n",
       "                                                                 300],\n",
       "                                         &#x27;model__num_leaves&#x27;: [15, 31, 63],\n",
       "                                         &#x27;model__subsample&#x27;: [0.7, 0.8, 1.0],\n",
       "                                         &#x27;preprocessor__num__scaler&#x27;: [StandardScaler(),\n",
       "                                                                       MinMaxScaler(),\n",
       "                                                                       &#x27;passthrough&#x27;]}],\n",
       "                   random_state=42, scoring=&#x27;roc_auc&#x27;)</pre><b>In a Jupyter environment, please rerun this cell to show the HTML representation or trust the notebook. <br />On GitHub, the HTML representation is unable to render, please try loading this page with nbviewer.org.</b></div><div class=\"sk-container\" hidden><div class=\"sk-item sk-dashed-wrapped\"><div class=\"sk-label-container\"><div class=\"sk-label sk-toggleable\"><input class=\"sk-toggleable__control sk-hidden--visually\" id=\"sk-estimator-id-1\" type=\"checkbox\" ><label for=\"sk-estimator-id-1\" class=\"sk-toggleable__label sk-toggleable__label-arrow\">RandomizedSearchCV</label><div class=\"sk-toggleable__content\"><pre>RandomizedSearchCV(cv=5,\n",
       "                   estimator=Pipeline(steps=[(&#x27;preprocessor&#x27;,\n",
       "                                              ColumnTransformer(remainder=&#x27;passthrough&#x27;,\n",
       "                                                                transformers=[(&#x27;ohe&#x27;,\n",
       "                                                                               Pipeline(steps=[(&#x27;simpleImputer_ohe&#x27;,\n",
       "                                                                                                SimpleImputer(strategy=&#x27;most_frequent&#x27;)),\n",
       "                                                                                               (&#x27;ohe&#x27;,\n",
       "                                                                                                OneHotEncoder(drop=&#x27;first&#x27;,\n",
       "                                                                                                              handle_unknown=&#x27;ignore&#x27;,\n",
       "                                                                                                              sparse_output=False))]),\n",
       "                                                                               [&#x27;customer_type&#x27;,\n",
       "                                                                                &#x27;event&#x27;,\n",
       "                                                                                &#x27;Most_Frequent_Category&#x27;]),\n",
       "                                                                              (&#x27;num&#x27;,\n",
       "                                                                               Pi...\n",
       "                                                                  random_state=42,\n",
       "                                                                  subsample=0.7)],\n",
       "                                         &#x27;model__colsample_bytree&#x27;: [0.7, 0.8,\n",
       "                                                                     1.0],\n",
       "                                         &#x27;model__learning_rate&#x27;: [0.01, 0.1,\n",
       "                                                                  0.2],\n",
       "                                         &#x27;model__max_depth&#x27;: [3, 5, 7, -1],\n",
       "                                         &#x27;model__n_estimators&#x27;: [50, 100, 200,\n",
       "                                                                 300],\n",
       "                                         &#x27;model__num_leaves&#x27;: [15, 31, 63],\n",
       "                                         &#x27;model__subsample&#x27;: [0.7, 0.8, 1.0],\n",
       "                                         &#x27;preprocessor__num__scaler&#x27;: [StandardScaler(),\n",
       "                                                                       MinMaxScaler(),\n",
       "                                                                       &#x27;passthrough&#x27;]}],\n",
       "                   random_state=42, scoring=&#x27;roc_auc&#x27;)</pre></div></div></div><div class=\"sk-parallel\"><div class=\"sk-parallel-item\"><div class=\"sk-item\"><div class=\"sk-label-container\"><div class=\"sk-label sk-toggleable\"><input class=\"sk-toggleable__control sk-hidden--visually\" id=\"sk-estimator-id-2\" type=\"checkbox\" ><label for=\"sk-estimator-id-2\" class=\"sk-toggleable__label sk-toggleable__label-arrow\">estimator: Pipeline</label><div class=\"sk-toggleable__content\"><pre>Pipeline(steps=[(&#x27;preprocessor&#x27;,\n",
       "                 ColumnTransformer(remainder=&#x27;passthrough&#x27;,\n",
       "                                   transformers=[(&#x27;ohe&#x27;,\n",
       "                                                  Pipeline(steps=[(&#x27;simpleImputer_ohe&#x27;,\n",
       "                                                                   SimpleImputer(strategy=&#x27;most_frequent&#x27;)),\n",
       "                                                                  (&#x27;ohe&#x27;,\n",
       "                                                                   OneHotEncoder(drop=&#x27;first&#x27;,\n",
       "                                                                                 handle_unknown=&#x27;ignore&#x27;,\n",
       "                                                                                 sparse_output=False))]),\n",
       "                                                  [&#x27;customer_type&#x27;, &#x27;event&#x27;,\n",
       "                                                   &#x27;Most_Frequent_Category&#x27;]),\n",
       "                                                 (&#x27;num&#x27;,\n",
       "                                                  Pipeline(steps=[(&#x27;simpleImputer_num&#x27;...\n",
       "                                                   &#x27;days_between_extraction_last_order&#x27;]),\n",
       "                                                 (&#x27;poly&#x27;,\n",
       "                                                  Pipeline(steps=[(&#x27;simpleImputer_num&#x27;,\n",
       "                                                                   SimpleImputer()),\n",
       "                                                                  (&#x27;poly&#x27;,\n",
       "                                                                   PolynomialFeatures()),\n",
       "                                                                  (&#x27;scaler&#x27;,\n",
       "                                                                   StandardScaler())]),\n",
       "                                                  [&#x27;order_count&#x27;,\n",
       "                                                   &#x27;avg_days_until_next_order&#x27;,\n",
       "                                                   &#x27;avg_order_spent&#x27;,\n",
       "                                                   &#x27;avg_items_per_order&#x27;,\n",
       "                                                   &#x27;avg_items_price&#x27;,\n",
       "                                                   &#x27;days_between_extraction_last_order&#x27;])])),\n",
       "                (&#x27;model&#x27;, DecisionTreeClassifier(random_state=42))])</pre></div></div></div><div class=\"sk-serial\"><div class=\"sk-item\"><div class=\"sk-serial\"><div class=\"sk-item sk-dashed-wrapped\"><div class=\"sk-label-container\"><div class=\"sk-label sk-toggleable\"><input class=\"sk-toggleable__control sk-hidden--visually\" id=\"sk-estimator-id-3\" type=\"checkbox\" ><label for=\"sk-estimator-id-3\" class=\"sk-toggleable__label sk-toggleable__label-arrow\">preprocessor: ColumnTransformer</label><div class=\"sk-toggleable__content\"><pre>ColumnTransformer(remainder=&#x27;passthrough&#x27;,\n",
       "                  transformers=[(&#x27;ohe&#x27;,\n",
       "                                 Pipeline(steps=[(&#x27;simpleImputer_ohe&#x27;,\n",
       "                                                  SimpleImputer(strategy=&#x27;most_frequent&#x27;)),\n",
       "                                                 (&#x27;ohe&#x27;,\n",
       "                                                  OneHotEncoder(drop=&#x27;first&#x27;,\n",
       "                                                                handle_unknown=&#x27;ignore&#x27;,\n",
       "                                                                sparse_output=False))]),\n",
       "                                 [&#x27;customer_type&#x27;, &#x27;event&#x27;,\n",
       "                                  &#x27;Most_Frequent_Category&#x27;]),\n",
       "                                (&#x27;num&#x27;,\n",
       "                                 Pipeline(steps=[(&#x27;simpleImputer_num&#x27;,\n",
       "                                                  SimpleImputer()),\n",
       "                                                 (&#x27;scaler&#x27;, Stan...\n",
       "                                  &#x27;avg_order_spent&#x27;, &#x27;avg_items_per_order&#x27;,\n",
       "                                  &#x27;avg_items_price&#x27;,\n",
       "                                  &#x27;days_between_extraction_last_order&#x27;]),\n",
       "                                (&#x27;poly&#x27;,\n",
       "                                 Pipeline(steps=[(&#x27;simpleImputer_num&#x27;,\n",
       "                                                  SimpleImputer()),\n",
       "                                                 (&#x27;poly&#x27;, PolynomialFeatures()),\n",
       "                                                 (&#x27;scaler&#x27;, StandardScaler())]),\n",
       "                                 [&#x27;order_count&#x27;, &#x27;avg_days_until_next_order&#x27;,\n",
       "                                  &#x27;avg_order_spent&#x27;, &#x27;avg_items_per_order&#x27;,\n",
       "                                  &#x27;avg_items_price&#x27;,\n",
       "                                  &#x27;days_between_extraction_last_order&#x27;])])</pre></div></div></div><div class=\"sk-parallel\"><div class=\"sk-parallel-item\"><div class=\"sk-item\"><div class=\"sk-label-container\"><div class=\"sk-label sk-toggleable\"><input class=\"sk-toggleable__control sk-hidden--visually\" id=\"sk-estimator-id-4\" type=\"checkbox\" ><label for=\"sk-estimator-id-4\" class=\"sk-toggleable__label sk-toggleable__label-arrow\">ohe</label><div class=\"sk-toggleable__content\"><pre>[&#x27;customer_type&#x27;, &#x27;event&#x27;, &#x27;Most_Frequent_Category&#x27;]</pre></div></div></div><div class=\"sk-serial\"><div class=\"sk-item\"><div class=\"sk-serial\"><div class=\"sk-item\"><div class=\"sk-estimator sk-toggleable\"><input class=\"sk-toggleable__control sk-hidden--visually\" id=\"sk-estimator-id-5\" type=\"checkbox\" ><label for=\"sk-estimator-id-5\" class=\"sk-toggleable__label sk-toggleable__label-arrow\">SimpleImputer</label><div class=\"sk-toggleable__content\"><pre>SimpleImputer(strategy=&#x27;most_frequent&#x27;)</pre></div></div></div><div class=\"sk-item\"><div class=\"sk-estimator sk-toggleable\"><input class=\"sk-toggleable__control sk-hidden--visually\" id=\"sk-estimator-id-6\" type=\"checkbox\" ><label for=\"sk-estimator-id-6\" class=\"sk-toggleable__label sk-toggleable__label-arrow\">OneHotEncoder</label><div class=\"sk-toggleable__content\"><pre>OneHotEncoder(drop=&#x27;first&#x27;, handle_unknown=&#x27;ignore&#x27;, sparse_output=False)</pre></div></div></div></div></div></div></div></div><div class=\"sk-parallel-item\"><div class=\"sk-item\"><div class=\"sk-label-container\"><div class=\"sk-label sk-toggleable\"><input class=\"sk-toggleable__control sk-hidden--visually\" id=\"sk-estimator-id-7\" type=\"checkbox\" ><label for=\"sk-estimator-id-7\" class=\"sk-toggleable__label sk-toggleable__label-arrow\">num</label><div class=\"sk-toggleable__content\"><pre>[&#x27;order_count&#x27;, &#x27;avg_days_until_next_order&#x27;, &#x27;avg_order_spent&#x27;, &#x27;avg_items_per_order&#x27;, &#x27;avg_items_price&#x27;, &#x27;days_between_extraction_last_order&#x27;]</pre></div></div></div><div class=\"sk-serial\"><div class=\"sk-item\"><div class=\"sk-serial\"><div class=\"sk-item\"><div class=\"sk-estimator sk-toggleable\"><input class=\"sk-toggleable__control sk-hidden--visually\" id=\"sk-estimator-id-8\" type=\"checkbox\" ><label for=\"sk-estimator-id-8\" class=\"sk-toggleable__label sk-toggleable__label-arrow\">SimpleImputer</label><div class=\"sk-toggleable__content\"><pre>SimpleImputer()</pre></div></div></div><div class=\"sk-item\"><div class=\"sk-estimator sk-toggleable\"><input class=\"sk-toggleable__control sk-hidden--visually\" id=\"sk-estimator-id-9\" type=\"checkbox\" ><label for=\"sk-estimator-id-9\" class=\"sk-toggleable__label sk-toggleable__label-arrow\">StandardScaler</label><div class=\"sk-toggleable__content\"><pre>StandardScaler()</pre></div></div></div></div></div></div></div></div><div class=\"sk-parallel-item\"><div class=\"sk-item\"><div class=\"sk-label-container\"><div class=\"sk-label sk-toggleable\"><input class=\"sk-toggleable__control sk-hidden--visually\" id=\"sk-estimator-id-10\" type=\"checkbox\" ><label for=\"sk-estimator-id-10\" class=\"sk-toggleable__label sk-toggleable__label-arrow\">poly</label><div class=\"sk-toggleable__content\"><pre>[&#x27;order_count&#x27;, &#x27;avg_days_until_next_order&#x27;, &#x27;avg_order_spent&#x27;, &#x27;avg_items_per_order&#x27;, &#x27;avg_items_price&#x27;, &#x27;days_between_extraction_last_order&#x27;]</pre></div></div></div><div class=\"sk-serial\"><div class=\"sk-item\"><div class=\"sk-serial\"><div class=\"sk-item\"><div class=\"sk-estimator sk-toggleable\"><input class=\"sk-toggleable__control sk-hidden--visually\" id=\"sk-estimator-id-11\" type=\"checkbox\" ><label for=\"sk-estimator-id-11\" class=\"sk-toggleable__label sk-toggleable__label-arrow\">SimpleImputer</label><div class=\"sk-toggleable__content\"><pre>SimpleImputer()</pre></div></div></div><div class=\"sk-item\"><div class=\"sk-estimator sk-toggleable\"><input class=\"sk-toggleable__control sk-hidden--visually\" id=\"sk-estimator-id-12\" type=\"checkbox\" ><label for=\"sk-estimator-id-12\" class=\"sk-toggleable__label sk-toggleable__label-arrow\">PolynomialFeatures</label><div class=\"sk-toggleable__content\"><pre>PolynomialFeatures()</pre></div></div></div><div class=\"sk-item\"><div class=\"sk-estimator sk-toggleable\"><input class=\"sk-toggleable__control sk-hidden--visually\" id=\"sk-estimator-id-13\" type=\"checkbox\" ><label for=\"sk-estimator-id-13\" class=\"sk-toggleable__label sk-toggleable__label-arrow\">StandardScaler</label><div class=\"sk-toggleable__content\"><pre>StandardScaler()</pre></div></div></div></div></div></div></div></div><div class=\"sk-parallel-item\"><div class=\"sk-item\"><div class=\"sk-label-container\"><div class=\"sk-label sk-toggleable\"><input class=\"sk-toggleable__control sk-hidden--visually\" id=\"sk-estimator-id-14\" type=\"checkbox\" ><label for=\"sk-estimator-id-14\" class=\"sk-toggleable__label sk-toggleable__label-arrow\">remainder</label><div class=\"sk-toggleable__content\"><pre></pre></div></div></div><div class=\"sk-serial\"><div class=\"sk-item\"><div class=\"sk-estimator sk-toggleable\"><input class=\"sk-toggleable__control sk-hidden--visually\" id=\"sk-estimator-id-15\" type=\"checkbox\" ><label for=\"sk-estimator-id-15\" class=\"sk-toggleable__label sk-toggleable__label-arrow\">passthrough</label><div class=\"sk-toggleable__content\"><pre>passthrough</pre></div></div></div></div></div></div></div></div><div class=\"sk-item\"><div class=\"sk-estimator sk-toggleable\"><input class=\"sk-toggleable__control sk-hidden--visually\" id=\"sk-estimator-id-16\" type=\"checkbox\" ><label for=\"sk-estimator-id-16\" class=\"sk-toggleable__label sk-toggleable__label-arrow\">DecisionTreeClassifier</label><div class=\"sk-toggleable__content\"><pre>DecisionTreeClassifier(random_state=42)</pre></div></div></div></div></div></div></div></div></div></div></div></div>"
      ],
      "text/plain": [
       "RandomizedSearchCV(cv=5,\n",
       "                   estimator=Pipeline(steps=[('preprocessor',\n",
       "                                              ColumnTransformer(remainder='passthrough',\n",
       "                                                                transformers=[('ohe',\n",
       "                                                                               Pipeline(steps=[('simpleImputer_ohe',\n",
       "                                                                                                SimpleImputer(strategy='most_frequent')),\n",
       "                                                                                               ('ohe',\n",
       "                                                                                                OneHotEncoder(drop='first',\n",
       "                                                                                                              handle_unknown='ignore',\n",
       "                                                                                                              sparse_output=False))]),\n",
       "                                                                               ['customer_type',\n",
       "                                                                                'event',\n",
       "                                                                                'Most_Frequent_Category']),\n",
       "                                                                              ('num',\n",
       "                                                                               Pi...\n",
       "                                                                  random_state=42,\n",
       "                                                                  subsample=0.7)],\n",
       "                                         'model__colsample_bytree': [0.7, 0.8,\n",
       "                                                                     1.0],\n",
       "                                         'model__learning_rate': [0.01, 0.1,\n",
       "                                                                  0.2],\n",
       "                                         'model__max_depth': [3, 5, 7, -1],\n",
       "                                         'model__n_estimators': [50, 100, 200,\n",
       "                                                                 300],\n",
       "                                         'model__num_leaves': [15, 31, 63],\n",
       "                                         'model__subsample': [0.7, 0.8, 1.0],\n",
       "                                         'preprocessor__num__scaler': [StandardScaler(),\n",
       "                                                                       MinMaxScaler(),\n",
       "                                                                       'passthrough']}],\n",
       "                   random_state=42, scoring='roc_auc')"
      ]
     },
     "execution_count": 159,
     "metadata": {},
     "output_type": "execute_result"
    }
   ],
   "source": [
    "randomized_search.fit(X_train, y_train)"
   ]
  },
  {
   "cell_type": "markdown",
   "id": "c32aac4f-e052-44ab-84c1-0dba8ce7432f",
   "metadata": {},
   "source": [
    "## Результат (ROC_AUC)"
   ]
  },
  {
   "cell_type": "code",
   "execution_count": 161,
   "id": "558e6286-1585-4e6e-a5dd-8e4b5cc872d9",
   "metadata": {},
   "outputs": [],
   "source": [
    "best_params = randomized_search.best_params_\n",
    "best_score = randomized_search.best_score_\n",
    "best_model = randomized_search.best_estimator_"
   ]
  },
  {
   "cell_type": "code",
   "execution_count": 162,
   "id": "aba1ca4b-7b90-4d30-8fd7-0e82e869d018",
   "metadata": {},
   "outputs": [
    {
     "data": {
      "text/plain": [
       "{'preprocessor__num__scaler': MinMaxScaler(),\n",
       " 'model__subsample': 0.7,\n",
       " 'model__num_leaves': 31,\n",
       " 'model__n_estimators': 100,\n",
       " 'model__max_depth': 3,\n",
       " 'model__learning_rate': 0.1,\n",
       " 'model__colsample_bytree': 0.8,\n",
       " 'model': LGBMClassifier(colsample_bytree=0.8, max_depth=3, random_state=42,\n",
       "                subsample=0.7)}"
      ]
     },
     "execution_count": 162,
     "metadata": {},
     "output_type": "execute_result"
    }
   ],
   "source": [
    "best_params"
   ]
  },
  {
   "cell_type": "code",
   "execution_count": 163,
   "id": "a7184e78-101f-47e3-9787-b2261c39f1ee",
   "metadata": {},
   "outputs": [
    {
     "data": {
      "text/plain": [
       "0.712850579334491"
      ]
     },
     "execution_count": 163,
     "metadata": {},
     "output_type": "execute_result"
    }
   ],
   "source": [
    "best_score"
   ]
  },
  {
   "cell_type": "markdown",
   "id": "283f5f92-d1a0-46a9-8737-b2f73afd7819",
   "metadata": {},
   "source": [
    "## Confusion Matrix"
   ]
  },
  {
   "cell_type": "code",
   "execution_count": 165,
   "id": "24e7a427-4553-48dc-b03d-d8de5c4a5d5c",
   "metadata": {},
   "outputs": [
    {
     "name": "stderr",
     "output_type": "stream",
     "text": [
      "C:\\Users\\levle\\anaconda3\\Lib\\site-packages\\sklearn\\preprocessing\\_encoders.py:227: UserWarning: Found unknown categories in columns [2] during transform. These unknown categories will be encoded as all zeros\n",
      "  warnings.warn(\n"
     ]
    },
    {
     "data": {
      "image/png": "[encoded data removed]",
      "text/plain": [
       "<Figure size 640x480 with 2 Axes>"
      ]
     },
     "metadata": {},
     "output_type": "display_data"
    }
   ],
   "source": [
    "y_pred = randomized_search.best_estimator_.predict(X_test)\n",
    "\n",
    "# Step 2: Compute the confusion matrix\n",
    "cm = confusion_matrix(y_test, y_pred)\n",
    "\n",
    "# Step 3: Display the confusion matrix\n",
    "disp = ConfusionMatrixDisplay(confusion_matrix=cm, display_labels=['Class 0', 'Class 1'])\n",
    "disp.plot(cmap=plt.cm.Blues)\n",
    "plt.title(\"Confusion Matrix\")\n",
    "plt.show()"
   ]
  },
  {
   "cell_type": "markdown",
   "id": "8df3f90a-e6c6-4bc0-8968-65ad79f494ce",
   "metadata": {},
   "source": [
    "## Настройка RandomizedSearchCV (Recall)"
   ]
  },
  {
   "cell_type": "code",
   "execution_count": 167,
   "id": "e4bac9fc-3042-4e97-9b3b-bf7437dcaf67",
   "metadata": {},
   "outputs": [],
   "source": [
    "randomized_search = RandomizedSearchCV(\n",
    "    pipe_final, \n",
    "    param_distributions=param_grid, \n",
    "    cv=5, \n",
    "    scoring='recall',\n",
    "    random_state=RANDOM_STATE, \n",
    "    n_jobs=-1\n",
    ")"
   ]
  },
  {
   "cell_type": "code",
   "execution_count": 168,
   "id": "8f1105a4-8fce-4d35-8e29-00dbdab6ee09",
   "metadata": {},
   "outputs": [
    {
     "data": {
      "text/html": [
       "<style>#sk-container-id-2 {color: black;}#sk-container-id-2 pre{padding: 0;}#sk-container-id-2 div.sk-toggleable {background-color: white;}#sk-container-id-2 label.sk-toggleable__label {cursor: pointer;display: block;width: 100%;margin-bottom: 0;padding: 0.3em;box-sizing: border-box;text-align: center;}#sk-container-id-2 label.sk-toggleable__label-arrow:before {content: \"▸\";float: left;margin-right: 0.25em;color: #696969;}#sk-container-id-2 label.sk-toggleable__label-arrow:hover:before {color: black;}#sk-container-id-2 div.sk-estimator:hover label.sk-toggleable__label-arrow:before {color: black;}#sk-container-id-2 div.sk-toggleable__content {max-height: 0;max-width: 0;overflow: hidden;text-align: left;background-color: #f0f8ff;}#sk-container-id-2 div.sk-toggleable__content pre {margin: 0.2em;color: black;border-radius: 0.25em;background-color: #f0f8ff;}#sk-container-id-2 input.sk-toggleable__control:checked~div.sk-toggleable__content {max-height: 200px;max-width: 100%;overflow: auto;}#sk-container-id-2 input.sk-toggleable__control:checked~label.sk-toggleable__label-arrow:before {content: \"▾\";}#sk-container-id-2 div.sk-estimator input.sk-toggleable__control:checked~label.sk-toggleable__label {background-color: #d4ebff;}#sk-container-id-2 div.sk-label input.sk-toggleable__control:checked~label.sk-toggleable__label {background-color: #d4ebff;}#sk-container-id-2 input.sk-hidden--visually {border: 0;clip: rect(1px 1px 1px 1px);clip: rect(1px, 1px, 1px, 1px);height: 1px;margin: -1px;overflow: hidden;padding: 0;position: absolute;width: 1px;}#sk-container-id-2 div.sk-estimator {font-family: monospace;background-color: #f0f8ff;border: 1px dotted black;border-radius: 0.25em;box-sizing: border-box;margin-bottom: 0.5em;}#sk-container-id-2 div.sk-estimator:hover {background-color: #d4ebff;}#sk-container-id-2 div.sk-parallel-item::after {content: \"\";width: 100%;border-bottom: 1px solid gray;flex-grow: 1;}#sk-container-id-2 div.sk-label:hover label.sk-toggleable__label {background-color: #d4ebff;}#sk-container-id-2 div.sk-serial::before {content: \"\";position: absolute;border-left: 1px solid gray;box-sizing: border-box;top: 0;bottom: 0;left: 50%;z-index: 0;}#sk-container-id-2 div.sk-serial {display: flex;flex-direction: column;align-items: center;background-color: white;padding-right: 0.2em;padding-left: 0.2em;position: relative;}#sk-container-id-2 div.sk-item {position: relative;z-index: 1;}#sk-container-id-2 div.sk-parallel {display: flex;align-items: stretch;justify-content: center;background-color: white;position: relative;}#sk-container-id-2 div.sk-item::before, #sk-container-id-2 div.sk-parallel-item::before {content: \"\";position: absolute;border-left: 1px solid gray;box-sizing: border-box;top: 0;bottom: 0;left: 50%;z-index: -1;}#sk-container-id-2 div.sk-parallel-item {display: flex;flex-direction: column;z-index: 1;position: relative;background-color: white;}#sk-container-id-2 div.sk-parallel-item:first-child::after {align-self: flex-end;width: 50%;}#sk-container-id-2 div.sk-parallel-item:last-child::after {align-self: flex-start;width: 50%;}#sk-container-id-2 div.sk-parallel-item:only-child::after {width: 0;}#sk-container-id-2 div.sk-dashed-wrapped {border: 1px dashed gray;margin: 0 0.4em 0.5em 0.4em;box-sizing: border-box;padding-bottom: 0.4em;background-color: white;}#sk-container-id-2 div.sk-label label {font-family: monospace;font-weight: bold;display: inline-block;line-height: 1.2em;}#sk-container-id-2 div.sk-label-container {text-align: center;}#sk-container-id-2 div.sk-container {/* jupyter's `normalize.less` sets `[hidden] { display: none; }` but bootstrap.min.css set `[hidden] { display: none !important; }` so we also need the `!important` here to be able to override the default hidden behavior on the sphinx rendered scikit-learn.org. See: https://github.com/scikit-learn/scikit-learn/issues/21755 */display: inline-block !important;position: relative;}#sk-container-id-2 div.sk-text-repr-fallback {display: none;}</style><div id=\"sk-container-id-2\" class=\"sk-top-container\"><div class=\"sk-text-repr-fallback\"><pre>RandomizedSearchCV(cv=5,\n",
       "                   estimator=Pipeline(steps=[(&#x27;preprocessor&#x27;,\n",
       "                                              ColumnTransformer(remainder=&#x27;passthrough&#x27;,\n",
       "                                                                transformers=[(&#x27;ohe&#x27;,\n",
       "                                                                               Pipeline(steps=[(&#x27;simpleImputer_ohe&#x27;,\n",
       "                                                                                                SimpleImputer(strategy=&#x27;most_frequent&#x27;)),\n",
       "                                                                                               (&#x27;ohe&#x27;,\n",
       "                                                                                                OneHotEncoder(drop=&#x27;first&#x27;,\n",
       "                                                                                                              handle_unknown=&#x27;ignore&#x27;,\n",
       "                                                                                                              sparse_output=False))]),\n",
       "                                                                               [&#x27;customer_type&#x27;,\n",
       "                                                                                &#x27;event&#x27;,\n",
       "                                                                                &#x27;Most_Frequent_Category&#x27;]),\n",
       "                                                                              (&#x27;num&#x27;,\n",
       "                                                                               Pi...\n",
       "                                                                  random_state=42,\n",
       "                                                                  subsample=0.7)],\n",
       "                                         &#x27;model__colsample_bytree&#x27;: [0.7, 0.8,\n",
       "                                                                     1.0],\n",
       "                                         &#x27;model__learning_rate&#x27;: [0.01, 0.1,\n",
       "                                                                  0.2],\n",
       "                                         &#x27;model__max_depth&#x27;: [3, 5, 7, -1],\n",
       "                                         &#x27;model__n_estimators&#x27;: [50, 100, 200,\n",
       "                                                                 300],\n",
       "                                         &#x27;model__num_leaves&#x27;: [15, 31, 63],\n",
       "                                         &#x27;model__subsample&#x27;: [0.7, 0.8, 1.0],\n",
       "                                         &#x27;preprocessor__num__scaler&#x27;: [StandardScaler(),\n",
       "                                                                       MinMaxScaler(),\n",
       "                                                                       &#x27;passthrough&#x27;]}],\n",
       "                   random_state=42, scoring=&#x27;recall&#x27;)</pre><b>In a Jupyter environment, please rerun this cell to show the HTML representation or trust the notebook. <br />On GitHub, the HTML representation is unable to render, please try loading this page with nbviewer.org.</b></div><div class=\"sk-container\" hidden><div class=\"sk-item sk-dashed-wrapped\"><div class=\"sk-label-container\"><div class=\"sk-label sk-toggleable\"><input class=\"sk-toggleable__control sk-hidden--visually\" id=\"sk-estimator-id-17\" type=\"checkbox\" ><label for=\"sk-estimator-id-17\" class=\"sk-toggleable__label sk-toggleable__label-arrow\">RandomizedSearchCV</label><div class=\"sk-toggleable__content\"><pre>RandomizedSearchCV(cv=5,\n",
       "                   estimator=Pipeline(steps=[(&#x27;preprocessor&#x27;,\n",
       "                                              ColumnTransformer(remainder=&#x27;passthrough&#x27;,\n",
       "                                                                transformers=[(&#x27;ohe&#x27;,\n",
       "                                                                               Pipeline(steps=[(&#x27;simpleImputer_ohe&#x27;,\n",
       "                                                                                                SimpleImputer(strategy=&#x27;most_frequent&#x27;)),\n",
       "                                                                                               (&#x27;ohe&#x27;,\n",
       "                                                                                                OneHotEncoder(drop=&#x27;first&#x27;,\n",
       "                                                                                                              handle_unknown=&#x27;ignore&#x27;,\n",
       "                                                                                                              sparse_output=False))]),\n",
       "                                                                               [&#x27;customer_type&#x27;,\n",
       "                                                                                &#x27;event&#x27;,\n",
       "                                                                                &#x27;Most_Frequent_Category&#x27;]),\n",
       "                                                                              (&#x27;num&#x27;,\n",
       "                                                                               Pi...\n",
       "                                                                  random_state=42,\n",
       "                                                                  subsample=0.7)],\n",
       "                                         &#x27;model__colsample_bytree&#x27;: [0.7, 0.8,\n",
       "                                                                     1.0],\n",
       "                                         &#x27;model__learning_rate&#x27;: [0.01, 0.1,\n",
       "                                                                  0.2],\n",
       "                                         &#x27;model__max_depth&#x27;: [3, 5, 7, -1],\n",
       "                                         &#x27;model__n_estimators&#x27;: [50, 100, 200,\n",
       "                                                                 300],\n",
       "                                         &#x27;model__num_leaves&#x27;: [15, 31, 63],\n",
       "                                         &#x27;model__subsample&#x27;: [0.7, 0.8, 1.0],\n",
       "                                         &#x27;preprocessor__num__scaler&#x27;: [StandardScaler(),\n",
       "                                                                       MinMaxScaler(),\n",
       "                                                                       &#x27;passthrough&#x27;]}],\n",
       "                   random_state=42, scoring=&#x27;recall&#x27;)</pre></div></div></div><div class=\"sk-parallel\"><div class=\"sk-parallel-item\"><div class=\"sk-item\"><div class=\"sk-label-container\"><div class=\"sk-label sk-toggleable\"><input class=\"sk-toggleable__control sk-hidden--visually\" id=\"sk-estimator-id-18\" type=\"checkbox\" ><label for=\"sk-estimator-id-18\" class=\"sk-toggleable__label sk-toggleable__label-arrow\">estimator: Pipeline</label><div class=\"sk-toggleable__content\"><pre>Pipeline(steps=[(&#x27;preprocessor&#x27;,\n",
       "                 ColumnTransformer(remainder=&#x27;passthrough&#x27;,\n",
       "                                   transformers=[(&#x27;ohe&#x27;,\n",
       "                                                  Pipeline(steps=[(&#x27;simpleImputer_ohe&#x27;,\n",
       "                                                                   SimpleImputer(strategy=&#x27;most_frequent&#x27;)),\n",
       "                                                                  (&#x27;ohe&#x27;,\n",
       "                                                                   OneHotEncoder(drop=&#x27;first&#x27;,\n",
       "                                                                                 handle_unknown=&#x27;ignore&#x27;,\n",
       "                                                                                 sparse_output=False))]),\n",
       "                                                  [&#x27;customer_type&#x27;, &#x27;event&#x27;,\n",
       "                                                   &#x27;Most_Frequent_Category&#x27;]),\n",
       "                                                 (&#x27;num&#x27;,\n",
       "                                                  Pipeline(steps=[(&#x27;simpleImputer_num&#x27;...\n",
       "                                                   &#x27;days_between_extraction_last_order&#x27;]),\n",
       "                                                 (&#x27;poly&#x27;,\n",
       "                                                  Pipeline(steps=[(&#x27;simpleImputer_num&#x27;,\n",
       "                                                                   SimpleImputer()),\n",
       "                                                                  (&#x27;poly&#x27;,\n",
       "                                                                   PolynomialFeatures()),\n",
       "                                                                  (&#x27;scaler&#x27;,\n",
       "                                                                   StandardScaler())]),\n",
       "                                                  [&#x27;order_count&#x27;,\n",
       "                                                   &#x27;avg_days_until_next_order&#x27;,\n",
       "                                                   &#x27;avg_order_spent&#x27;,\n",
       "                                                   &#x27;avg_items_per_order&#x27;,\n",
       "                                                   &#x27;avg_items_price&#x27;,\n",
       "                                                   &#x27;days_between_extraction_last_order&#x27;])])),\n",
       "                (&#x27;model&#x27;, DecisionTreeClassifier(random_state=42))])</pre></div></div></div><div class=\"sk-serial\"><div class=\"sk-item\"><div class=\"sk-serial\"><div class=\"sk-item sk-dashed-wrapped\"><div class=\"sk-label-container\"><div class=\"sk-label sk-toggleable\"><input class=\"sk-toggleable__control sk-hidden--visually\" id=\"sk-estimator-id-19\" type=\"checkbox\" ><label for=\"sk-estimator-id-19\" class=\"sk-toggleable__label sk-toggleable__label-arrow\">preprocessor: ColumnTransformer</label><div class=\"sk-toggleable__content\"><pre>ColumnTransformer(remainder=&#x27;passthrough&#x27;,\n",
       "                  transformers=[(&#x27;ohe&#x27;,\n",
       "                                 Pipeline(steps=[(&#x27;simpleImputer_ohe&#x27;,\n",
       "                                                  SimpleImputer(strategy=&#x27;most_frequent&#x27;)),\n",
       "                                                 (&#x27;ohe&#x27;,\n",
       "                                                  OneHotEncoder(drop=&#x27;first&#x27;,\n",
       "                                                                handle_unknown=&#x27;ignore&#x27;,\n",
       "                                                                sparse_output=False))]),\n",
       "                                 [&#x27;customer_type&#x27;, &#x27;event&#x27;,\n",
       "                                  &#x27;Most_Frequent_Category&#x27;]),\n",
       "                                (&#x27;num&#x27;,\n",
       "                                 Pipeline(steps=[(&#x27;simpleImputer_num&#x27;,\n",
       "                                                  SimpleImputer()),\n",
       "                                                 (&#x27;scaler&#x27;, Stan...\n",
       "                                  &#x27;avg_order_spent&#x27;, &#x27;avg_items_per_order&#x27;,\n",
       "                                  &#x27;avg_items_price&#x27;,\n",
       "                                  &#x27;days_between_extraction_last_order&#x27;]),\n",
       "                                (&#x27;poly&#x27;,\n",
       "                                 Pipeline(steps=[(&#x27;simpleImputer_num&#x27;,\n",
       "                                                  SimpleImputer()),\n",
       "                                                 (&#x27;poly&#x27;, PolynomialFeatures()),\n",
       "                                                 (&#x27;scaler&#x27;, StandardScaler())]),\n",
       "                                 [&#x27;order_count&#x27;, &#x27;avg_days_until_next_order&#x27;,\n",
       "                                  &#x27;avg_order_spent&#x27;, &#x27;avg_items_per_order&#x27;,\n",
       "                                  &#x27;avg_items_price&#x27;,\n",
       "                                  &#x27;days_between_extraction_last_order&#x27;])])</pre></div></div></div><div class=\"sk-parallel\"><div class=\"sk-parallel-item\"><div class=\"sk-item\"><div class=\"sk-label-container\"><div class=\"sk-label sk-toggleable\"><input class=\"sk-toggleable__control sk-hidden--visually\" id=\"sk-estimator-id-20\" type=\"checkbox\" ><label for=\"sk-estimator-id-20\" class=\"sk-toggleable__label sk-toggleable__label-arrow\">ohe</label><div class=\"sk-toggleable__content\"><pre>[&#x27;customer_type&#x27;, &#x27;event&#x27;, &#x27;Most_Frequent_Category&#x27;]</pre></div></div></div><div class=\"sk-serial\"><div class=\"sk-item\"><div class=\"sk-serial\"><div class=\"sk-item\"><div class=\"sk-estimator sk-toggleable\"><input class=\"sk-toggleable__control sk-hidden--visually\" id=\"sk-estimator-id-21\" type=\"checkbox\" ><label for=\"sk-estimator-id-21\" class=\"sk-toggleable__label sk-toggleable__label-arrow\">SimpleImputer</label><div class=\"sk-toggleable__content\"><pre>SimpleImputer(strategy=&#x27;most_frequent&#x27;)</pre></div></div></div><div class=\"sk-item\"><div class=\"sk-estimator sk-toggleable\"><input class=\"sk-toggleable__control sk-hidden--visually\" id=\"sk-estimator-id-22\" type=\"checkbox\" ><label for=\"sk-estimator-id-22\" class=\"sk-toggleable__label sk-toggleable__label-arrow\">OneHotEncoder</label><div class=\"sk-toggleable__content\"><pre>OneHotEncoder(drop=&#x27;first&#x27;, handle_unknown=&#x27;ignore&#x27;, sparse_output=False)</pre></div></div></div></div></div></div></div></div><div class=\"sk-parallel-item\"><div class=\"sk-item\"><div class=\"sk-label-container\"><div class=\"sk-label sk-toggleable\"><input class=\"sk-toggleable__control sk-hidden--visually\" id=\"sk-estimator-id-23\" type=\"checkbox\" ><label for=\"sk-estimator-id-23\" class=\"sk-toggleable__label sk-toggleable__label-arrow\">num</label><div class=\"sk-toggleable__content\"><pre>[&#x27;order_count&#x27;, &#x27;avg_days_until_next_order&#x27;, &#x27;avg_order_spent&#x27;, &#x27;avg_items_per_order&#x27;, &#x27;avg_items_price&#x27;, &#x27;days_between_extraction_last_order&#x27;]</pre></div></div></div><div class=\"sk-serial\"><div class=\"sk-item\"><div class=\"sk-serial\"><div class=\"sk-item\"><div class=\"sk-estimator sk-toggleable\"><input class=\"sk-toggleable__control sk-hidden--visually\" id=\"sk-estimator-id-24\" type=\"checkbox\" ><label for=\"sk-estimator-id-24\" class=\"sk-toggleable__label sk-toggleable__label-arrow\">SimpleImputer</label><div class=\"sk-toggleable__content\"><pre>SimpleImputer()</pre></div></div></div><div class=\"sk-item\"><div class=\"sk-estimator sk-toggleable\"><input class=\"sk-toggleable__control sk-hidden--visually\" id=\"sk-estimator-id-25\" type=\"checkbox\" ><label for=\"sk-estimator-id-25\" class=\"sk-toggleable__label sk-toggleable__label-arrow\">StandardScaler</label><div class=\"sk-toggleable__content\"><pre>StandardScaler()</pre></div></div></div></div></div></div></div></div><div class=\"sk-parallel-item\"><div class=\"sk-item\"><div class=\"sk-label-container\"><div class=\"sk-label sk-toggleable\"><input class=\"sk-toggleable__control sk-hidden--visually\" id=\"sk-estimator-id-26\" type=\"checkbox\" ><label for=\"sk-estimator-id-26\" class=\"sk-toggleable__label sk-toggleable__label-arrow\">poly</label><div class=\"sk-toggleable__content\"><pre>[&#x27;order_count&#x27;, &#x27;avg_days_until_next_order&#x27;, &#x27;avg_order_spent&#x27;, &#x27;avg_items_per_order&#x27;, &#x27;avg_items_price&#x27;, &#x27;days_between_extraction_last_order&#x27;]</pre></div></div></div><div class=\"sk-serial\"><div class=\"sk-item\"><div class=\"sk-serial\"><div class=\"sk-item\"><div class=\"sk-estimator sk-toggleable\"><input class=\"sk-toggleable__control sk-hidden--visually\" id=\"sk-estimator-id-27\" type=\"checkbox\" ><label for=\"sk-estimator-id-27\" class=\"sk-toggleable__label sk-toggleable__label-arrow\">SimpleImputer</label><div class=\"sk-toggleable__content\"><pre>SimpleImputer()</pre></div></div></div><div class=\"sk-item\"><div class=\"sk-estimator sk-toggleable\"><input class=\"sk-toggleable__control sk-hidden--visually\" id=\"sk-estimator-id-28\" type=\"checkbox\" ><label for=\"sk-estimator-id-28\" class=\"sk-toggleable__label sk-toggleable__label-arrow\">PolynomialFeatures</label><div class=\"sk-toggleable__content\"><pre>PolynomialFeatures()</pre></div></div></div><div class=\"sk-item\"><div class=\"sk-estimator sk-toggleable\"><input class=\"sk-toggleable__control sk-hidden--visually\" id=\"sk-estimator-id-29\" type=\"checkbox\" ><label for=\"sk-estimator-id-29\" class=\"sk-toggleable__label sk-toggleable__label-arrow\">StandardScaler</label><div class=\"sk-toggleable__content\"><pre>StandardScaler()</pre></div></div></div></div></div></div></div></div><div class=\"sk-parallel-item\"><div class=\"sk-item\"><div class=\"sk-label-container\"><div class=\"sk-label sk-toggleable\"><input class=\"sk-toggleable__control sk-hidden--visually\" id=\"sk-estimator-id-30\" type=\"checkbox\" ><label for=\"sk-estimator-id-30\" class=\"sk-toggleable__label sk-toggleable__label-arrow\">remainder</label><div class=\"sk-toggleable__content\"><pre></pre></div></div></div><div class=\"sk-serial\"><div class=\"sk-item\"><div class=\"sk-estimator sk-toggleable\"><input class=\"sk-toggleable__control sk-hidden--visually\" id=\"sk-estimator-id-31\" type=\"checkbox\" ><label for=\"sk-estimator-id-31\" class=\"sk-toggleable__label sk-toggleable__label-arrow\">passthrough</label><div class=\"sk-toggleable__content\"><pre>passthrough</pre></div></div></div></div></div></div></div></div><div class=\"sk-item\"><div class=\"sk-estimator sk-toggleable\"><input class=\"sk-toggleable__control sk-hidden--visually\" id=\"sk-estimator-id-32\" type=\"checkbox\" ><label for=\"sk-estimator-id-32\" class=\"sk-toggleable__label sk-toggleable__label-arrow\">DecisionTreeClassifier</label><div class=\"sk-toggleable__content\"><pre>DecisionTreeClassifier(random_state=42)</pre></div></div></div></div></div></div></div></div></div></div></div></div>"
      ],
      "text/plain": [
       "RandomizedSearchCV(cv=5,\n",
       "                   estimator=Pipeline(steps=[('preprocessor',\n",
       "                                              ColumnTransformer(remainder='passthrough',\n",
       "                                                                transformers=[('ohe',\n",
       "                                                                               Pipeline(steps=[('simpleImputer_ohe',\n",
       "                                                                                                SimpleImputer(strategy='most_frequent')),\n",
       "                                                                                               ('ohe',\n",
       "                                                                                                OneHotEncoder(drop='first',\n",
       "                                                                                                              handle_unknown='ignore',\n",
       "                                                                                                              sparse_output=False))]),\n",
       "                                                                               ['customer_type',\n",
       "                                                                                'event',\n",
       "                                                                                'Most_Frequent_Category']),\n",
       "                                                                              ('num',\n",
       "                                                                               Pi...\n",
       "                                                                  random_state=42,\n",
       "                                                                  subsample=0.7)],\n",
       "                                         'model__colsample_bytree': [0.7, 0.8,\n",
       "                                                                     1.0],\n",
       "                                         'model__learning_rate': [0.01, 0.1,\n",
       "                                                                  0.2],\n",
       "                                         'model__max_depth': [3, 5, 7, -1],\n",
       "                                         'model__n_estimators': [50, 100, 200,\n",
       "                                                                 300],\n",
       "                                         'model__num_leaves': [15, 31, 63],\n",
       "                                         'model__subsample': [0.7, 0.8, 1.0],\n",
       "                                         'preprocessor__num__scaler': [StandardScaler(),\n",
       "                                                                       MinMaxScaler(),\n",
       "                                                                       'passthrough']}],\n",
       "                   random_state=42, scoring='recall')"
      ]
     },
     "execution_count": 168,
     "metadata": {},
     "output_type": "execute_result"
    }
   ],
   "source": [
    "randomized_search.fit(X_train, y_train)"
   ]
  },
  {
   "cell_type": "code",
   "execution_count": 169,
   "id": "d1d1d85e-28d9-49bd-b81c-98d943a53915",
   "metadata": {},
   "outputs": [],
   "source": [
    "best_params_recall = randomized_search.best_params_\n",
    "best_score_recall = randomized_search.best_score_\n",
    "best_model_recall = randomized_search.best_estimator_"
   ]
  },
  {
   "cell_type": "code",
   "execution_count": 170,
   "id": "d4a8a04f-ed90-48ae-a3b3-ae9850108270",
   "metadata": {},
   "outputs": [
    {
     "data": {
      "text/plain": [
       "{'preprocessor__num__scaler': 'passthrough',\n",
       " 'model__kernel': 'poly',\n",
       " 'model__gamma': 'scale',\n",
       " 'model__C': 10,\n",
       " 'model': SVC(C=10, class_weight='balanced', kernel='poly', random_state=42)}"
      ]
     },
     "execution_count": 170,
     "metadata": {},
     "output_type": "execute_result"
    }
   ],
   "source": [
    "best_params_recall"
   ]
  },
  {
   "cell_type": "code",
   "execution_count": 171,
   "id": "4be1a212-0a51-4d30-a026-5b81ce3a1ed3",
   "metadata": {},
   "outputs": [
    {
     "data": {
      "text/plain": [
       "0.8951443986036178"
      ]
     },
     "execution_count": 171,
     "metadata": {},
     "output_type": "execute_result"
    }
   ],
   "source": [
    "best_score_recall"
   ]
  },
  {
   "cell_type": "code",
   "execution_count": 172,
   "id": "72425139-d600-43d8-8f24-11fd88c6f202",
   "metadata": {},
   "outputs": [
    {
     "name": "stderr",
     "output_type": "stream",
     "text": [
      "C:\\Users\\levle\\anaconda3\\Lib\\site-packages\\sklearn\\preprocessing\\_encoders.py:227: UserWarning: Found unknown categories in columns [2] during transform. These unknown categories will be encoded as all zeros\n",
      "  warnings.warn(\n"
     ]
    },
    {
     "data": {
      "image/png": "[encoded data removed]",
      "text/plain": [
       "<Figure size 640x480 with 2 Axes>"
      ]
     },
     "metadata": {},
     "output_type": "display_data"
    }
   ],
   "source": [
    "y_pred = best_model_recall.predict(X_test)\n",
    "\n",
    "# Step 2: Compute the confusion matrix\n",
    "cm = confusion_matrix(y_test, y_pred)\n",
    "\n",
    "# Step 3: Display the confusion matrix\n",
    "disp = ConfusionMatrixDisplay(confusion_matrix=cm, display_labels=['Class 0', 'Class 1'])\n",
    "disp.plot(cmap=plt.cm.Blues)\n",
    "plt.title(\"Confusion Matrix\")\n",
    "plt.show()"
   ]
  },
  {
   "cell_type": "code",
   "execution_count": 173,
   "id": "dc1d61d0-de25-48a3-be61-29ecaaaa57ad",
   "metadata": {},
   "outputs": [
    {
     "data": {
      "text/plain": [
       "target\n",
       "0    48888\n",
       "1      961\n",
       "Name: count, dtype: int64"
      ]
     },
     "execution_count": 173,
     "metadata": {},
     "output_type": "execute_result"
    }
   ],
   "source": [
    "target['target'].value_counts()"
   ]
  },
  {
   "cell_type": "code",
   "execution_count": 320,
   "id": "e43dda09-cb4d-4691-8bed-a216913dcfa0",
   "metadata": {},
   "outputs": [
    {
     "data": {
      "text/plain": [
       "0.01927822022507974"
      ]
     },
     "execution_count": 320,
     "metadata": {},
     "output_type": "execute_result"
    }
   ],
   "source": [
    "961/(48888+961)"
   ]
  },
  {
   "cell_type": "markdown",
   "id": "2caf13f2-b769-4b57-b705-2a9893c24881",
   "metadata": {},
   "source": [
    "## Вывод \n",
    "\n",
    "- Лучшая модель для roc_auc (0,712) была найдена и имеет такие параметры: 'model': LGBMClassifier(colsample_bytree=0.8, max_depth=3, random_state=42, subsample=0.7)}\n",
    "- Альтернативная модель нацеленная на Рекол (0,895) имеет такие параметры: 'model': SVC(C=10, class_weight='balanced', kernel='poly', random_state=42)}\n",
    "- Если компании главное не упустить ни одного потенциального клиента тогда следует фокусироваться на модели Рекол, если же нам важнее не беспокоить лишний раз мало вероятных клиентов то можно использовать roc_auc но тогда мы пропускаем почти всех потенциальных клиентов\n",
    "- Но учитывая то что заказчик просит использовать roc_auc, то далее будем смотреть только на модель roc_auc\n",
    "- в дате есть сильный дисбаланс классов. всего лишь 2% конверсий"
   ]
  },
  {
   "cell_type": "code",
   "execution_count": null,
   "id": "8eb4d40d-a730-4310-bfbd-838c2ef7c10c",
   "metadata": {},
   "outputs": [],
   "source": []
  },
  {
   "cell_type": "markdown",
   "id": "06e66691-848b-4e31-a8b1-31e4c67690e4",
   "metadata": {},
   "source": [
    "# Значимость признаков"
   ]
  },
  {
   "cell_type": "code",
   "execution_count": 176,
   "id": "9da370b2-98aa-4623-b7ea-fe20968f1f84",
   "metadata": {},
   "outputs": [],
   "source": [
    "feature_importance = best_model.named_steps['model'].feature_importances_"
   ]
  },
  {
   "cell_type": "code",
   "execution_count": null,
   "id": "6a7002a5-9218-4adc-8262-c59a9c5288fc",
   "metadata": {},
   "outputs": [],
   "source": []
  },
  {
   "cell_type": "code",
   "execution_count": 177,
   "id": "777e425b-2d27-40e6-a625-df18f0a32db6",
   "metadata": {},
   "outputs": [],
   "source": [
    "feature_names = best_model.named_steps['preprocessor'].get_feature_names_out()"
   ]
  },
  {
   "cell_type": "code",
   "execution_count": 178,
   "id": "5dedb9af-125c-4405-a0a7-af9009956818",
   "metadata": {},
   "outputs": [],
   "source": [
    "importance_df = pd.DataFrame({\n",
    "    'Feature': feature_names,\n",
    "    'Importance': feature_importance\n",
    "}).sort_values(by='Importance', ascending=False)"
   ]
  },
  {
   "cell_type": "code",
   "execution_count": 179,
   "id": "6ee37009-9627-4d46-91e9-77c2ba2c3d42",
   "metadata": {},
   "outputs": [],
   "source": [
    "top_20_features = importance_df.head(20)"
   ]
  },
  {
   "cell_type": "code",
   "execution_count": 180,
   "id": "262d16b2-e23e-42a7-90c6-12c5a1391b81",
   "metadata": {},
   "outputs": [
    {
     "data": {
      "image/png": "[encoded data removed]",
      "text/plain": [
       "<Figure size 1000x600 with 1 Axes>"
      ]
     },
     "metadata": {},
     "output_type": "display_data"
    }
   ],
   "source": [
    "plt.figure(figsize=(10, 6))\n",
    "plt.barh(top_20_features['Feature'], top_20_features['Importance'])\n",
    "plt.gca().invert_yaxis()  # Invert y-axis for better readability\n",
    "plt.title('Top 20 Feature Importances')\n",
    "plt.xlabel('Importance')\n",
    "plt.ylabel('Features')\n",
    "plt.show()"
   ]
  },
  {
   "cell_type": "markdown",
   "id": "b9751593-6d79-4b02-bf50-0c2b0591717a",
   "metadata": {},
   "source": [
    "# Вывод"
   ]
  },
  {
   "cell_type": "markdown",
   "id": "c92e1cae-ecd8-42f0-aaa6-d291cff5623a",
   "metadata": {},
   "source": [
    "Что было сделанно?\n",
    "\n",
    "- проведена загрузка данных\n",
    "- сделан анализ датасетов\n",
    "- соединение датасетов\n",
    "- создание профиля клиента с метриками\n",
    "- проверка на мульткоррелиальность\n",
    "- создание пайплайна\n",
    "- обучение 2 моделей\n",
    "- график топ 20 признаков\n",
    "\n",
    "Какой вывод?\n",
    "\n",
    "Главный вывод в том что бизнессу возможно стоит пересмотреть целевую метрику и сделать её реколом. К сожадению фокусируясь на roc_auc метрике мы слишком стремимся к тому чтобу не было ошибок из-за чего мы не можем предсказать потенциального покупателя (стоит учесть что только 2% клиентов будут конвертированны, что создаёт огромный дисбаланс классов и возможно не большую выборку TP. \n",
    "\n",
    "Рекомендации:\n",
    "\n",
    "- Добавить признаков. Например можно добавить продукт айди и с помощью него стандартизировать категории.Возможно смотреть на то из-за чего клиенты изначально совершили покупку, некоторые клиенты возвращаются на скидочные  предложения (у нас этой информации здесь нет), способ оплаты и тд\n",
    "- Возможно стоит поговорить с маркетологами и узнать какие еще факторы они считают полезными для предсказаний\n",
    "- зачем нам предоставленна информация по клиентам которые отписались?\n",
    "- Больше примеров конвертации\n",
    "- Поменять метрику измирения модели на рекол\n",
    "- нужно больше положительных признаков\n"
   ]
  },
  {
   "cell_type": "code",
   "execution_count": null,
   "id": "2882d259-03ca-4cc9-a2ed-3f68d998dee7",
   "metadata": {},
   "outputs": [],
   "source": []
  }
 ],
 "metadata": {
  "kernelspec": {
   "display_name": "Python 3 (ipykernel)",
   "language": "python",
   "name": "python3"
  },
  "language_info": {
   "codemirror_mode": {
    "name": "ipython",
    "version": 3
   },
   "file_extension": ".py",
   "mimetype": "text/x-python",
   "name": "python",
   "nbconvert_exporter": "python",
   "pygments_lexer": "ipython3",
   "version": "3.11.5"
  }
 },
 "nbformat": 4,
 "nbformat_minor": 5
}
